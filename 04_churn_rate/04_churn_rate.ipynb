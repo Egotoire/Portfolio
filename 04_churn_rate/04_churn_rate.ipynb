{
  "nbformat": 4,
  "nbformat_minor": 0,
  "metadata": {
    "colab": {
      "provenance": [],
      "toc_visible": true
    },
    "kernelspec": {
      "name": "python3",
      "display_name": "Python 3"
    },
    "language_info": {
      "name": "python"
    }
  },
  "cells": [
    {
      "cell_type": "markdown",
      "source": [
        "# Прогнозирование оттока клиента Банка"
      ],
      "metadata": {
        "id": "a4-bdEMY39ud"
      }
    },
    {
      "cell_type": "markdown",
      "source": [
        "## Описание проекта\n",
        "Из «Бета-Банка» стали уходить клиенты. Каждый месяц. Немного, но заметно. Банковские маркетологи посчитали: сохранять текущих клиентов дешевле, чем привлекать новых.\n",
        "\n",
        "Нужно спрогнозировать, уйдёт клиент из банка в ближайшее время или нет. Вам предоставлены исторические данные о поведении клиентов и расторжении договоров с банком.\n",
        "\n",
        "**Цель проекта:**\n",
        "\n",
        "Построить модель с предельно большим значением F1-меры, нужно довести метрику до 0.59. Проверьте F1-меру на тестовой выборке самостоятельно.\n",
        "Дополнительно измеряйте AUC-ROC, сравнивайте её значение с F1-мерой."
      ],
      "metadata": {
        "id": "dHl_R_Wz4K9j"
      }
    },
    {
      "cell_type": "markdown",
      "source": [
        "## Описание данных\n",
        "**Признаки**\n",
        "- RowNumber — индекс строки в данных\n",
        "- CustomerId — уникальный идентификатор клиента\n",
        "- Surname — фамилия\n",
        "- CreditScore — кредитный рейтинг\n",
        "- Geography — страна проживания\n",
        "- Gender — пол\n",
        "- Age — возраст\n",
        "- Tenure — сколько лет человек является клиентом банка\n",
        "- Balance — баланс на счёте\n",
        "- NumOfProducts — количество продуктов банка, используемых клиентом\n",
        "- HasCrCard — наличие кредитной карты\n",
        "- IsActiveMember — активность клиента\n",
        "- EstimatedSalary — предполагаемая зарплата\n",
        "\n",
        "**Целевой признак**\n",
        "- Exited — факт ухода клиента"
      ],
      "metadata": {
        "id": "MZf9sOLQ4fwV"
      }
    },
    {
      "cell_type": "markdown",
      "source": [
        "## Загрузка библиотек"
      ],
      "metadata": {
        "id": "UGF4N07s50kk"
      }
    },
    {
      "cell_type": "code",
      "execution_count": 1,
      "metadata": {
        "colab": {
          "base_uri": "https://localhost:8080/"
        },
        "id": "62los-I-3I7x",
        "outputId": "0a6a0c12-d307-429d-f2c2-1535879cf965"
      },
      "outputs": [
        {
          "output_type": "stream",
          "name": "stdout",
          "text": [
            "Mounted at /content/drive\n"
          ]
        }
      ],
      "source": [
        "import pandas as pd\n",
        "import numpy as np\n",
        "\n",
        "#визуализация\n",
        "import matplotlib.pyplot as plt\n",
        "import seaborn as sns\n",
        "from plotly import graph_objects as go\n",
        "from plotly.subplots import make_subplots\n",
        "\n",
        "\n",
        "#другое\n",
        "pd.options.display.expand_frame_repr = False\n",
        "import warnings\n",
        "warnings.filterwarnings('ignore')\n",
        "\n",
        "#загрузка файлов с диска\n",
        "from google.colab import drive\n",
        "drive.mount('/content/drive')\n",
        "\n",
        "#ML\n",
        "from sklearn.dummy import DummyClassifier\n",
        "from sklearn.ensemble import RandomForestClassifier\n",
        "from sklearn.linear_model import LogisticRegression\n",
        "from sklearn.tree import DecisionTreeClassifier\n",
        "\n",
        "from sklearn.metrics import classification_report\n",
        "from sklearn.metrics import confusion_matrix\n",
        "from sklearn.metrics import f1_score\n",
        "from sklearn.metrics import roc_auc_score\n",
        "from sklearn.metrics import roc_curve\n",
        "\n",
        "from sklearn.model_selection import train_test_split\n",
        "from sklearn.preprocessing import StandardScaler\n",
        "from sklearn.utils import shuffle"
      ]
    },
    {
      "cell_type": "markdown",
      "source": [
        "## Загрузка и предобработка данных"
      ],
      "metadata": {
        "id": "4l6mqHQ66OYJ"
      }
    },
    {
      "cell_type": "code",
      "source": [
        "df = pd.read_csv('/content/drive/My Drive/Colab Notebooks/datasets/4_churn_rate.csv')\n",
        "df.sample(10)"
      ],
      "metadata": {
        "colab": {
          "base_uri": "https://localhost:8080/",
          "height": 427
        },
        "id": "8WFYNgPP6R5p",
        "outputId": "27381c31-7b18-4372-c678-291b44ede435"
      },
      "execution_count": 2,
      "outputs": [
        {
          "output_type": "execute_result",
          "data": {
            "text/plain": [
              "      RowNumber  CustomerId    Surname  CreditScore Geography  Gender  Age  Tenure    Balance  NumOfProducts  HasCrCard  IsActiveMember  EstimatedSalary  Exited\n",
              "6105       6106    15605134       Bond          617    France  Female   34     0.0  131244.65              2          1               0        183229.02       0\n",
              "4153       4154    15664001     Riddle          695   Germany  Female   53     NaN   95231.91              1          0               0         70140.80       1\n",
              "8051       8052    15697801   Sokolova          605   Germany  Female   56     1.0   74129.18              2          1               1         62199.78       1\n",
              "5607       5608    15771728  Mackenzie          641   Germany    Male   41     7.0  104405.54              3          1               0         17384.21       0\n",
              "1953       1954    15675190       Chia          623    France    Male   21    10.0       0.00              2          0               1        135851.30       0\n",
              "4207       4208    15732774   Marchesi          656    France    Male   37     7.0  112291.34              1          1               0        153157.97       0\n",
              "8140       8141    15572022        Han          605    France  Female   36     6.0       0.00              1          0               1           690.84       0\n",
              "3904       3905    15566633    Freeman          698   Germany    Male   55     8.0  155059.10              2          1               1        144584.29       0\n",
              "9477       9478    15592104       Lane          655    France  Female   41     5.0       0.00              1          0               0         36548.00       1\n",
              "3902       3903    15720305      Power          591     Spain  Female   40     1.0   86376.29              1          0               1        136767.16       1"
            ],
            "text/html": [
              "\n",
              "  <div id=\"df-6f7d5dcd-ddd8-4f1a-9d8f-74290502cf7c\">\n",
              "    <div class=\"colab-df-container\">\n",
              "      <div>\n",
              "<style scoped>\n",
              "    .dataframe tbody tr th:only-of-type {\n",
              "        vertical-align: middle;\n",
              "    }\n",
              "\n",
              "    .dataframe tbody tr th {\n",
              "        vertical-align: top;\n",
              "    }\n",
              "\n",
              "    .dataframe thead th {\n",
              "        text-align: right;\n",
              "    }\n",
              "</style>\n",
              "<table border=\"1\" class=\"dataframe\">\n",
              "  <thead>\n",
              "    <tr style=\"text-align: right;\">\n",
              "      <th></th>\n",
              "      <th>RowNumber</th>\n",
              "      <th>CustomerId</th>\n",
              "      <th>Surname</th>\n",
              "      <th>CreditScore</th>\n",
              "      <th>Geography</th>\n",
              "      <th>Gender</th>\n",
              "      <th>Age</th>\n",
              "      <th>Tenure</th>\n",
              "      <th>Balance</th>\n",
              "      <th>NumOfProducts</th>\n",
              "      <th>HasCrCard</th>\n",
              "      <th>IsActiveMember</th>\n",
              "      <th>EstimatedSalary</th>\n",
              "      <th>Exited</th>\n",
              "    </tr>\n",
              "  </thead>\n",
              "  <tbody>\n",
              "    <tr>\n",
              "      <th>6105</th>\n",
              "      <td>6106</td>\n",
              "      <td>15605134</td>\n",
              "      <td>Bond</td>\n",
              "      <td>617</td>\n",
              "      <td>France</td>\n",
              "      <td>Female</td>\n",
              "      <td>34</td>\n",
              "      <td>0.0</td>\n",
              "      <td>131244.65</td>\n",
              "      <td>2</td>\n",
              "      <td>1</td>\n",
              "      <td>0</td>\n",
              "      <td>183229.02</td>\n",
              "      <td>0</td>\n",
              "    </tr>\n",
              "    <tr>\n",
              "      <th>4153</th>\n",
              "      <td>4154</td>\n",
              "      <td>15664001</td>\n",
              "      <td>Riddle</td>\n",
              "      <td>695</td>\n",
              "      <td>Germany</td>\n",
              "      <td>Female</td>\n",
              "      <td>53</td>\n",
              "      <td>NaN</td>\n",
              "      <td>95231.91</td>\n",
              "      <td>1</td>\n",
              "      <td>0</td>\n",
              "      <td>0</td>\n",
              "      <td>70140.80</td>\n",
              "      <td>1</td>\n",
              "    </tr>\n",
              "    <tr>\n",
              "      <th>8051</th>\n",
              "      <td>8052</td>\n",
              "      <td>15697801</td>\n",
              "      <td>Sokolova</td>\n",
              "      <td>605</td>\n",
              "      <td>Germany</td>\n",
              "      <td>Female</td>\n",
              "      <td>56</td>\n",
              "      <td>1.0</td>\n",
              "      <td>74129.18</td>\n",
              "      <td>2</td>\n",
              "      <td>1</td>\n",
              "      <td>1</td>\n",
              "      <td>62199.78</td>\n",
              "      <td>1</td>\n",
              "    </tr>\n",
              "    <tr>\n",
              "      <th>5607</th>\n",
              "      <td>5608</td>\n",
              "      <td>15771728</td>\n",
              "      <td>Mackenzie</td>\n",
              "      <td>641</td>\n",
              "      <td>Germany</td>\n",
              "      <td>Male</td>\n",
              "      <td>41</td>\n",
              "      <td>7.0</td>\n",
              "      <td>104405.54</td>\n",
              "      <td>3</td>\n",
              "      <td>1</td>\n",
              "      <td>0</td>\n",
              "      <td>17384.21</td>\n",
              "      <td>0</td>\n",
              "    </tr>\n",
              "    <tr>\n",
              "      <th>1953</th>\n",
              "      <td>1954</td>\n",
              "      <td>15675190</td>\n",
              "      <td>Chia</td>\n",
              "      <td>623</td>\n",
              "      <td>France</td>\n",
              "      <td>Male</td>\n",
              "      <td>21</td>\n",
              "      <td>10.0</td>\n",
              "      <td>0.00</td>\n",
              "      <td>2</td>\n",
              "      <td>0</td>\n",
              "      <td>1</td>\n",
              "      <td>135851.30</td>\n",
              "      <td>0</td>\n",
              "    </tr>\n",
              "    <tr>\n",
              "      <th>4207</th>\n",
              "      <td>4208</td>\n",
              "      <td>15732774</td>\n",
              "      <td>Marchesi</td>\n",
              "      <td>656</td>\n",
              "      <td>France</td>\n",
              "      <td>Male</td>\n",
              "      <td>37</td>\n",
              "      <td>7.0</td>\n",
              "      <td>112291.34</td>\n",
              "      <td>1</td>\n",
              "      <td>1</td>\n",
              "      <td>0</td>\n",
              "      <td>153157.97</td>\n",
              "      <td>0</td>\n",
              "    </tr>\n",
              "    <tr>\n",
              "      <th>8140</th>\n",
              "      <td>8141</td>\n",
              "      <td>15572022</td>\n",
              "      <td>Han</td>\n",
              "      <td>605</td>\n",
              "      <td>France</td>\n",
              "      <td>Female</td>\n",
              "      <td>36</td>\n",
              "      <td>6.0</td>\n",
              "      <td>0.00</td>\n",
              "      <td>1</td>\n",
              "      <td>0</td>\n",
              "      <td>1</td>\n",
              "      <td>690.84</td>\n",
              "      <td>0</td>\n",
              "    </tr>\n",
              "    <tr>\n",
              "      <th>3904</th>\n",
              "      <td>3905</td>\n",
              "      <td>15566633</td>\n",
              "      <td>Freeman</td>\n",
              "      <td>698</td>\n",
              "      <td>Germany</td>\n",
              "      <td>Male</td>\n",
              "      <td>55</td>\n",
              "      <td>8.0</td>\n",
              "      <td>155059.10</td>\n",
              "      <td>2</td>\n",
              "      <td>1</td>\n",
              "      <td>1</td>\n",
              "      <td>144584.29</td>\n",
              "      <td>0</td>\n",
              "    </tr>\n",
              "    <tr>\n",
              "      <th>9477</th>\n",
              "      <td>9478</td>\n",
              "      <td>15592104</td>\n",
              "      <td>Lane</td>\n",
              "      <td>655</td>\n",
              "      <td>France</td>\n",
              "      <td>Female</td>\n",
              "      <td>41</td>\n",
              "      <td>5.0</td>\n",
              "      <td>0.00</td>\n",
              "      <td>1</td>\n",
              "      <td>0</td>\n",
              "      <td>0</td>\n",
              "      <td>36548.00</td>\n",
              "      <td>1</td>\n",
              "    </tr>\n",
              "    <tr>\n",
              "      <th>3902</th>\n",
              "      <td>3903</td>\n",
              "      <td>15720305</td>\n",
              "      <td>Power</td>\n",
              "      <td>591</td>\n",
              "      <td>Spain</td>\n",
              "      <td>Female</td>\n",
              "      <td>40</td>\n",
              "      <td>1.0</td>\n",
              "      <td>86376.29</td>\n",
              "      <td>1</td>\n",
              "      <td>0</td>\n",
              "      <td>1</td>\n",
              "      <td>136767.16</td>\n",
              "      <td>1</td>\n",
              "    </tr>\n",
              "  </tbody>\n",
              "</table>\n",
              "</div>\n",
              "      <button class=\"colab-df-convert\" onclick=\"convertToInteractive('df-6f7d5dcd-ddd8-4f1a-9d8f-74290502cf7c')\"\n",
              "              title=\"Convert this dataframe to an interactive table.\"\n",
              "              style=\"display:none;\">\n",
              "        \n",
              "  <svg xmlns=\"http://www.w3.org/2000/svg\" height=\"24px\"viewBox=\"0 0 24 24\"\n",
              "       width=\"24px\">\n",
              "    <path d=\"M0 0h24v24H0V0z\" fill=\"none\"/>\n",
              "    <path d=\"M18.56 5.44l.94 2.06.94-2.06 2.06-.94-2.06-.94-.94-2.06-.94 2.06-2.06.94zm-11 1L8.5 8.5l.94-2.06 2.06-.94-2.06-.94L8.5 2.5l-.94 2.06-2.06.94zm10 10l.94 2.06.94-2.06 2.06-.94-2.06-.94-.94-2.06-.94 2.06-2.06.94z\"/><path d=\"M17.41 7.96l-1.37-1.37c-.4-.4-.92-.59-1.43-.59-.52 0-1.04.2-1.43.59L10.3 9.45l-7.72 7.72c-.78.78-.78 2.05 0 2.83L4 21.41c.39.39.9.59 1.41.59.51 0 1.02-.2 1.41-.59l7.78-7.78 2.81-2.81c.8-.78.8-2.07 0-2.86zM5.41 20L4 18.59l7.72-7.72 1.47 1.35L5.41 20z\"/>\n",
              "  </svg>\n",
              "      </button>\n",
              "      \n",
              "  <style>\n",
              "    .colab-df-container {\n",
              "      display:flex;\n",
              "      flex-wrap:wrap;\n",
              "      gap: 12px;\n",
              "    }\n",
              "\n",
              "    .colab-df-convert {\n",
              "      background-color: #E8F0FE;\n",
              "      border: none;\n",
              "      border-radius: 50%;\n",
              "      cursor: pointer;\n",
              "      display: none;\n",
              "      fill: #1967D2;\n",
              "      height: 32px;\n",
              "      padding: 0 0 0 0;\n",
              "      width: 32px;\n",
              "    }\n",
              "\n",
              "    .colab-df-convert:hover {\n",
              "      background-color: #E2EBFA;\n",
              "      box-shadow: 0px 1px 2px rgba(60, 64, 67, 0.3), 0px 1px 3px 1px rgba(60, 64, 67, 0.15);\n",
              "      fill: #174EA6;\n",
              "    }\n",
              "\n",
              "    [theme=dark] .colab-df-convert {\n",
              "      background-color: #3B4455;\n",
              "      fill: #D2E3FC;\n",
              "    }\n",
              "\n",
              "    [theme=dark] .colab-df-convert:hover {\n",
              "      background-color: #434B5C;\n",
              "      box-shadow: 0px 1px 3px 1px rgba(0, 0, 0, 0.15);\n",
              "      filter: drop-shadow(0px 1px 2px rgba(0, 0, 0, 0.3));\n",
              "      fill: #FFFFFF;\n",
              "    }\n",
              "  </style>\n",
              "\n",
              "      <script>\n",
              "        const buttonEl =\n",
              "          document.querySelector('#df-6f7d5dcd-ddd8-4f1a-9d8f-74290502cf7c button.colab-df-convert');\n",
              "        buttonEl.style.display =\n",
              "          google.colab.kernel.accessAllowed ? 'block' : 'none';\n",
              "\n",
              "        async function convertToInteractive(key) {\n",
              "          const element = document.querySelector('#df-6f7d5dcd-ddd8-4f1a-9d8f-74290502cf7c');\n",
              "          const dataTable =\n",
              "            await google.colab.kernel.invokeFunction('convertToInteractive',\n",
              "                                                     [key], {});\n",
              "          if (!dataTable) return;\n",
              "\n",
              "          const docLinkHtml = 'Like what you see? Visit the ' +\n",
              "            '<a target=\"_blank\" href=https://colab.research.google.com/notebooks/data_table.ipynb>data table notebook</a>'\n",
              "            + ' to learn more about interactive tables.';\n",
              "          element.innerHTML = '';\n",
              "          dataTable['output_type'] = 'display_data';\n",
              "          await google.colab.output.renderOutput(dataTable, element);\n",
              "          const docLink = document.createElement('div');\n",
              "          docLink.innerHTML = docLinkHtml;\n",
              "          element.appendChild(docLink);\n",
              "        }\n",
              "      </script>\n",
              "    </div>\n",
              "  </div>\n",
              "  "
            ]
          },
          "metadata": {},
          "execution_count": 2
        }
      ]
    },
    {
      "cell_type": "code",
      "source": [
        "df.tail(10)"
      ],
      "metadata": {
        "colab": {
          "base_uri": "https://localhost:8080/",
          "height": 427
        },
        "id": "pjj5bnuW8v6Q",
        "outputId": "dce9a5e0-4f73-4ba1-d0c5-351a3679d53b"
      },
      "execution_count": 3,
      "outputs": [
        {
          "output_type": "execute_result",
          "data": {
            "text/plain": [
              "      RowNumber  CustomerId      Surname  CreditScore Geography  Gender  Age  Tenure    Balance  NumOfProducts  HasCrCard  IsActiveMember  EstimatedSalary  Exited\n",
              "9990       9991    15798964   Nkemakonam          714   Germany    Male   33     3.0   35016.60              1          1               0         53667.08       0\n",
              "9991       9992    15769959  Ajuluchukwu          597    France  Female   53     4.0   88381.21              1          1               0         69384.71       1\n",
              "9992       9993    15657105  Chukwualuka          726     Spain    Male   36     2.0       0.00              1          1               0        195192.40       0\n",
              "9993       9994    15569266       Rahman          644    France    Male   28     7.0  155060.41              1          1               0         29179.52       0\n",
              "9994       9995    15719294         Wood          800    France  Female   29     2.0       0.00              2          0               0        167773.55       0\n",
              "9995       9996    15606229     Obijiaku          771    France    Male   39     5.0       0.00              2          1               0         96270.64       0\n",
              "9996       9997    15569892    Johnstone          516    France    Male   35    10.0   57369.61              1          1               1        101699.77       0\n",
              "9997       9998    15584532          Liu          709    France  Female   36     7.0       0.00              1          0               1         42085.58       1\n",
              "9998       9999    15682355    Sabbatini          772   Germany    Male   42     3.0   75075.31              2          1               0         92888.52       1\n",
              "9999      10000    15628319       Walker          792    France  Female   28     NaN  130142.79              1          1               0         38190.78       0"
            ],
            "text/html": [
              "\n",
              "  <div id=\"df-d3dd8edb-0419-45c1-93ce-77009e4b0a0c\">\n",
              "    <div class=\"colab-df-container\">\n",
              "      <div>\n",
              "<style scoped>\n",
              "    .dataframe tbody tr th:only-of-type {\n",
              "        vertical-align: middle;\n",
              "    }\n",
              "\n",
              "    .dataframe tbody tr th {\n",
              "        vertical-align: top;\n",
              "    }\n",
              "\n",
              "    .dataframe thead th {\n",
              "        text-align: right;\n",
              "    }\n",
              "</style>\n",
              "<table border=\"1\" class=\"dataframe\">\n",
              "  <thead>\n",
              "    <tr style=\"text-align: right;\">\n",
              "      <th></th>\n",
              "      <th>RowNumber</th>\n",
              "      <th>CustomerId</th>\n",
              "      <th>Surname</th>\n",
              "      <th>CreditScore</th>\n",
              "      <th>Geography</th>\n",
              "      <th>Gender</th>\n",
              "      <th>Age</th>\n",
              "      <th>Tenure</th>\n",
              "      <th>Balance</th>\n",
              "      <th>NumOfProducts</th>\n",
              "      <th>HasCrCard</th>\n",
              "      <th>IsActiveMember</th>\n",
              "      <th>EstimatedSalary</th>\n",
              "      <th>Exited</th>\n",
              "    </tr>\n",
              "  </thead>\n",
              "  <tbody>\n",
              "    <tr>\n",
              "      <th>9990</th>\n",
              "      <td>9991</td>\n",
              "      <td>15798964</td>\n",
              "      <td>Nkemakonam</td>\n",
              "      <td>714</td>\n",
              "      <td>Germany</td>\n",
              "      <td>Male</td>\n",
              "      <td>33</td>\n",
              "      <td>3.0</td>\n",
              "      <td>35016.60</td>\n",
              "      <td>1</td>\n",
              "      <td>1</td>\n",
              "      <td>0</td>\n",
              "      <td>53667.08</td>\n",
              "      <td>0</td>\n",
              "    </tr>\n",
              "    <tr>\n",
              "      <th>9991</th>\n",
              "      <td>9992</td>\n",
              "      <td>15769959</td>\n",
              "      <td>Ajuluchukwu</td>\n",
              "      <td>597</td>\n",
              "      <td>France</td>\n",
              "      <td>Female</td>\n",
              "      <td>53</td>\n",
              "      <td>4.0</td>\n",
              "      <td>88381.21</td>\n",
              "      <td>1</td>\n",
              "      <td>1</td>\n",
              "      <td>0</td>\n",
              "      <td>69384.71</td>\n",
              "      <td>1</td>\n",
              "    </tr>\n",
              "    <tr>\n",
              "      <th>9992</th>\n",
              "      <td>9993</td>\n",
              "      <td>15657105</td>\n",
              "      <td>Chukwualuka</td>\n",
              "      <td>726</td>\n",
              "      <td>Spain</td>\n",
              "      <td>Male</td>\n",
              "      <td>36</td>\n",
              "      <td>2.0</td>\n",
              "      <td>0.00</td>\n",
              "      <td>1</td>\n",
              "      <td>1</td>\n",
              "      <td>0</td>\n",
              "      <td>195192.40</td>\n",
              "      <td>0</td>\n",
              "    </tr>\n",
              "    <tr>\n",
              "      <th>9993</th>\n",
              "      <td>9994</td>\n",
              "      <td>15569266</td>\n",
              "      <td>Rahman</td>\n",
              "      <td>644</td>\n",
              "      <td>France</td>\n",
              "      <td>Male</td>\n",
              "      <td>28</td>\n",
              "      <td>7.0</td>\n",
              "      <td>155060.41</td>\n",
              "      <td>1</td>\n",
              "      <td>1</td>\n",
              "      <td>0</td>\n",
              "      <td>29179.52</td>\n",
              "      <td>0</td>\n",
              "    </tr>\n",
              "    <tr>\n",
              "      <th>9994</th>\n",
              "      <td>9995</td>\n",
              "      <td>15719294</td>\n",
              "      <td>Wood</td>\n",
              "      <td>800</td>\n",
              "      <td>France</td>\n",
              "      <td>Female</td>\n",
              "      <td>29</td>\n",
              "      <td>2.0</td>\n",
              "      <td>0.00</td>\n",
              "      <td>2</td>\n",
              "      <td>0</td>\n",
              "      <td>0</td>\n",
              "      <td>167773.55</td>\n",
              "      <td>0</td>\n",
              "    </tr>\n",
              "    <tr>\n",
              "      <th>9995</th>\n",
              "      <td>9996</td>\n",
              "      <td>15606229</td>\n",
              "      <td>Obijiaku</td>\n",
              "      <td>771</td>\n",
              "      <td>France</td>\n",
              "      <td>Male</td>\n",
              "      <td>39</td>\n",
              "      <td>5.0</td>\n",
              "      <td>0.00</td>\n",
              "      <td>2</td>\n",
              "      <td>1</td>\n",
              "      <td>0</td>\n",
              "      <td>96270.64</td>\n",
              "      <td>0</td>\n",
              "    </tr>\n",
              "    <tr>\n",
              "      <th>9996</th>\n",
              "      <td>9997</td>\n",
              "      <td>15569892</td>\n",
              "      <td>Johnstone</td>\n",
              "      <td>516</td>\n",
              "      <td>France</td>\n",
              "      <td>Male</td>\n",
              "      <td>35</td>\n",
              "      <td>10.0</td>\n",
              "      <td>57369.61</td>\n",
              "      <td>1</td>\n",
              "      <td>1</td>\n",
              "      <td>1</td>\n",
              "      <td>101699.77</td>\n",
              "      <td>0</td>\n",
              "    </tr>\n",
              "    <tr>\n",
              "      <th>9997</th>\n",
              "      <td>9998</td>\n",
              "      <td>15584532</td>\n",
              "      <td>Liu</td>\n",
              "      <td>709</td>\n",
              "      <td>France</td>\n",
              "      <td>Female</td>\n",
              "      <td>36</td>\n",
              "      <td>7.0</td>\n",
              "      <td>0.00</td>\n",
              "      <td>1</td>\n",
              "      <td>0</td>\n",
              "      <td>1</td>\n",
              "      <td>42085.58</td>\n",
              "      <td>1</td>\n",
              "    </tr>\n",
              "    <tr>\n",
              "      <th>9998</th>\n",
              "      <td>9999</td>\n",
              "      <td>15682355</td>\n",
              "      <td>Sabbatini</td>\n",
              "      <td>772</td>\n",
              "      <td>Germany</td>\n",
              "      <td>Male</td>\n",
              "      <td>42</td>\n",
              "      <td>3.0</td>\n",
              "      <td>75075.31</td>\n",
              "      <td>2</td>\n",
              "      <td>1</td>\n",
              "      <td>0</td>\n",
              "      <td>92888.52</td>\n",
              "      <td>1</td>\n",
              "    </tr>\n",
              "    <tr>\n",
              "      <th>9999</th>\n",
              "      <td>10000</td>\n",
              "      <td>15628319</td>\n",
              "      <td>Walker</td>\n",
              "      <td>792</td>\n",
              "      <td>France</td>\n",
              "      <td>Female</td>\n",
              "      <td>28</td>\n",
              "      <td>NaN</td>\n",
              "      <td>130142.79</td>\n",
              "      <td>1</td>\n",
              "      <td>1</td>\n",
              "      <td>0</td>\n",
              "      <td>38190.78</td>\n",
              "      <td>0</td>\n",
              "    </tr>\n",
              "  </tbody>\n",
              "</table>\n",
              "</div>\n",
              "      <button class=\"colab-df-convert\" onclick=\"convertToInteractive('df-d3dd8edb-0419-45c1-93ce-77009e4b0a0c')\"\n",
              "              title=\"Convert this dataframe to an interactive table.\"\n",
              "              style=\"display:none;\">\n",
              "        \n",
              "  <svg xmlns=\"http://www.w3.org/2000/svg\" height=\"24px\"viewBox=\"0 0 24 24\"\n",
              "       width=\"24px\">\n",
              "    <path d=\"M0 0h24v24H0V0z\" fill=\"none\"/>\n",
              "    <path d=\"M18.56 5.44l.94 2.06.94-2.06 2.06-.94-2.06-.94-.94-2.06-.94 2.06-2.06.94zm-11 1L8.5 8.5l.94-2.06 2.06-.94-2.06-.94L8.5 2.5l-.94 2.06-2.06.94zm10 10l.94 2.06.94-2.06 2.06-.94-2.06-.94-.94-2.06-.94 2.06-2.06.94z\"/><path d=\"M17.41 7.96l-1.37-1.37c-.4-.4-.92-.59-1.43-.59-.52 0-1.04.2-1.43.59L10.3 9.45l-7.72 7.72c-.78.78-.78 2.05 0 2.83L4 21.41c.39.39.9.59 1.41.59.51 0 1.02-.2 1.41-.59l7.78-7.78 2.81-2.81c.8-.78.8-2.07 0-2.86zM5.41 20L4 18.59l7.72-7.72 1.47 1.35L5.41 20z\"/>\n",
              "  </svg>\n",
              "      </button>\n",
              "      \n",
              "  <style>\n",
              "    .colab-df-container {\n",
              "      display:flex;\n",
              "      flex-wrap:wrap;\n",
              "      gap: 12px;\n",
              "    }\n",
              "\n",
              "    .colab-df-convert {\n",
              "      background-color: #E8F0FE;\n",
              "      border: none;\n",
              "      border-radius: 50%;\n",
              "      cursor: pointer;\n",
              "      display: none;\n",
              "      fill: #1967D2;\n",
              "      height: 32px;\n",
              "      padding: 0 0 0 0;\n",
              "      width: 32px;\n",
              "    }\n",
              "\n",
              "    .colab-df-convert:hover {\n",
              "      background-color: #E2EBFA;\n",
              "      box-shadow: 0px 1px 2px rgba(60, 64, 67, 0.3), 0px 1px 3px 1px rgba(60, 64, 67, 0.15);\n",
              "      fill: #174EA6;\n",
              "    }\n",
              "\n",
              "    [theme=dark] .colab-df-convert {\n",
              "      background-color: #3B4455;\n",
              "      fill: #D2E3FC;\n",
              "    }\n",
              "\n",
              "    [theme=dark] .colab-df-convert:hover {\n",
              "      background-color: #434B5C;\n",
              "      box-shadow: 0px 1px 3px 1px rgba(0, 0, 0, 0.15);\n",
              "      filter: drop-shadow(0px 1px 2px rgba(0, 0, 0, 0.3));\n",
              "      fill: #FFFFFF;\n",
              "    }\n",
              "  </style>\n",
              "\n",
              "      <script>\n",
              "        const buttonEl =\n",
              "          document.querySelector('#df-d3dd8edb-0419-45c1-93ce-77009e4b0a0c button.colab-df-convert');\n",
              "        buttonEl.style.display =\n",
              "          google.colab.kernel.accessAllowed ? 'block' : 'none';\n",
              "\n",
              "        async function convertToInteractive(key) {\n",
              "          const element = document.querySelector('#df-d3dd8edb-0419-45c1-93ce-77009e4b0a0c');\n",
              "          const dataTable =\n",
              "            await google.colab.kernel.invokeFunction('convertToInteractive',\n",
              "                                                     [key], {});\n",
              "          if (!dataTable) return;\n",
              "\n",
              "          const docLinkHtml = 'Like what you see? Visit the ' +\n",
              "            '<a target=\"_blank\" href=https://colab.research.google.com/notebooks/data_table.ipynb>data table notebook</a>'\n",
              "            + ' to learn more about interactive tables.';\n",
              "          element.innerHTML = '';\n",
              "          dataTable['output_type'] = 'display_data';\n",
              "          await google.colab.output.renderOutput(dataTable, element);\n",
              "          const docLink = document.createElement('div');\n",
              "          docLink.innerHTML = docLinkHtml;\n",
              "          element.appendChild(docLink);\n",
              "        }\n",
              "      </script>\n",
              "    </div>\n",
              "  </div>\n",
              "  "
            ]
          },
          "metadata": {},
          "execution_count": 3
        }
      ]
    },
    {
      "cell_type": "code",
      "source": [
        "df.info()"
      ],
      "metadata": {
        "colab": {
          "base_uri": "https://localhost:8080/"
        },
        "id": "vT6mhqOJ9F6u",
        "outputId": "88d6c08a-7fdb-4332-b9a7-a3f79be579fc"
      },
      "execution_count": 4,
      "outputs": [
        {
          "output_type": "stream",
          "name": "stdout",
          "text": [
            "<class 'pandas.core.frame.DataFrame'>\n",
            "RangeIndex: 10000 entries, 0 to 9999\n",
            "Data columns (total 14 columns):\n",
            " #   Column           Non-Null Count  Dtype  \n",
            "---  ------           --------------  -----  \n",
            " 0   RowNumber        10000 non-null  int64  \n",
            " 1   CustomerId       10000 non-null  int64  \n",
            " 2   Surname          10000 non-null  object \n",
            " 3   CreditScore      10000 non-null  int64  \n",
            " 4   Geography        10000 non-null  object \n",
            " 5   Gender           10000 non-null  object \n",
            " 6   Age              10000 non-null  int64  \n",
            " 7   Tenure           9091 non-null   float64\n",
            " 8   Balance          10000 non-null  float64\n",
            " 9   NumOfProducts    10000 non-null  int64  \n",
            " 10  HasCrCard        10000 non-null  int64  \n",
            " 11  IsActiveMember   10000 non-null  int64  \n",
            " 12  EstimatedSalary  10000 non-null  float64\n",
            " 13  Exited           10000 non-null  int64  \n",
            "dtypes: float64(3), int64(8), object(3)\n",
            "memory usage: 1.1+ MB\n"
          ]
        }
      ]
    },
    {
      "cell_type": "markdown",
      "source": [
        "> Заметим, что:\n",
        ">\n",
        "> 1. датафрейм содержит как качественные (например, Geography, Gender и др.), так и количественные признаки (Age, Balance и др.)\n",
        "датафрейм содержит 13 признаков (3 из них — качественные, а 10 — количественные) и 10000 объектов;\n",
        "2. есть признаки, которые в рамках нашей задачи не играют важной роли, их можно будет удалить и таким образом облегчить работу будущей модели. К таким признакам можно отнести следующие признаки: RowNumber, CustomerId и Surname\n",
        "3. датафрейм содержит пропуски в столбце Tenure. Можно предположить, что пропуски появились по одной из этих причин:\n",
        " - клиент оставил графу пустой, так как он только недавно стал клиентом банка (в таком случае пропуски можно заполнить 0)\n",
        " - клиент просто не захотел ответить на этот вопрос и оставил графу пустой (тогда пропуски можно заполнить средним арифметическим или медианой)."
      ],
      "metadata": {
        "id": "BGdCgRDwCXo8"
      }
    },
    {
      "cell_type": "code",
      "source": [
        "df.describe()"
      ],
      "metadata": {
        "colab": {
          "base_uri": "https://localhost:8080/",
          "height": 364
        },
        "id": "algM5rK-9Hke",
        "outputId": "0aef3d52-7e5d-4a47-e663-e6ffae0e20b1"
      },
      "execution_count": 5,
      "outputs": [
        {
          "output_type": "execute_result",
          "data": {
            "text/plain": [
              "         RowNumber    CustomerId   CreditScore           Age       Tenure        Balance  NumOfProducts    HasCrCard  IsActiveMember  EstimatedSalary        Exited\n",
              "count  10000.00000  1.000000e+04  10000.000000  10000.000000  9091.000000   10000.000000   10000.000000  10000.00000    10000.000000     10000.000000  10000.000000\n",
              "mean    5000.50000  1.569094e+07    650.528800     38.921800     4.997690   76485.889288       1.530200      0.70550        0.515100    100090.239881      0.203700\n",
              "std     2886.89568  7.193619e+04     96.653299     10.487806     2.894723   62397.405202       0.581654      0.45584        0.499797     57510.492818      0.402769\n",
              "min        1.00000  1.556570e+07    350.000000     18.000000     0.000000       0.000000       1.000000      0.00000        0.000000        11.580000      0.000000\n",
              "25%     2500.75000  1.562853e+07    584.000000     32.000000     2.000000       0.000000       1.000000      0.00000        0.000000     51002.110000      0.000000\n",
              "50%     5000.50000  1.569074e+07    652.000000     37.000000     5.000000   97198.540000       1.000000      1.00000        1.000000    100193.915000      0.000000\n",
              "75%     7500.25000  1.575323e+07    718.000000     44.000000     7.000000  127644.240000       2.000000      1.00000        1.000000    149388.247500      0.000000\n",
              "max    10000.00000  1.581569e+07    850.000000     92.000000    10.000000  250898.090000       4.000000      1.00000        1.000000    199992.480000      1.000000"
            ],
            "text/html": [
              "\n",
              "  <div id=\"df-d2eddd47-2a53-4a91-b798-8c51ef83972f\">\n",
              "    <div class=\"colab-df-container\">\n",
              "      <div>\n",
              "<style scoped>\n",
              "    .dataframe tbody tr th:only-of-type {\n",
              "        vertical-align: middle;\n",
              "    }\n",
              "\n",
              "    .dataframe tbody tr th {\n",
              "        vertical-align: top;\n",
              "    }\n",
              "\n",
              "    .dataframe thead th {\n",
              "        text-align: right;\n",
              "    }\n",
              "</style>\n",
              "<table border=\"1\" class=\"dataframe\">\n",
              "  <thead>\n",
              "    <tr style=\"text-align: right;\">\n",
              "      <th></th>\n",
              "      <th>RowNumber</th>\n",
              "      <th>CustomerId</th>\n",
              "      <th>CreditScore</th>\n",
              "      <th>Age</th>\n",
              "      <th>Tenure</th>\n",
              "      <th>Balance</th>\n",
              "      <th>NumOfProducts</th>\n",
              "      <th>HasCrCard</th>\n",
              "      <th>IsActiveMember</th>\n",
              "      <th>EstimatedSalary</th>\n",
              "      <th>Exited</th>\n",
              "    </tr>\n",
              "  </thead>\n",
              "  <tbody>\n",
              "    <tr>\n",
              "      <th>count</th>\n",
              "      <td>10000.00000</td>\n",
              "      <td>1.000000e+04</td>\n",
              "      <td>10000.000000</td>\n",
              "      <td>10000.000000</td>\n",
              "      <td>9091.000000</td>\n",
              "      <td>10000.000000</td>\n",
              "      <td>10000.000000</td>\n",
              "      <td>10000.00000</td>\n",
              "      <td>10000.000000</td>\n",
              "      <td>10000.000000</td>\n",
              "      <td>10000.000000</td>\n",
              "    </tr>\n",
              "    <tr>\n",
              "      <th>mean</th>\n",
              "      <td>5000.50000</td>\n",
              "      <td>1.569094e+07</td>\n",
              "      <td>650.528800</td>\n",
              "      <td>38.921800</td>\n",
              "      <td>4.997690</td>\n",
              "      <td>76485.889288</td>\n",
              "      <td>1.530200</td>\n",
              "      <td>0.70550</td>\n",
              "      <td>0.515100</td>\n",
              "      <td>100090.239881</td>\n",
              "      <td>0.203700</td>\n",
              "    </tr>\n",
              "    <tr>\n",
              "      <th>std</th>\n",
              "      <td>2886.89568</td>\n",
              "      <td>7.193619e+04</td>\n",
              "      <td>96.653299</td>\n",
              "      <td>10.487806</td>\n",
              "      <td>2.894723</td>\n",
              "      <td>62397.405202</td>\n",
              "      <td>0.581654</td>\n",
              "      <td>0.45584</td>\n",
              "      <td>0.499797</td>\n",
              "      <td>57510.492818</td>\n",
              "      <td>0.402769</td>\n",
              "    </tr>\n",
              "    <tr>\n",
              "      <th>min</th>\n",
              "      <td>1.00000</td>\n",
              "      <td>1.556570e+07</td>\n",
              "      <td>350.000000</td>\n",
              "      <td>18.000000</td>\n",
              "      <td>0.000000</td>\n",
              "      <td>0.000000</td>\n",
              "      <td>1.000000</td>\n",
              "      <td>0.00000</td>\n",
              "      <td>0.000000</td>\n",
              "      <td>11.580000</td>\n",
              "      <td>0.000000</td>\n",
              "    </tr>\n",
              "    <tr>\n",
              "      <th>25%</th>\n",
              "      <td>2500.75000</td>\n",
              "      <td>1.562853e+07</td>\n",
              "      <td>584.000000</td>\n",
              "      <td>32.000000</td>\n",
              "      <td>2.000000</td>\n",
              "      <td>0.000000</td>\n",
              "      <td>1.000000</td>\n",
              "      <td>0.00000</td>\n",
              "      <td>0.000000</td>\n",
              "      <td>51002.110000</td>\n",
              "      <td>0.000000</td>\n",
              "    </tr>\n",
              "    <tr>\n",
              "      <th>50%</th>\n",
              "      <td>5000.50000</td>\n",
              "      <td>1.569074e+07</td>\n",
              "      <td>652.000000</td>\n",
              "      <td>37.000000</td>\n",
              "      <td>5.000000</td>\n",
              "      <td>97198.540000</td>\n",
              "      <td>1.000000</td>\n",
              "      <td>1.00000</td>\n",
              "      <td>1.000000</td>\n",
              "      <td>100193.915000</td>\n",
              "      <td>0.000000</td>\n",
              "    </tr>\n",
              "    <tr>\n",
              "      <th>75%</th>\n",
              "      <td>7500.25000</td>\n",
              "      <td>1.575323e+07</td>\n",
              "      <td>718.000000</td>\n",
              "      <td>44.000000</td>\n",
              "      <td>7.000000</td>\n",
              "      <td>127644.240000</td>\n",
              "      <td>2.000000</td>\n",
              "      <td>1.00000</td>\n",
              "      <td>1.000000</td>\n",
              "      <td>149388.247500</td>\n",
              "      <td>0.000000</td>\n",
              "    </tr>\n",
              "    <tr>\n",
              "      <th>max</th>\n",
              "      <td>10000.00000</td>\n",
              "      <td>1.581569e+07</td>\n",
              "      <td>850.000000</td>\n",
              "      <td>92.000000</td>\n",
              "      <td>10.000000</td>\n",
              "      <td>250898.090000</td>\n",
              "      <td>4.000000</td>\n",
              "      <td>1.00000</td>\n",
              "      <td>1.000000</td>\n",
              "      <td>199992.480000</td>\n",
              "      <td>1.000000</td>\n",
              "    </tr>\n",
              "  </tbody>\n",
              "</table>\n",
              "</div>\n",
              "      <button class=\"colab-df-convert\" onclick=\"convertToInteractive('df-d2eddd47-2a53-4a91-b798-8c51ef83972f')\"\n",
              "              title=\"Convert this dataframe to an interactive table.\"\n",
              "              style=\"display:none;\">\n",
              "        \n",
              "  <svg xmlns=\"http://www.w3.org/2000/svg\" height=\"24px\"viewBox=\"0 0 24 24\"\n",
              "       width=\"24px\">\n",
              "    <path d=\"M0 0h24v24H0V0z\" fill=\"none\"/>\n",
              "    <path d=\"M18.56 5.44l.94 2.06.94-2.06 2.06-.94-2.06-.94-.94-2.06-.94 2.06-2.06.94zm-11 1L8.5 8.5l.94-2.06 2.06-.94-2.06-.94L8.5 2.5l-.94 2.06-2.06.94zm10 10l.94 2.06.94-2.06 2.06-.94-2.06-.94-.94-2.06-.94 2.06-2.06.94z\"/><path d=\"M17.41 7.96l-1.37-1.37c-.4-.4-.92-.59-1.43-.59-.52 0-1.04.2-1.43.59L10.3 9.45l-7.72 7.72c-.78.78-.78 2.05 0 2.83L4 21.41c.39.39.9.59 1.41.59.51 0 1.02-.2 1.41-.59l7.78-7.78 2.81-2.81c.8-.78.8-2.07 0-2.86zM5.41 20L4 18.59l7.72-7.72 1.47 1.35L5.41 20z\"/>\n",
              "  </svg>\n",
              "      </button>\n",
              "      \n",
              "  <style>\n",
              "    .colab-df-container {\n",
              "      display:flex;\n",
              "      flex-wrap:wrap;\n",
              "      gap: 12px;\n",
              "    }\n",
              "\n",
              "    .colab-df-convert {\n",
              "      background-color: #E8F0FE;\n",
              "      border: none;\n",
              "      border-radius: 50%;\n",
              "      cursor: pointer;\n",
              "      display: none;\n",
              "      fill: #1967D2;\n",
              "      height: 32px;\n",
              "      padding: 0 0 0 0;\n",
              "      width: 32px;\n",
              "    }\n",
              "\n",
              "    .colab-df-convert:hover {\n",
              "      background-color: #E2EBFA;\n",
              "      box-shadow: 0px 1px 2px rgba(60, 64, 67, 0.3), 0px 1px 3px 1px rgba(60, 64, 67, 0.15);\n",
              "      fill: #174EA6;\n",
              "    }\n",
              "\n",
              "    [theme=dark] .colab-df-convert {\n",
              "      background-color: #3B4455;\n",
              "      fill: #D2E3FC;\n",
              "    }\n",
              "\n",
              "    [theme=dark] .colab-df-convert:hover {\n",
              "      background-color: #434B5C;\n",
              "      box-shadow: 0px 1px 3px 1px rgba(0, 0, 0, 0.15);\n",
              "      filter: drop-shadow(0px 1px 2px rgba(0, 0, 0, 0.3));\n",
              "      fill: #FFFFFF;\n",
              "    }\n",
              "  </style>\n",
              "\n",
              "      <script>\n",
              "        const buttonEl =\n",
              "          document.querySelector('#df-d2eddd47-2a53-4a91-b798-8c51ef83972f button.colab-df-convert');\n",
              "        buttonEl.style.display =\n",
              "          google.colab.kernel.accessAllowed ? 'block' : 'none';\n",
              "\n",
              "        async function convertToInteractive(key) {\n",
              "          const element = document.querySelector('#df-d2eddd47-2a53-4a91-b798-8c51ef83972f');\n",
              "          const dataTable =\n",
              "            await google.colab.kernel.invokeFunction('convertToInteractive',\n",
              "                                                     [key], {});\n",
              "          if (!dataTable) return;\n",
              "\n",
              "          const docLinkHtml = 'Like what you see? Visit the ' +\n",
              "            '<a target=\"_blank\" href=https://colab.research.google.com/notebooks/data_table.ipynb>data table notebook</a>'\n",
              "            + ' to learn more about interactive tables.';\n",
              "          element.innerHTML = '';\n",
              "          dataTable['output_type'] = 'display_data';\n",
              "          await google.colab.output.renderOutput(dataTable, element);\n",
              "          const docLink = document.createElement('div');\n",
              "          docLink.innerHTML = docLinkHtml;\n",
              "          element.appendChild(docLink);\n",
              "        }\n",
              "      </script>\n",
              "    </div>\n",
              "  </div>\n",
              "  "
            ]
          },
          "metadata": {},
          "execution_count": 5
        }
      ]
    },
    {
      "cell_type": "markdown",
      "source": [
        "> Заметим, что:\n",
        ">\n",
        "> 1. признаки CreditScore, Age, Tenure, Balance и EstimatedSalary имеют достаточно большой разброс, о чем свидетельствует как сравнительно высокие показатели стандартного отклонения, так и большая разница между минимальными и максимальными значениями.\n",
        "2. масштаб признаков разный, поэтому, перед тем как приступить к обучению модели, необходимо их масштабировать."
      ],
      "metadata": {
        "id": "b2qf5WL5C5ht"
      }
    },
    {
      "cell_type": "markdown",
      "source": [
        "### Изменение названия столбцов"
      ],
      "metadata": {
        "id": "EK6zYhTgDFfs"
      }
    },
    {
      "cell_type": "code",
      "source": [
        "# в названиях столбцов: отделим слова нижним подчёркиванием\n",
        "# регистр текста заменим на нижний\n",
        "df.columns = df.columns.str.replace(r\"([A-Z])\", r\" \\1\", regex=True).str.lower().str.replace(' ', '_').str[1:]\n",
        "df.head()"
      ],
      "metadata": {
        "colab": {
          "base_uri": "https://localhost:8080/",
          "height": 270
        },
        "id": "uj0QSbwgDiBI",
        "outputId": "b25201fc-f514-4de9-dcbc-784bf0abf5bc"
      },
      "execution_count": 6,
      "outputs": [
        {
          "output_type": "execute_result",
          "data": {
            "text/plain": [
              "   row_number  customer_id   surname  credit_score geography  gender  age  tenure    balance  num_of_products  has_cr_card  is_active_member  estimated_salary  exited\n",
              "0           1     15634602  Hargrave           619    France  Female   42     2.0       0.00                1            1                 1         101348.88       1\n",
              "1           2     15647311      Hill           608     Spain  Female   41     1.0   83807.86                1            0                 1         112542.58       0\n",
              "2           3     15619304      Onio           502    France  Female   42     8.0  159660.80                3            1                 0         113931.57       1\n",
              "3           4     15701354      Boni           699    France  Female   39     1.0       0.00                2            0                 0          93826.63       0\n",
              "4           5     15737888  Mitchell           850     Spain  Female   43     2.0  125510.82                1            1                 1          79084.10       0"
            ],
            "text/html": [
              "\n",
              "  <div id=\"df-7ed80a75-d06f-4bf9-880c-48953a946315\">\n",
              "    <div class=\"colab-df-container\">\n",
              "      <div>\n",
              "<style scoped>\n",
              "    .dataframe tbody tr th:only-of-type {\n",
              "        vertical-align: middle;\n",
              "    }\n",
              "\n",
              "    .dataframe tbody tr th {\n",
              "        vertical-align: top;\n",
              "    }\n",
              "\n",
              "    .dataframe thead th {\n",
              "        text-align: right;\n",
              "    }\n",
              "</style>\n",
              "<table border=\"1\" class=\"dataframe\">\n",
              "  <thead>\n",
              "    <tr style=\"text-align: right;\">\n",
              "      <th></th>\n",
              "      <th>row_number</th>\n",
              "      <th>customer_id</th>\n",
              "      <th>surname</th>\n",
              "      <th>credit_score</th>\n",
              "      <th>geography</th>\n",
              "      <th>gender</th>\n",
              "      <th>age</th>\n",
              "      <th>tenure</th>\n",
              "      <th>balance</th>\n",
              "      <th>num_of_products</th>\n",
              "      <th>has_cr_card</th>\n",
              "      <th>is_active_member</th>\n",
              "      <th>estimated_salary</th>\n",
              "      <th>exited</th>\n",
              "    </tr>\n",
              "  </thead>\n",
              "  <tbody>\n",
              "    <tr>\n",
              "      <th>0</th>\n",
              "      <td>1</td>\n",
              "      <td>15634602</td>\n",
              "      <td>Hargrave</td>\n",
              "      <td>619</td>\n",
              "      <td>France</td>\n",
              "      <td>Female</td>\n",
              "      <td>42</td>\n",
              "      <td>2.0</td>\n",
              "      <td>0.00</td>\n",
              "      <td>1</td>\n",
              "      <td>1</td>\n",
              "      <td>1</td>\n",
              "      <td>101348.88</td>\n",
              "      <td>1</td>\n",
              "    </tr>\n",
              "    <tr>\n",
              "      <th>1</th>\n",
              "      <td>2</td>\n",
              "      <td>15647311</td>\n",
              "      <td>Hill</td>\n",
              "      <td>608</td>\n",
              "      <td>Spain</td>\n",
              "      <td>Female</td>\n",
              "      <td>41</td>\n",
              "      <td>1.0</td>\n",
              "      <td>83807.86</td>\n",
              "      <td>1</td>\n",
              "      <td>0</td>\n",
              "      <td>1</td>\n",
              "      <td>112542.58</td>\n",
              "      <td>0</td>\n",
              "    </tr>\n",
              "    <tr>\n",
              "      <th>2</th>\n",
              "      <td>3</td>\n",
              "      <td>15619304</td>\n",
              "      <td>Onio</td>\n",
              "      <td>502</td>\n",
              "      <td>France</td>\n",
              "      <td>Female</td>\n",
              "      <td>42</td>\n",
              "      <td>8.0</td>\n",
              "      <td>159660.80</td>\n",
              "      <td>3</td>\n",
              "      <td>1</td>\n",
              "      <td>0</td>\n",
              "      <td>113931.57</td>\n",
              "      <td>1</td>\n",
              "    </tr>\n",
              "    <tr>\n",
              "      <th>3</th>\n",
              "      <td>4</td>\n",
              "      <td>15701354</td>\n",
              "      <td>Boni</td>\n",
              "      <td>699</td>\n",
              "      <td>France</td>\n",
              "      <td>Female</td>\n",
              "      <td>39</td>\n",
              "      <td>1.0</td>\n",
              "      <td>0.00</td>\n",
              "      <td>2</td>\n",
              "      <td>0</td>\n",
              "      <td>0</td>\n",
              "      <td>93826.63</td>\n",
              "      <td>0</td>\n",
              "    </tr>\n",
              "    <tr>\n",
              "      <th>4</th>\n",
              "      <td>5</td>\n",
              "      <td>15737888</td>\n",
              "      <td>Mitchell</td>\n",
              "      <td>850</td>\n",
              "      <td>Spain</td>\n",
              "      <td>Female</td>\n",
              "      <td>43</td>\n",
              "      <td>2.0</td>\n",
              "      <td>125510.82</td>\n",
              "      <td>1</td>\n",
              "      <td>1</td>\n",
              "      <td>1</td>\n",
              "      <td>79084.10</td>\n",
              "      <td>0</td>\n",
              "    </tr>\n",
              "  </tbody>\n",
              "</table>\n",
              "</div>\n",
              "      <button class=\"colab-df-convert\" onclick=\"convertToInteractive('df-7ed80a75-d06f-4bf9-880c-48953a946315')\"\n",
              "              title=\"Convert this dataframe to an interactive table.\"\n",
              "              style=\"display:none;\">\n",
              "        \n",
              "  <svg xmlns=\"http://www.w3.org/2000/svg\" height=\"24px\"viewBox=\"0 0 24 24\"\n",
              "       width=\"24px\">\n",
              "    <path d=\"M0 0h24v24H0V0z\" fill=\"none\"/>\n",
              "    <path d=\"M18.56 5.44l.94 2.06.94-2.06 2.06-.94-2.06-.94-.94-2.06-.94 2.06-2.06.94zm-11 1L8.5 8.5l.94-2.06 2.06-.94-2.06-.94L8.5 2.5l-.94 2.06-2.06.94zm10 10l.94 2.06.94-2.06 2.06-.94-2.06-.94-.94-2.06-.94 2.06-2.06.94z\"/><path d=\"M17.41 7.96l-1.37-1.37c-.4-.4-.92-.59-1.43-.59-.52 0-1.04.2-1.43.59L10.3 9.45l-7.72 7.72c-.78.78-.78 2.05 0 2.83L4 21.41c.39.39.9.59 1.41.59.51 0 1.02-.2 1.41-.59l7.78-7.78 2.81-2.81c.8-.78.8-2.07 0-2.86zM5.41 20L4 18.59l7.72-7.72 1.47 1.35L5.41 20z\"/>\n",
              "  </svg>\n",
              "      </button>\n",
              "      \n",
              "  <style>\n",
              "    .colab-df-container {\n",
              "      display:flex;\n",
              "      flex-wrap:wrap;\n",
              "      gap: 12px;\n",
              "    }\n",
              "\n",
              "    .colab-df-convert {\n",
              "      background-color: #E8F0FE;\n",
              "      border: none;\n",
              "      border-radius: 50%;\n",
              "      cursor: pointer;\n",
              "      display: none;\n",
              "      fill: #1967D2;\n",
              "      height: 32px;\n",
              "      padding: 0 0 0 0;\n",
              "      width: 32px;\n",
              "    }\n",
              "\n",
              "    .colab-df-convert:hover {\n",
              "      background-color: #E2EBFA;\n",
              "      box-shadow: 0px 1px 2px rgba(60, 64, 67, 0.3), 0px 1px 3px 1px rgba(60, 64, 67, 0.15);\n",
              "      fill: #174EA6;\n",
              "    }\n",
              "\n",
              "    [theme=dark] .colab-df-convert {\n",
              "      background-color: #3B4455;\n",
              "      fill: #D2E3FC;\n",
              "    }\n",
              "\n",
              "    [theme=dark] .colab-df-convert:hover {\n",
              "      background-color: #434B5C;\n",
              "      box-shadow: 0px 1px 3px 1px rgba(0, 0, 0, 0.15);\n",
              "      filter: drop-shadow(0px 1px 2px rgba(0, 0, 0, 0.3));\n",
              "      fill: #FFFFFF;\n",
              "    }\n",
              "  </style>\n",
              "\n",
              "      <script>\n",
              "        const buttonEl =\n",
              "          document.querySelector('#df-7ed80a75-d06f-4bf9-880c-48953a946315 button.colab-df-convert');\n",
              "        buttonEl.style.display =\n",
              "          google.colab.kernel.accessAllowed ? 'block' : 'none';\n",
              "\n",
              "        async function convertToInteractive(key) {\n",
              "          const element = document.querySelector('#df-7ed80a75-d06f-4bf9-880c-48953a946315');\n",
              "          const dataTable =\n",
              "            await google.colab.kernel.invokeFunction('convertToInteractive',\n",
              "                                                     [key], {});\n",
              "          if (!dataTable) return;\n",
              "\n",
              "          const docLinkHtml = 'Like what you see? Visit the ' +\n",
              "            '<a target=\"_blank\" href=https://colab.research.google.com/notebooks/data_table.ipynb>data table notebook</a>'\n",
              "            + ' to learn more about interactive tables.';\n",
              "          element.innerHTML = '';\n",
              "          dataTable['output_type'] = 'display_data';\n",
              "          await google.colab.output.renderOutput(dataTable, element);\n",
              "          const docLink = document.createElement('div');\n",
              "          docLink.innerHTML = docLinkHtml;\n",
              "          element.appendChild(docLink);\n",
              "        }\n",
              "      </script>\n",
              "    </div>\n",
              "  </div>\n",
              "  "
            ]
          },
          "metadata": {},
          "execution_count": 6
        }
      ]
    },
    {
      "cell_type": "markdown",
      "source": [
        "### Дубликаты"
      ],
      "metadata": {
        "id": "OwU_mCtuDJ9t"
      }
    },
    {
      "cell_type": "code",
      "source": [
        "df.duplicated().sum()"
      ],
      "metadata": {
        "colab": {
          "base_uri": "https://localhost:8080/"
        },
        "id": "OsFmw9BWCzQi",
        "outputId": "d792d11e-64d3-4ae8-e781-bf4174993d97"
      },
      "execution_count": 7,
      "outputs": [
        {
          "output_type": "execute_result",
          "data": {
            "text/plain": [
              "0"
            ]
          },
          "metadata": {},
          "execution_count": 7
        }
      ]
    },
    {
      "cell_type": "code",
      "source": [
        "# проверим на дубликаты только по customer_id, т.к. это ключ-значение для наблюдений, значит повторений там быть не должно\n",
        "df.duplicated(subset=['customer_id']).sum()"
      ],
      "metadata": {
        "colab": {
          "base_uri": "https://localhost:8080/"
        },
        "id": "ZNF08rGYF0S4",
        "outputId": "acf3ab89-366c-4e7e-b124-583cf12afaf2"
      },
      "execution_count": 8,
      "outputs": [
        {
          "output_type": "execute_result",
          "data": {
            "text/plain": [
              "0"
            ]
          },
          "metadata": {},
          "execution_count": 8
        }
      ]
    },
    {
      "cell_type": "markdown",
      "source": [
        "### Визуализация признаков"
      ],
      "metadata": {
        "id": "9R2ALEwnHBTK"
      }
    },
    {
      "cell_type": "code",
      "source": [
        "# функция для построения countplot по 2 признакам\n",
        "def show_hists(data, data_label1, data_label2=''):\n",
        "    sns.set()\n",
        "    f, axes = plt.subplots(1, 2, figsize=(16, 4))\n",
        "    axes[0].set_title(data_label1 + \". CountPlot\", fontsize=18)\n",
        "    sns.countplot(data=data, x=data_label1, ax=axes[0])\n",
        "    if data_label2 != '':\n",
        "        axes[1].set_title(data_label2 + \". CountPlot\", fontsize=18)\n",
        "        sns.countplot(data=data, x=data_label2, ax=axes[1])\n",
        "    plt.show()\n",
        "\n",
        "# построим графики для наших категориальных признаков\n",
        "categoricals = ['geography', 'gender', 'tenure', 'num_of_products', 'has_cr_card', 'is_active_member', 'exited', '']\n",
        "for i in range(len(categoricals)//2):\n",
        "    show_hists(df, categoricals[2*i], categoricals[2*i+1])"
      ],
      "metadata": {
        "colab": {
          "base_uri": "https://localhost:8080/",
          "height": 1000
        },
        "id": "-Z-ON2IiGFiH",
        "outputId": "1092b631-e718-4eff-b31f-7b539bedf945"
      },
      "execution_count": 9,
      "outputs": [
        {
          "output_type": "display_data",
          "data": {
            "text/plain": [
              "<Figure size 1600x400 with 2 Axes>"
            ],
            "image/png": "[encoded data removed]"
          },
          "metadata": {}
        },
        {
          "output_type": "display_data",
          "data": {
            "text/plain": [
              "<Figure size 1600x400 with 2 Axes>"
            ],
            "image/png": "[encoded data removed]"
          },
          "metadata": {}
        },
        {
          "output_type": "display_data",
          "data": {
            "text/plain": [
              "<Figure size 1600x400 with 2 Axes>"
            ],
            "image/png": "[encoded data removed]"
          },
          "metadata": {}
        },
        {
          "output_type": "display_data",
          "data": {
            "text/plain": [
              "<Figure size 1600x400 with 2 Axes>"
            ],
            "image/png": "[encoded data removed]"
          },
          "metadata": {}
        }
      ]
    },
    {
      "cell_type": "markdown",
      "source": [
        "> Целевой признак exited распределён примерно 4:1."
      ],
      "metadata": {
        "id": "By3q0FqZGk6_"
      }
    },
    {
      "cell_type": "markdown",
      "source": [
        "### Обработка пропусков"
      ],
      "metadata": {
        "id": "tpDUjJIvHOJR"
      }
    },
    {
      "cell_type": "code",
      "source": [
        "print('К-во пропусков в признаке tenure: ', df['tenure'].isnull().sum())"
      ],
      "metadata": {
        "colab": {
          "base_uri": "https://localhost:8080/"
        },
        "id": "gNqWjM3oGmGd",
        "outputId": "2fa5cad7-579f-4a87-a3ae-95092d91439d"
      },
      "execution_count": 10,
      "outputs": [
        {
          "output_type": "stream",
          "name": "stdout",
          "text": [
            "К-во пропусков в признаке tenure:  909\n"
          ]
        }
      ]
    },
    {
      "cell_type": "code",
      "source": [
        "# посмотрим на распределение признака tenure\n",
        "tenure = df['tenure'].value_counts().to_frame()\n",
        "tenure.reset_index(inplace=True)\n",
        "tenure.columns = ['tenure_cnt', 'count']\n",
        "tenure"
      ],
      "metadata": {
        "colab": {
          "base_uri": "https://localhost:8080/",
          "height": 394
        },
        "id": "cpFxM9ECHbk-",
        "outputId": "bcfb40fd-1a4a-43ef-8196-4488c4244dfa"
      },
      "execution_count": 11,
      "outputs": [
        {
          "output_type": "execute_result",
          "data": {
            "text/plain": [
              "    tenure_cnt  count\n",
              "0          1.0    952\n",
              "1          2.0    950\n",
              "2          8.0    933\n",
              "3          3.0    928\n",
              "4          5.0    927\n",
              "5          7.0    925\n",
              "6          4.0    885\n",
              "7          9.0    882\n",
              "8          6.0    881\n",
              "9         10.0    446\n",
              "10         0.0    382"
            ],
            "text/html": [
              "\n",
              "  <div id=\"df-445585f7-74fd-42a0-8f71-eb00a2911848\">\n",
              "    <div class=\"colab-df-container\">\n",
              "      <div>\n",
              "<style scoped>\n",
              "    .dataframe tbody tr th:only-of-type {\n",
              "        vertical-align: middle;\n",
              "    }\n",
              "\n",
              "    .dataframe tbody tr th {\n",
              "        vertical-align: top;\n",
              "    }\n",
              "\n",
              "    .dataframe thead th {\n",
              "        text-align: right;\n",
              "    }\n",
              "</style>\n",
              "<table border=\"1\" class=\"dataframe\">\n",
              "  <thead>\n",
              "    <tr style=\"text-align: right;\">\n",
              "      <th></th>\n",
              "      <th>tenure_cnt</th>\n",
              "      <th>count</th>\n",
              "    </tr>\n",
              "  </thead>\n",
              "  <tbody>\n",
              "    <tr>\n",
              "      <th>0</th>\n",
              "      <td>1.0</td>\n",
              "      <td>952</td>\n",
              "    </tr>\n",
              "    <tr>\n",
              "      <th>1</th>\n",
              "      <td>2.0</td>\n",
              "      <td>950</td>\n",
              "    </tr>\n",
              "    <tr>\n",
              "      <th>2</th>\n",
              "      <td>8.0</td>\n",
              "      <td>933</td>\n",
              "    </tr>\n",
              "    <tr>\n",
              "      <th>3</th>\n",
              "      <td>3.0</td>\n",
              "      <td>928</td>\n",
              "    </tr>\n",
              "    <tr>\n",
              "      <th>4</th>\n",
              "      <td>5.0</td>\n",
              "      <td>927</td>\n",
              "    </tr>\n",
              "    <tr>\n",
              "      <th>5</th>\n",
              "      <td>7.0</td>\n",
              "      <td>925</td>\n",
              "    </tr>\n",
              "    <tr>\n",
              "      <th>6</th>\n",
              "      <td>4.0</td>\n",
              "      <td>885</td>\n",
              "    </tr>\n",
              "    <tr>\n",
              "      <th>7</th>\n",
              "      <td>9.0</td>\n",
              "      <td>882</td>\n",
              "    </tr>\n",
              "    <tr>\n",
              "      <th>8</th>\n",
              "      <td>6.0</td>\n",
              "      <td>881</td>\n",
              "    </tr>\n",
              "    <tr>\n",
              "      <th>9</th>\n",
              "      <td>10.0</td>\n",
              "      <td>446</td>\n",
              "    </tr>\n",
              "    <tr>\n",
              "      <th>10</th>\n",
              "      <td>0.0</td>\n",
              "      <td>382</td>\n",
              "    </tr>\n",
              "  </tbody>\n",
              "</table>\n",
              "</div>\n",
              "      <button class=\"colab-df-convert\" onclick=\"convertToInteractive('df-445585f7-74fd-42a0-8f71-eb00a2911848')\"\n",
              "              title=\"Convert this dataframe to an interactive table.\"\n",
              "              style=\"display:none;\">\n",
              "        \n",
              "  <svg xmlns=\"http://www.w3.org/2000/svg\" height=\"24px\"viewBox=\"0 0 24 24\"\n",
              "       width=\"24px\">\n",
              "    <path d=\"M0 0h24v24H0V0z\" fill=\"none\"/>\n",
              "    <path d=\"M18.56 5.44l.94 2.06.94-2.06 2.06-.94-2.06-.94-.94-2.06-.94 2.06-2.06.94zm-11 1L8.5 8.5l.94-2.06 2.06-.94-2.06-.94L8.5 2.5l-.94 2.06-2.06.94zm10 10l.94 2.06.94-2.06 2.06-.94-2.06-.94-.94-2.06-.94 2.06-2.06.94z\"/><path d=\"M17.41 7.96l-1.37-1.37c-.4-.4-.92-.59-1.43-.59-.52 0-1.04.2-1.43.59L10.3 9.45l-7.72 7.72c-.78.78-.78 2.05 0 2.83L4 21.41c.39.39.9.59 1.41.59.51 0 1.02-.2 1.41-.59l7.78-7.78 2.81-2.81c.8-.78.8-2.07 0-2.86zM5.41 20L4 18.59l7.72-7.72 1.47 1.35L5.41 20z\"/>\n",
              "  </svg>\n",
              "      </button>\n",
              "      \n",
              "  <style>\n",
              "    .colab-df-container {\n",
              "      display:flex;\n",
              "      flex-wrap:wrap;\n",
              "      gap: 12px;\n",
              "    }\n",
              "\n",
              "    .colab-df-convert {\n",
              "      background-color: #E8F0FE;\n",
              "      border: none;\n",
              "      border-radius: 50%;\n",
              "      cursor: pointer;\n",
              "      display: none;\n",
              "      fill: #1967D2;\n",
              "      height: 32px;\n",
              "      padding: 0 0 0 0;\n",
              "      width: 32px;\n",
              "    }\n",
              "\n",
              "    .colab-df-convert:hover {\n",
              "      background-color: #E2EBFA;\n",
              "      box-shadow: 0px 1px 2px rgba(60, 64, 67, 0.3), 0px 1px 3px 1px rgba(60, 64, 67, 0.15);\n",
              "      fill: #174EA6;\n",
              "    }\n",
              "\n",
              "    [theme=dark] .colab-df-convert {\n",
              "      background-color: #3B4455;\n",
              "      fill: #D2E3FC;\n",
              "    }\n",
              "\n",
              "    [theme=dark] .colab-df-convert:hover {\n",
              "      background-color: #434B5C;\n",
              "      box-shadow: 0px 1px 3px 1px rgba(0, 0, 0, 0.15);\n",
              "      filter: drop-shadow(0px 1px 2px rgba(0, 0, 0, 0.3));\n",
              "      fill: #FFFFFF;\n",
              "    }\n",
              "  </style>\n",
              "\n",
              "      <script>\n",
              "        const buttonEl =\n",
              "          document.querySelector('#df-445585f7-74fd-42a0-8f71-eb00a2911848 button.colab-df-convert');\n",
              "        buttonEl.style.display =\n",
              "          google.colab.kernel.accessAllowed ? 'block' : 'none';\n",
              "\n",
              "        async function convertToInteractive(key) {\n",
              "          const element = document.querySelector('#df-445585f7-74fd-42a0-8f71-eb00a2911848');\n",
              "          const dataTable =\n",
              "            await google.colab.kernel.invokeFunction('convertToInteractive',\n",
              "                                                     [key], {});\n",
              "          if (!dataTable) return;\n",
              "\n",
              "          const docLinkHtml = 'Like what you see? Visit the ' +\n",
              "            '<a target=\"_blank\" href=https://colab.research.google.com/notebooks/data_table.ipynb>data table notebook</a>'\n",
              "            + ' to learn more about interactive tables.';\n",
              "          element.innerHTML = '';\n",
              "          dataTable['output_type'] = 'display_data';\n",
              "          await google.colab.output.renderOutput(dataTable, element);\n",
              "          const docLink = document.createElement('div');\n",
              "          docLink.innerHTML = docLinkHtml;\n",
              "          element.appendChild(docLink);\n",
              "        }\n",
              "      </script>\n",
              "    </div>\n",
              "  </div>\n",
              "  "
            ]
          },
          "metadata": {},
          "execution_count": 11
        }
      ]
    },
    {
      "cell_type": "code",
      "source": [
        "fig = go.Figure([go.Bar(x = tenure['tenure_cnt'], y=tenure['count'])])\n",
        "fig.update_layout(height = 450, showlegend = False, title_text = \"Распределение признака tenure\")\n",
        "fig.show()"
      ],
      "metadata": {
        "colab": {
          "base_uri": "https://localhost:8080/",
          "height": 467
        },
        "id": "jqy3vVgUHgMW",
        "outputId": "02683a6b-a397-496e-ffb1-c3cf98f766ca"
      },
      "execution_count": 12,
      "outputs": [
        {
          "output_type": "display_data",
          "data": {
            "text/html": [
              "<html>\n",
              "<head><meta charset=\"utf-8\" /></head>\n",
              "<body>\n",
              "    <div>            <script src=\"https://cdnjs.cloudflare.com/ajax/libs/mathjax/2.7.5/MathJax.js?config=TeX-AMS-MML_SVG\"></script><script type=\"text/javascript\">if (window.MathJax && window.MathJax.Hub && window.MathJax.Hub.Config) {window.MathJax.Hub.Config({SVG: {font: \"STIX-Web\"}});}</script>                <script type=\"text/javascript\">window.PlotlyConfig = {MathJaxConfig: 'local'};</script>\n",
              "        <script src=\"https://cdn.plot.ly/plotly-2.18.2.min.js\"></script>                <div id=\"e6be6db0-8ffb-4644-bcb1-abbbd4c88b4f\" class=\"plotly-graph-div\" style=\"height:450px; width:100%;\"></div>            <script type=\"text/javascript\">                                    window.PLOTLYENV=window.PLOTLYENV || {};                                    if (document.getElementById(\"e6be6db0-8ffb-4644-bcb1-abbbd4c88b4f\")) {                    Plotly.newPlot(                        \"e6be6db0-8ffb-4644-bcb1-abbbd4c88b4f\",                        [{\"x\":[1.0,2.0,8.0,3.0,5.0,7.0,4.0,9.0,6.0,10.0,0.0],\"y\":[952,950,933,928,927,925,885,882,881,446,382],\"type\":\"bar\"}],                        {\"template\":{\"data\":{\"histogram2dcontour\":[{\"type\":\"histogram2dcontour\",\"colorbar\":{\"outlinewidth\":0,\"ticks\":\"\"},\"colorscale\":[[0.0,\"#0d0887\"],[0.1111111111111111,\"#46039f\"],[0.2222222222222222,\"#7201a8\"],[0.3333333333333333,\"#9c179e\"],[0.4444444444444444,\"#bd3786\"],[0.5555555555555556,\"#d8576b\"],[0.6666666666666666,\"#ed7953\"],[0.7777777777777778,\"#fb9f3a\"],[0.8888888888888888,\"#fdca26\"],[1.0,\"#f0f921\"]]}],\"choropleth\":[{\"type\":\"choropleth\",\"colorbar\":{\"outlinewidth\":0,\"ticks\":\"\"}}],\"histogram2d\":[{\"type\":\"histogram2d\",\"colorbar\":{\"outlinewidth\":0,\"ticks\":\"\"},\"colorscale\":[[0.0,\"#0d0887\"],[0.1111111111111111,\"#46039f\"],[0.2222222222222222,\"#7201a8\"],[0.3333333333333333,\"#9c179e\"],[0.4444444444444444,\"#bd3786\"],[0.5555555555555556,\"#d8576b\"],[0.6666666666666666,\"#ed7953\"],[0.7777777777777778,\"#fb9f3a\"],[0.8888888888888888,\"#fdca26\"],[1.0,\"#f0f921\"]]}],\"heatmap\":[{\"type\":\"heatmap\",\"colorbar\":{\"outlinewidth\":0,\"ticks\":\"\"},\"colorscale\":[[0.0,\"#0d0887\"],[0.1111111111111111,\"#46039f\"],[0.2222222222222222,\"#7201a8\"],[0.3333333333333333,\"#9c179e\"],[0.4444444444444444,\"#bd3786\"],[0.5555555555555556,\"#d8576b\"],[0.6666666666666666,\"#ed7953\"],[0.7777777777777778,\"#fb9f3a\"],[0.8888888888888888,\"#fdca26\"],[1.0,\"#f0f921\"]]}],\"heatmapgl\":[{\"type\":\"heatmapgl\",\"colorbar\":{\"outlinewidth\":0,\"ticks\":\"\"},\"colorscale\":[[0.0,\"#0d0887\"],[0.1111111111111111,\"#46039f\"],[0.2222222222222222,\"#7201a8\"],[0.3333333333333333,\"#9c179e\"],[0.4444444444444444,\"#bd3786\"],[0.5555555555555556,\"#d8576b\"],[0.6666666666666666,\"#ed7953\"],[0.7777777777777778,\"#fb9f3a\"],[0.8888888888888888,\"#fdca26\"],[1.0,\"#f0f921\"]]}],\"contourcarpet\":[{\"type\":\"contourcarpet\",\"colorbar\":{\"outlinewidth\":0,\"ticks\":\"\"}}],\"contour\":[{\"type\":\"contour\",\"colorbar\":{\"outlinewidth\":0,\"ticks\":\"\"},\"colorscale\":[[0.0,\"#0d0887\"],[0.1111111111111111,\"#46039f\"],[0.2222222222222222,\"#7201a8\"],[0.3333333333333333,\"#9c179e\"],[0.4444444444444444,\"#bd3786\"],[0.5555555555555556,\"#d8576b\"],[0.6666666666666666,\"#ed7953\"],[0.7777777777777778,\"#fb9f3a\"],[0.8888888888888888,\"#fdca26\"],[1.0,\"#f0f921\"]]}],\"surface\":[{\"type\":\"surface\",\"colorbar\":{\"outlinewidth\":0,\"ticks\":\"\"},\"colorscale\":[[0.0,\"#0d0887\"],[0.1111111111111111,\"#46039f\"],[0.2222222222222222,\"#7201a8\"],[0.3333333333333333,\"#9c179e\"],[0.4444444444444444,\"#bd3786\"],[0.5555555555555556,\"#d8576b\"],[0.6666666666666666,\"#ed7953\"],[0.7777777777777778,\"#fb9f3a\"],[0.8888888888888888,\"#fdca26\"],[1.0,\"#f0f921\"]]}],\"mesh3d\":[{\"type\":\"mesh3d\",\"colorbar\":{\"outlinewidth\":0,\"ticks\":\"\"}}],\"scatter\":[{\"fillpattern\":{\"fillmode\":\"overlay\",\"size\":10,\"solidity\":0.2},\"type\":\"scatter\"}],\"parcoords\":[{\"type\":\"parcoords\",\"line\":{\"colorbar\":{\"outlinewidth\":0,\"ticks\":\"\"}}}],\"scatterpolargl\":[{\"type\":\"scatterpolargl\",\"marker\":{\"colorbar\":{\"outlinewidth\":0,\"ticks\":\"\"}}}],\"bar\":[{\"error_x\":{\"color\":\"#2a3f5f\"},\"error_y\":{\"color\":\"#2a3f5f\"},\"marker\":{\"line\":{\"color\":\"#E5ECF6\",\"width\":0.5},\"pattern\":{\"fillmode\":\"overlay\",\"size\":10,\"solidity\":0.2}},\"type\":\"bar\"}],\"scattergeo\":[{\"type\":\"scattergeo\",\"marker\":{\"colorbar\":{\"outlinewidth\":0,\"ticks\":\"\"}}}],\"scatterpolar\":[{\"type\":\"scatterpolar\",\"marker\":{\"colorbar\":{\"outlinewidth\":0,\"ticks\":\"\"}}}],\"histogram\":[{\"marker\":{\"pattern\":{\"fillmode\":\"overlay\",\"size\":10,\"solidity\":0.2}},\"type\":\"histogram\"}],\"scattergl\":[{\"type\":\"scattergl\",\"marker\":{\"colorbar\":{\"outlinewidth\":0,\"ticks\":\"\"}}}],\"scatter3d\":[{\"type\":\"scatter3d\",\"line\":{\"colorbar\":{\"outlinewidth\":0,\"ticks\":\"\"}},\"marker\":{\"colorbar\":{\"outlinewidth\":0,\"ticks\":\"\"}}}],\"scattermapbox\":[{\"type\":\"scattermapbox\",\"marker\":{\"colorbar\":{\"outlinewidth\":0,\"ticks\":\"\"}}}],\"scatterternary\":[{\"type\":\"scatterternary\",\"marker\":{\"colorbar\":{\"outlinewidth\":0,\"ticks\":\"\"}}}],\"scattercarpet\":[{\"type\":\"scattercarpet\",\"marker\":{\"colorbar\":{\"outlinewidth\":0,\"ticks\":\"\"}}}],\"carpet\":[{\"aaxis\":{\"endlinecolor\":\"#2a3f5f\",\"gridcolor\":\"white\",\"linecolor\":\"white\",\"minorgridcolor\":\"white\",\"startlinecolor\":\"#2a3f5f\"},\"baxis\":{\"endlinecolor\":\"#2a3f5f\",\"gridcolor\":\"white\",\"linecolor\":\"white\",\"minorgridcolor\":\"white\",\"startlinecolor\":\"#2a3f5f\"},\"type\":\"carpet\"}],\"table\":[{\"cells\":{\"fill\":{\"color\":\"#EBF0F8\"},\"line\":{\"color\":\"white\"}},\"header\":{\"fill\":{\"color\":\"#C8D4E3\"},\"line\":{\"color\":\"white\"}},\"type\":\"table\"}],\"barpolar\":[{\"marker\":{\"line\":{\"color\":\"#E5ECF6\",\"width\":0.5},\"pattern\":{\"fillmode\":\"overlay\",\"size\":10,\"solidity\":0.2}},\"type\":\"barpolar\"}],\"pie\":[{\"automargin\":true,\"type\":\"pie\"}]},\"layout\":{\"autotypenumbers\":\"strict\",\"colorway\":[\"#636efa\",\"#EF553B\",\"#00cc96\",\"#ab63fa\",\"#FFA15A\",\"#19d3f3\",\"#FF6692\",\"#B6E880\",\"#FF97FF\",\"#FECB52\"],\"font\":{\"color\":\"#2a3f5f\"},\"hovermode\":\"closest\",\"hoverlabel\":{\"align\":\"left\"},\"paper_bgcolor\":\"white\",\"plot_bgcolor\":\"#E5ECF6\",\"polar\":{\"bgcolor\":\"#E5ECF6\",\"angularaxis\":{\"gridcolor\":\"white\",\"linecolor\":\"white\",\"ticks\":\"\"},\"radialaxis\":{\"gridcolor\":\"white\",\"linecolor\":\"white\",\"ticks\":\"\"}},\"ternary\":{\"bgcolor\":\"#E5ECF6\",\"aaxis\":{\"gridcolor\":\"white\",\"linecolor\":\"white\",\"ticks\":\"\"},\"baxis\":{\"gridcolor\":\"white\",\"linecolor\":\"white\",\"ticks\":\"\"},\"caxis\":{\"gridcolor\":\"white\",\"linecolor\":\"white\",\"ticks\":\"\"}},\"coloraxis\":{\"colorbar\":{\"outlinewidth\":0,\"ticks\":\"\"}},\"colorscale\":{\"sequential\":[[0.0,\"#0d0887\"],[0.1111111111111111,\"#46039f\"],[0.2222222222222222,\"#7201a8\"],[0.3333333333333333,\"#9c179e\"],[0.4444444444444444,\"#bd3786\"],[0.5555555555555556,\"#d8576b\"],[0.6666666666666666,\"#ed7953\"],[0.7777777777777778,\"#fb9f3a\"],[0.8888888888888888,\"#fdca26\"],[1.0,\"#f0f921\"]],\"sequentialminus\":[[0.0,\"#0d0887\"],[0.1111111111111111,\"#46039f\"],[0.2222222222222222,\"#7201a8\"],[0.3333333333333333,\"#9c179e\"],[0.4444444444444444,\"#bd3786\"],[0.5555555555555556,\"#d8576b\"],[0.6666666666666666,\"#ed7953\"],[0.7777777777777778,\"#fb9f3a\"],[0.8888888888888888,\"#fdca26\"],[1.0,\"#f0f921\"]],\"diverging\":[[0,\"#8e0152\"],[0.1,\"#c51b7d\"],[0.2,\"#de77ae\"],[0.3,\"#f1b6da\"],[0.4,\"#fde0ef\"],[0.5,\"#f7f7f7\"],[0.6,\"#e6f5d0\"],[0.7,\"#b8e186\"],[0.8,\"#7fbc41\"],[0.9,\"#4d9221\"],[1,\"#276419\"]]},\"xaxis\":{\"gridcolor\":\"white\",\"linecolor\":\"white\",\"ticks\":\"\",\"title\":{\"standoff\":15},\"zerolinecolor\":\"white\",\"automargin\":true,\"zerolinewidth\":2},\"yaxis\":{\"gridcolor\":\"white\",\"linecolor\":\"white\",\"ticks\":\"\",\"title\":{\"standoff\":15},\"zerolinecolor\":\"white\",\"automargin\":true,\"zerolinewidth\":2},\"scene\":{\"xaxis\":{\"backgroundcolor\":\"#E5ECF6\",\"gridcolor\":\"white\",\"linecolor\":\"white\",\"showbackground\":true,\"ticks\":\"\",\"zerolinecolor\":\"white\",\"gridwidth\":2},\"yaxis\":{\"backgroundcolor\":\"#E5ECF6\",\"gridcolor\":\"white\",\"linecolor\":\"white\",\"showbackground\":true,\"ticks\":\"\",\"zerolinecolor\":\"white\",\"gridwidth\":2},\"zaxis\":{\"backgroundcolor\":\"#E5ECF6\",\"gridcolor\":\"white\",\"linecolor\":\"white\",\"showbackground\":true,\"ticks\":\"\",\"zerolinecolor\":\"white\",\"gridwidth\":2}},\"shapedefaults\":{\"line\":{\"color\":\"#2a3f5f\"}},\"annotationdefaults\":{\"arrowcolor\":\"#2a3f5f\",\"arrowhead\":0,\"arrowwidth\":1},\"geo\":{\"bgcolor\":\"white\",\"landcolor\":\"#E5ECF6\",\"subunitcolor\":\"white\",\"showland\":true,\"showlakes\":true,\"lakecolor\":\"white\"},\"title\":{\"x\":0.05},\"mapbox\":{\"style\":\"light\"}}},\"title\":{\"text\":\"\\u0420\\u0430\\u0441\\u043f\\u0440\\u0435\\u0434\\u0435\\u043b\\u0435\\u043d\\u0438\\u0435 \\u043f\\u0440\\u0438\\u0437\\u043d\\u0430\\u043a\\u0430 tenure\"},\"height\":450,\"showlegend\":false},                        {\"responsive\": true}                    ).then(function(){\n",
              "                            \n",
              "var gd = document.getElementById('e6be6db0-8ffb-4644-bcb1-abbbd4c88b4f');\n",
              "var x = new MutationObserver(function (mutations, observer) {{\n",
              "        var display = window.getComputedStyle(gd).display;\n",
              "        if (!display || display === 'none') {{\n",
              "            console.log([gd, 'removed!']);\n",
              "            Plotly.purge(gd);\n",
              "            observer.disconnect();\n",
              "        }}\n",
              "}});\n",
              "\n",
              "// Listen for the removal of the full notebook cells\n",
              "var notebookContainer = gd.closest('#notebook-container');\n",
              "if (notebookContainer) {{\n",
              "    x.observe(notebookContainer, {childList: true});\n",
              "}}\n",
              "\n",
              "// Listen for the clearing of the current output cell\n",
              "var outputEl = gd.closest('.output');\n",
              "if (outputEl) {{\n",
              "    x.observe(outputEl, {childList: true});\n",
              "}}\n",
              "\n",
              "                        })                };                            </script>        </div>\n",
              "</body>\n",
              "</html>"
            ]
          },
          "metadata": {}
        }
      ]
    },
    {
      "cell_type": "markdown",
      "source": [
        "> Из графика видно, что клиентов, которые пользуются банком либо 10 лет, либо 0 лет, меньше, возможно, пропущенные значения - в основном у таких клиентов.\n",
        ">\n",
        "> Прежде, чем заполнять или удалять строки, проверим взаимосвязь данных:"
      ],
      "metadata": {
        "id": "nVLWN1p1Hqhp"
      }
    },
    {
      "cell_type": "code",
      "source": [
        "# проверим корреляцию Пирсона между параметрами:\n",
        "plt.figure(figsize=(15, 5))\n",
        "plt.title('Матрица корреляций зависимости признаков', fontsize=18)\n",
        "sns.heatmap(df.corr(), annot = True)\n",
        "plt.show();"
      ],
      "metadata": {
        "colab": {
          "base_uri": "https://localhost:8080/",
          "height": 492
        },
        "id": "WOaHAd9uHuYe",
        "outputId": "d8968618-cd23-4eee-9eea-1cb65c431c45"
      },
      "execution_count": 13,
      "outputs": [
        {
          "output_type": "display_data",
          "data": {
            "text/plain": [
              "<Figure size 1500x500 with 2 Axes>"
            ],
            "image/png": "[encoded data removed]"
          },
          "metadata": {}
        }
      ]
    },
    {
      "cell_type": "markdown",
      "source": [
        "> При таких коэффициентах корреляция очень низкая, и признаки особо не зависят друг от друга.\n",
        ">\n",
        "> Видим, что больше всего коррелирует с exited такие признаки, как возраст и баланс. Что показывает нам, что чем старше человек, тем больше exited, а точнее 1. Так же и с балансом.\n",
        ">\n",
        "> С активностью можем наблюдать небольшую отрицательную корреляцию, т.е. если человек не активен, то уйдет. Вполне логично.\n",
        ">\n",
        "> Так же видим, отрицательную корреляцию между балансом и колличеством продуктов. Чем больше у человека продуктов банка, тем ниже его баланс.\n",
        ">\n",
        "> Так как, чем больше значений, тем модель лучше всего себя показывает (больше данных для обучения), то попробуем заполнить пропуски в столбце tenure значениями.\n",
        ">\n",
        "> Особой корреляции между остальнымит параметрами и tenure нет (менее 0,1), то заполним данные медианным значением и проверим полученную корреляцию с остальными параметрами снова:"
      ],
      "metadata": {
        "id": "TtG8Lb2OwSTT"
      }
    },
    {
      "cell_type": "code",
      "source": [
        "# создаём новый датасет и заполняем его значениями\n",
        "data_filled = df\n",
        "data_filled['tenure'] = data_filled['tenure'].fillna(data_filled['tenure'].median())\n",
        "\n",
        "# проверяем количество значений\n",
        "data_filled['tenure'].value_counts().sort_values(ascending=False)"
      ],
      "metadata": {
        "colab": {
          "base_uri": "https://localhost:8080/"
        },
        "id": "pMeeTHmkw27g",
        "outputId": "7e1ffda1-e8eb-4a3b-da35-cef10a06993b"
      },
      "execution_count": 14,
      "outputs": [
        {
          "output_type": "execute_result",
          "data": {
            "text/plain": [
              "5.0     1836\n",
              "1.0      952\n",
              "2.0      950\n",
              "8.0      933\n",
              "3.0      928\n",
              "7.0      925\n",
              "4.0      885\n",
              "9.0      882\n",
              "6.0      881\n",
              "10.0     446\n",
              "0.0      382\n",
              "Name: tenure, dtype: int64"
            ]
          },
          "metadata": {},
          "execution_count": 14
        }
      ]
    },
    {
      "cell_type": "code",
      "source": [
        "# построим хитмэп коррелляции:\n",
        "plt.figure(figsize=(1, 5))\n",
        "plt.title('Матрица корреляций зависимости признаков', fontsize=18)\n",
        "sns.heatmap(data_filled.corr()[['tenure']], annot = True)\n",
        "plt.show();"
      ],
      "metadata": {
        "colab": {
          "base_uri": "https://localhost:8080/",
          "height": 477
        },
        "id": "tDI9Qx2NxIOy",
        "outputId": "98de2421-c25b-40a7-e941-3b138207dd18"
      },
      "execution_count": 15,
      "outputs": [
        {
          "output_type": "display_data",
          "data": {
            "text/plain": [
              "<Figure size 100x500 with 2 Axes>"
            ],
            "image/png": "[encoded data removed]"
          },
          "metadata": {}
        }
      ]
    },
    {
      "cell_type": "markdown",
      "source": [
        "> Значения коэффициента Пирсона значительно не изменились, можно заменить датасет на новый:"
      ],
      "metadata": {
        "id": "nLay9z_DxQB5"
      }
    },
    {
      "cell_type": "code",
      "source": [
        "df = data_filled\n",
        "df['tenure'] = df['tenure'].astype('int')\n",
        "df[['tenure']].dtypes"
      ],
      "metadata": {
        "colab": {
          "base_uri": "https://localhost:8080/"
        },
        "id": "eainsPwPxRJ-",
        "outputId": "2a77c12e-36ec-408e-a12b-41d4aebef605"
      },
      "execution_count": 16,
      "outputs": [
        {
          "output_type": "execute_result",
          "data": {
            "text/plain": [
              "tenure    int64\n",
              "dtype: object"
            ]
          },
          "metadata": {},
          "execution_count": 16
        }
      ]
    },
    {
      "cell_type": "markdown",
      "source": [
        "## Подготовка данных к обучению"
      ],
      "metadata": {
        "id": "JtGFqQgryDqh"
      }
    },
    {
      "cell_type": "markdown",
      "source": [
        "### Кодировка данных\n",
        "Признаки 'RowNumber', 'CustomerId', 'Surname' не несут в себе информации, необходимой для дальнейшей классификации. Удалим их."
      ],
      "metadata": {
        "id": "4DqCv5Zexd_Q"
      }
    },
    {
      "cell_type": "code",
      "source": [
        "df = df.drop(['row_number', 'customer_id', 'surname'], axis=1)\n",
        "df.head()"
      ],
      "metadata": {
        "colab": {
          "base_uri": "https://localhost:8080/",
          "height": 270
        },
        "id": "350vfSmcxZ-e",
        "outputId": "bbc32b7e-75a2-4421-9ce8-71db2f6c04e5"
      },
      "execution_count": 17,
      "outputs": [
        {
          "output_type": "execute_result",
          "data": {
            "text/plain": [
              "   credit_score geography  gender  age  tenure    balance  num_of_products  has_cr_card  is_active_member  estimated_salary  exited\n",
              "0           619    France  Female   42       2       0.00                1            1                 1         101348.88       1\n",
              "1           608     Spain  Female   41       1   83807.86                1            0                 1         112542.58       0\n",
              "2           502    France  Female   42       8  159660.80                3            1                 0         113931.57       1\n",
              "3           699    France  Female   39       1       0.00                2            0                 0          93826.63       0\n",
              "4           850     Spain  Female   43       2  125510.82                1            1                 1          79084.10       0"
            ],
            "text/html": [
              "\n",
              "  <div id=\"df-9c26c748-682b-4fb5-a2f7-b6ee95642a60\">\n",
              "    <div class=\"colab-df-container\">\n",
              "      <div>\n",
              "<style scoped>\n",
              "    .dataframe tbody tr th:only-of-type {\n",
              "        vertical-align: middle;\n",
              "    }\n",
              "\n",
              "    .dataframe tbody tr th {\n",
              "        vertical-align: top;\n",
              "    }\n",
              "\n",
              "    .dataframe thead th {\n",
              "        text-align: right;\n",
              "    }\n",
              "</style>\n",
              "<table border=\"1\" class=\"dataframe\">\n",
              "  <thead>\n",
              "    <tr style=\"text-align: right;\">\n",
              "      <th></th>\n",
              "      <th>credit_score</th>\n",
              "      <th>geography</th>\n",
              "      <th>gender</th>\n",
              "      <th>age</th>\n",
              "      <th>tenure</th>\n",
              "      <th>balance</th>\n",
              "      <th>num_of_products</th>\n",
              "      <th>has_cr_card</th>\n",
              "      <th>is_active_member</th>\n",
              "      <th>estimated_salary</th>\n",
              "      <th>exited</th>\n",
              "    </tr>\n",
              "  </thead>\n",
              "  <tbody>\n",
              "    <tr>\n",
              "      <th>0</th>\n",
              "      <td>619</td>\n",
              "      <td>France</td>\n",
              "      <td>Female</td>\n",
              "      <td>42</td>\n",
              "      <td>2</td>\n",
              "      <td>0.00</td>\n",
              "      <td>1</td>\n",
              "      <td>1</td>\n",
              "      <td>1</td>\n",
              "      <td>101348.88</td>\n",
              "      <td>1</td>\n",
              "    </tr>\n",
              "    <tr>\n",
              "      <th>1</th>\n",
              "      <td>608</td>\n",
              "      <td>Spain</td>\n",
              "      <td>Female</td>\n",
              "      <td>41</td>\n",
              "      <td>1</td>\n",
              "      <td>83807.86</td>\n",
              "      <td>1</td>\n",
              "      <td>0</td>\n",
              "      <td>1</td>\n",
              "      <td>112542.58</td>\n",
              "      <td>0</td>\n",
              "    </tr>\n",
              "    <tr>\n",
              "      <th>2</th>\n",
              "      <td>502</td>\n",
              "      <td>France</td>\n",
              "      <td>Female</td>\n",
              "      <td>42</td>\n",
              "      <td>8</td>\n",
              "      <td>159660.80</td>\n",
              "      <td>3</td>\n",
              "      <td>1</td>\n",
              "      <td>0</td>\n",
              "      <td>113931.57</td>\n",
              "      <td>1</td>\n",
              "    </tr>\n",
              "    <tr>\n",
              "      <th>3</th>\n",
              "      <td>699</td>\n",
              "      <td>France</td>\n",
              "      <td>Female</td>\n",
              "      <td>39</td>\n",
              "      <td>1</td>\n",
              "      <td>0.00</td>\n",
              "      <td>2</td>\n",
              "      <td>0</td>\n",
              "      <td>0</td>\n",
              "      <td>93826.63</td>\n",
              "      <td>0</td>\n",
              "    </tr>\n",
              "    <tr>\n",
              "      <th>4</th>\n",
              "      <td>850</td>\n",
              "      <td>Spain</td>\n",
              "      <td>Female</td>\n",
              "      <td>43</td>\n",
              "      <td>2</td>\n",
              "      <td>125510.82</td>\n",
              "      <td>1</td>\n",
              "      <td>1</td>\n",
              "      <td>1</td>\n",
              "      <td>79084.10</td>\n",
              "      <td>0</td>\n",
              "    </tr>\n",
              "  </tbody>\n",
              "</table>\n",
              "</div>\n",
              "      <button class=\"colab-df-convert\" onclick=\"convertToInteractive('df-9c26c748-682b-4fb5-a2f7-b6ee95642a60')\"\n",
              "              title=\"Convert this dataframe to an interactive table.\"\n",
              "              style=\"display:none;\">\n",
              "        \n",
              "  <svg xmlns=\"http://www.w3.org/2000/svg\" height=\"24px\"viewBox=\"0 0 24 24\"\n",
              "       width=\"24px\">\n",
              "    <path d=\"M0 0h24v24H0V0z\" fill=\"none\"/>\n",
              "    <path d=\"M18.56 5.44l.94 2.06.94-2.06 2.06-.94-2.06-.94-.94-2.06-.94 2.06-2.06.94zm-11 1L8.5 8.5l.94-2.06 2.06-.94-2.06-.94L8.5 2.5l-.94 2.06-2.06.94zm10 10l.94 2.06.94-2.06 2.06-.94-2.06-.94-.94-2.06-.94 2.06-2.06.94z\"/><path d=\"M17.41 7.96l-1.37-1.37c-.4-.4-.92-.59-1.43-.59-.52 0-1.04.2-1.43.59L10.3 9.45l-7.72 7.72c-.78.78-.78 2.05 0 2.83L4 21.41c.39.39.9.59 1.41.59.51 0 1.02-.2 1.41-.59l7.78-7.78 2.81-2.81c.8-.78.8-2.07 0-2.86zM5.41 20L4 18.59l7.72-7.72 1.47 1.35L5.41 20z\"/>\n",
              "  </svg>\n",
              "      </button>\n",
              "      \n",
              "  <style>\n",
              "    .colab-df-container {\n",
              "      display:flex;\n",
              "      flex-wrap:wrap;\n",
              "      gap: 12px;\n",
              "    }\n",
              "\n",
              "    .colab-df-convert {\n",
              "      background-color: #E8F0FE;\n",
              "      border: none;\n",
              "      border-radius: 50%;\n",
              "      cursor: pointer;\n",
              "      display: none;\n",
              "      fill: #1967D2;\n",
              "      height: 32px;\n",
              "      padding: 0 0 0 0;\n",
              "      width: 32px;\n",
              "    }\n",
              "\n",
              "    .colab-df-convert:hover {\n",
              "      background-color: #E2EBFA;\n",
              "      box-shadow: 0px 1px 2px rgba(60, 64, 67, 0.3), 0px 1px 3px 1px rgba(60, 64, 67, 0.15);\n",
              "      fill: #174EA6;\n",
              "    }\n",
              "\n",
              "    [theme=dark] .colab-df-convert {\n",
              "      background-color: #3B4455;\n",
              "      fill: #D2E3FC;\n",
              "    }\n",
              "\n",
              "    [theme=dark] .colab-df-convert:hover {\n",
              "      background-color: #434B5C;\n",
              "      box-shadow: 0px 1px 3px 1px rgba(0, 0, 0, 0.15);\n",
              "      filter: drop-shadow(0px 1px 2px rgba(0, 0, 0, 0.3));\n",
              "      fill: #FFFFFF;\n",
              "    }\n",
              "  </style>\n",
              "\n",
              "      <script>\n",
              "        const buttonEl =\n",
              "          document.querySelector('#df-9c26c748-682b-4fb5-a2f7-b6ee95642a60 button.colab-df-convert');\n",
              "        buttonEl.style.display =\n",
              "          google.colab.kernel.accessAllowed ? 'block' : 'none';\n",
              "\n",
              "        async function convertToInteractive(key) {\n",
              "          const element = document.querySelector('#df-9c26c748-682b-4fb5-a2f7-b6ee95642a60');\n",
              "          const dataTable =\n",
              "            await google.colab.kernel.invokeFunction('convertToInteractive',\n",
              "                                                     [key], {});\n",
              "          if (!dataTable) return;\n",
              "\n",
              "          const docLinkHtml = 'Like what you see? Visit the ' +\n",
              "            '<a target=\"_blank\" href=https://colab.research.google.com/notebooks/data_table.ipynb>data table notebook</a>'\n",
              "            + ' to learn more about interactive tables.';\n",
              "          element.innerHTML = '';\n",
              "          dataTable['output_type'] = 'display_data';\n",
              "          await google.colab.output.renderOutput(dataTable, element);\n",
              "          const docLink = document.createElement('div');\n",
              "          docLink.innerHTML = docLinkHtml;\n",
              "          element.appendChild(docLink);\n",
              "        }\n",
              "      </script>\n",
              "    </div>\n",
              "  </div>\n",
              "  "
            ]
          },
          "metadata": {},
          "execution_count": 17
        }
      ]
    },
    {
      "cell_type": "code",
      "source": [
        "# для того, чтобы преобразовать категориальные признаки в численные, вызовем функцию get_dummies()\n",
        "# с аргументом drop_first. Такой подход позволит не попасть в дамми-ловушку.\n",
        "data_ohe = pd.get_dummies(df, drop_first=True)\n",
        "data_ohe = data_ohe.rename(columns = {'geography_Germany': 'geography_germany',\n",
        "                                  'geography_Spain': 'geography_spain',\n",
        "                                  'gender_Male': 'gender_male'}, inplace = False)\n",
        "data_ohe.head()"
      ],
      "metadata": {
        "colab": {
          "base_uri": "https://localhost:8080/",
          "height": 270
        },
        "id": "wso90wGuxsFO",
        "outputId": "5e9af7dc-1045-4c18-c395-6b2afa5ae731"
      },
      "execution_count": 18,
      "outputs": [
        {
          "output_type": "execute_result",
          "data": {
            "text/plain": [
              "   credit_score  age  tenure    balance  num_of_products  has_cr_card  is_active_member  estimated_salary  exited  geography_germany  geography_spain  gender_male\n",
              "0           619   42       2       0.00                1            1                 1         101348.88       1                  0                0            0\n",
              "1           608   41       1   83807.86                1            0                 1         112542.58       0                  0                1            0\n",
              "2           502   42       8  159660.80                3            1                 0         113931.57       1                  0                0            0\n",
              "3           699   39       1       0.00                2            0                 0          93826.63       0                  0                0            0\n",
              "4           850   43       2  125510.82                1            1                 1          79084.10       0                  0                1            0"
            ],
            "text/html": [
              "\n",
              "  <div id=\"df-e5c0740d-3b71-4b5d-a62d-b9f29ca871d4\">\n",
              "    <div class=\"colab-df-container\">\n",
              "      <div>\n",
              "<style scoped>\n",
              "    .dataframe tbody tr th:only-of-type {\n",
              "        vertical-align: middle;\n",
              "    }\n",
              "\n",
              "    .dataframe tbody tr th {\n",
              "        vertical-align: top;\n",
              "    }\n",
              "\n",
              "    .dataframe thead th {\n",
              "        text-align: right;\n",
              "    }\n",
              "</style>\n",
              "<table border=\"1\" class=\"dataframe\">\n",
              "  <thead>\n",
              "    <tr style=\"text-align: right;\">\n",
              "      <th></th>\n",
              "      <th>credit_score</th>\n",
              "      <th>age</th>\n",
              "      <th>tenure</th>\n",
              "      <th>balance</th>\n",
              "      <th>num_of_products</th>\n",
              "      <th>has_cr_card</th>\n",
              "      <th>is_active_member</th>\n",
              "      <th>estimated_salary</th>\n",
              "      <th>exited</th>\n",
              "      <th>geography_germany</th>\n",
              "      <th>geography_spain</th>\n",
              "      <th>gender_male</th>\n",
              "    </tr>\n",
              "  </thead>\n",
              "  <tbody>\n",
              "    <tr>\n",
              "      <th>0</th>\n",
              "      <td>619</td>\n",
              "      <td>42</td>\n",
              "      <td>2</td>\n",
              "      <td>0.00</td>\n",
              "      <td>1</td>\n",
              "      <td>1</td>\n",
              "      <td>1</td>\n",
              "      <td>101348.88</td>\n",
              "      <td>1</td>\n",
              "      <td>0</td>\n",
              "      <td>0</td>\n",
              "      <td>0</td>\n",
              "    </tr>\n",
              "    <tr>\n",
              "      <th>1</th>\n",
              "      <td>608</td>\n",
              "      <td>41</td>\n",
              "      <td>1</td>\n",
              "      <td>83807.86</td>\n",
              "      <td>1</td>\n",
              "      <td>0</td>\n",
              "      <td>1</td>\n",
              "      <td>112542.58</td>\n",
              "      <td>0</td>\n",
              "      <td>0</td>\n",
              "      <td>1</td>\n",
              "      <td>0</td>\n",
              "    </tr>\n",
              "    <tr>\n",
              "      <th>2</th>\n",
              "      <td>502</td>\n",
              "      <td>42</td>\n",
              "      <td>8</td>\n",
              "      <td>159660.80</td>\n",
              "      <td>3</td>\n",
              "      <td>1</td>\n",
              "      <td>0</td>\n",
              "      <td>113931.57</td>\n",
              "      <td>1</td>\n",
              "      <td>0</td>\n",
              "      <td>0</td>\n",
              "      <td>0</td>\n",
              "    </tr>\n",
              "    <tr>\n",
              "      <th>3</th>\n",
              "      <td>699</td>\n",
              "      <td>39</td>\n",
              "      <td>1</td>\n",
              "      <td>0.00</td>\n",
              "      <td>2</td>\n",
              "      <td>0</td>\n",
              "      <td>0</td>\n",
              "      <td>93826.63</td>\n",
              "      <td>0</td>\n",
              "      <td>0</td>\n",
              "      <td>0</td>\n",
              "      <td>0</td>\n",
              "    </tr>\n",
              "    <tr>\n",
              "      <th>4</th>\n",
              "      <td>850</td>\n",
              "      <td>43</td>\n",
              "      <td>2</td>\n",
              "      <td>125510.82</td>\n",
              "      <td>1</td>\n",
              "      <td>1</td>\n",
              "      <td>1</td>\n",
              "      <td>79084.10</td>\n",
              "      <td>0</td>\n",
              "      <td>0</td>\n",
              "      <td>1</td>\n",
              "      <td>0</td>\n",
              "    </tr>\n",
              "  </tbody>\n",
              "</table>\n",
              "</div>\n",
              "      <button class=\"colab-df-convert\" onclick=\"convertToInteractive('df-e5c0740d-3b71-4b5d-a62d-b9f29ca871d4')\"\n",
              "              title=\"Convert this dataframe to an interactive table.\"\n",
              "              style=\"display:none;\">\n",
              "        \n",
              "  <svg xmlns=\"http://www.w3.org/2000/svg\" height=\"24px\"viewBox=\"0 0 24 24\"\n",
              "       width=\"24px\">\n",
              "    <path d=\"M0 0h24v24H0V0z\" fill=\"none\"/>\n",
              "    <path d=\"M18.56 5.44l.94 2.06.94-2.06 2.06-.94-2.06-.94-.94-2.06-.94 2.06-2.06.94zm-11 1L8.5 8.5l.94-2.06 2.06-.94-2.06-.94L8.5 2.5l-.94 2.06-2.06.94zm10 10l.94 2.06.94-2.06 2.06-.94-2.06-.94-.94-2.06-.94 2.06-2.06.94z\"/><path d=\"M17.41 7.96l-1.37-1.37c-.4-.4-.92-.59-1.43-.59-.52 0-1.04.2-1.43.59L10.3 9.45l-7.72 7.72c-.78.78-.78 2.05 0 2.83L4 21.41c.39.39.9.59 1.41.59.51 0 1.02-.2 1.41-.59l7.78-7.78 2.81-2.81c.8-.78.8-2.07 0-2.86zM5.41 20L4 18.59l7.72-7.72 1.47 1.35L5.41 20z\"/>\n",
              "  </svg>\n",
              "      </button>\n",
              "      \n",
              "  <style>\n",
              "    .colab-df-container {\n",
              "      display:flex;\n",
              "      flex-wrap:wrap;\n",
              "      gap: 12px;\n",
              "    }\n",
              "\n",
              "    .colab-df-convert {\n",
              "      background-color: #E8F0FE;\n",
              "      border: none;\n",
              "      border-radius: 50%;\n",
              "      cursor: pointer;\n",
              "      display: none;\n",
              "      fill: #1967D2;\n",
              "      height: 32px;\n",
              "      padding: 0 0 0 0;\n",
              "      width: 32px;\n",
              "    }\n",
              "\n",
              "    .colab-df-convert:hover {\n",
              "      background-color: #E2EBFA;\n",
              "      box-shadow: 0px 1px 2px rgba(60, 64, 67, 0.3), 0px 1px 3px 1px rgba(60, 64, 67, 0.15);\n",
              "      fill: #174EA6;\n",
              "    }\n",
              "\n",
              "    [theme=dark] .colab-df-convert {\n",
              "      background-color: #3B4455;\n",
              "      fill: #D2E3FC;\n",
              "    }\n",
              "\n",
              "    [theme=dark] .colab-df-convert:hover {\n",
              "      background-color: #434B5C;\n",
              "      box-shadow: 0px 1px 3px 1px rgba(0, 0, 0, 0.15);\n",
              "      filter: drop-shadow(0px 1px 2px rgba(0, 0, 0, 0.3));\n",
              "      fill: #FFFFFF;\n",
              "    }\n",
              "  </style>\n",
              "\n",
              "      <script>\n",
              "        const buttonEl =\n",
              "          document.querySelector('#df-e5c0740d-3b71-4b5d-a62d-b9f29ca871d4 button.colab-df-convert');\n",
              "        buttonEl.style.display =\n",
              "          google.colab.kernel.accessAllowed ? 'block' : 'none';\n",
              "\n",
              "        async function convertToInteractive(key) {\n",
              "          const element = document.querySelector('#df-e5c0740d-3b71-4b5d-a62d-b9f29ca871d4');\n",
              "          const dataTable =\n",
              "            await google.colab.kernel.invokeFunction('convertToInteractive',\n",
              "                                                     [key], {});\n",
              "          if (!dataTable) return;\n",
              "\n",
              "          const docLinkHtml = 'Like what you see? Visit the ' +\n",
              "            '<a target=\"_blank\" href=https://colab.research.google.com/notebooks/data_table.ipynb>data table notebook</a>'\n",
              "            + ' to learn more about interactive tables.';\n",
              "          element.innerHTML = '';\n",
              "          dataTable['output_type'] = 'display_data';\n",
              "          await google.colab.output.renderOutput(dataTable, element);\n",
              "          const docLink = document.createElement('div');\n",
              "          docLink.innerHTML = docLinkHtml;\n",
              "          element.appendChild(docLink);\n",
              "        }\n",
              "      </script>\n",
              "    </div>\n",
              "  </div>\n",
              "  "
            ]
          },
          "metadata": {},
          "execution_count": 18
        }
      ]
    },
    {
      "cell_type": "code",
      "source": [
        "data_ohe.dtypes"
      ],
      "metadata": {
        "colab": {
          "base_uri": "https://localhost:8080/"
        },
        "id": "2YfzLs_Ux3_x",
        "outputId": "b370bd66-5bd6-4641-99da-a9c30441c920"
      },
      "execution_count": 19,
      "outputs": [
        {
          "output_type": "execute_result",
          "data": {
            "text/plain": [
              "credit_score           int64\n",
              "age                    int64\n",
              "tenure                 int64\n",
              "balance              float64\n",
              "num_of_products        int64\n",
              "has_cr_card            int64\n",
              "is_active_member       int64\n",
              "estimated_salary     float64\n",
              "exited                 int64\n",
              "geography_germany      uint8\n",
              "geography_spain        uint8\n",
              "gender_male            uint8\n",
              "dtype: object"
            ]
          },
          "metadata": {},
          "execution_count": 19
        }
      ]
    },
    {
      "cell_type": "markdown",
      "source": [
        "### Разбиение данных на выборки"
      ],
      "metadata": {
        "id": "oZzUHjJE2NQO"
      }
    },
    {
      "cell_type": "code",
      "source": [
        "# выделим целевой признак\n",
        "target = data_ohe['exited']\n",
        "features = data_ohe.drop('exited', axis=1)\n",
        "# разделим исходные данные на три выборки: обучающую, валидационную и тестовую\n",
        "features_train, features_valid, target_train, target_valid = train_test_split(features,\n",
        "                                                                              target,\n",
        "                                                                              train_size=0.60,\n",
        "                                                                              test_size=0.40,\n",
        "                                                                              random_state=12345,\n",
        "                                                                              stratify=target)\n",
        "features_valid, features_test, target_valid, target_test = train_test_split(features_valid,\n",
        "                                                                            target_valid,\n",
        "                                                                            train_size=0.50,\n",
        "                                                                            test_size=0.50,\n",
        "                                                                            random_state=12345,\n",
        "                                                                            stratify=target_valid)\n",
        "samples = {'Размер обучающей выборки' : features_train,\n",
        "          'Размер валидационной выборки': features_valid,\n",
        "          'Размер тестовой выборки': features_test}\n",
        "\n",
        "for key, value in samples.items():\n",
        "    print(key + ':', value.shape)"
      ],
      "metadata": {
        "colab": {
          "base_uri": "https://localhost:8080/"
        },
        "id": "0-Q89ZBN2JA3",
        "outputId": "941b943b-47a7-4420-88fa-bb6132a0c25b"
      },
      "execution_count": 20,
      "outputs": [
        {
          "output_type": "stream",
          "name": "stdout",
          "text": [
            "Размер обучающей выборки: (6000, 11)\n",
            "Размер валидационной выборки: (2000, 11)\n",
            "Размер тестовой выборки: (2000, 11)\n"
          ]
        }
      ]
    },
    {
      "cell_type": "markdown",
      "source": [
        "### Масштабирование признаков\n",
        "Ранее мы отметили, что масштаб признаков очень сильно отличается. Это отрицательно повлияет на работу будущей модели (алгоритм может решить, что признак с более высокими значениями более важен чем другие признаки), поэтому признаки необходимо масштабировать."
      ],
      "metadata": {
        "id": "zVRYOftHTPga"
      }
    },
    {
      "cell_type": "code",
      "source": [
        "# приведем признаки к одному масштабу\n",
        "# для этого будем использовать структуру для стандартизации данных из библиотеке sklearn — StandardScaler\n",
        "numeric = ['credit_score', 'age', 'tenure', 'balance', 'num_of_products', 'estimated_salary']\n",
        "\n",
        "# обучаем стандартизацию и преобразуем обучающую, валидационную и тестовую выборки\n",
        "scaler = StandardScaler()\n",
        "scaler.fit(features_train[numeric])\n",
        "features_train[numeric] = scaler.transform(features_train[numeric])\n",
        "features_valid[numeric] = scaler.transform(features_valid[numeric])\n",
        "features_test[numeric] = scaler.transform(features_test[numeric])\n",
        "features_train.head()"
      ],
      "metadata": {
        "colab": {
          "base_uri": "https://localhost:8080/",
          "height": 270
        },
        "id": "p0mwSTN-TWln",
        "outputId": "54077b2d-c07b-4892-cbd3-7973a5ce5a40"
      },
      "execution_count": 21,
      "outputs": [
        {
          "output_type": "execute_result",
          "data": {
            "text/plain": [
              "      credit_score       age    tenure   balance  num_of_products  has_cr_card  is_active_member  estimated_salary  geography_germany  geography_spain  gender_male\n",
              "2837     -1.040434  0.953312  0.360600  0.774657        -0.914708            0                 1         -0.119110                  1                0            0\n",
              "9925      0.454006 -0.095244 -0.002786  1.910540        -0.914708            1                 1         -0.258658                  0                0            0\n",
              "8746      0.103585 -0.476537  1.087371  0.481608         0.820981            0                 1          1.422836                  0                0            1\n",
              "660      -0.184996  0.190726 -0.002786  0.088439        -0.914708            1                 1         -1.160427                  1                0            0\n",
              "3610     -0.720933  1.620574 -1.456328  0.879129        -0.914708            1                 0          0.113236                  0                0            0"
            ],
            "text/html": [
              "\n",
              "  <div id=\"df-13339faa-0a97-46c3-aaa4-efaedab25a00\">\n",
              "    <div class=\"colab-df-container\">\n",
              "      <div>\n",
              "<style scoped>\n",
              "    .dataframe tbody tr th:only-of-type {\n",
              "        vertical-align: middle;\n",
              "    }\n",
              "\n",
              "    .dataframe tbody tr th {\n",
              "        vertical-align: top;\n",
              "    }\n",
              "\n",
              "    .dataframe thead th {\n",
              "        text-align: right;\n",
              "    }\n",
              "</style>\n",
              "<table border=\"1\" class=\"dataframe\">\n",
              "  <thead>\n",
              "    <tr style=\"text-align: right;\">\n",
              "      <th></th>\n",
              "      <th>credit_score</th>\n",
              "      <th>age</th>\n",
              "      <th>tenure</th>\n",
              "      <th>balance</th>\n",
              "      <th>num_of_products</th>\n",
              "      <th>has_cr_card</th>\n",
              "      <th>is_active_member</th>\n",
              "      <th>estimated_salary</th>\n",
              "      <th>geography_germany</th>\n",
              "      <th>geography_spain</th>\n",
              "      <th>gender_male</th>\n",
              "    </tr>\n",
              "  </thead>\n",
              "  <tbody>\n",
              "    <tr>\n",
              "      <th>2837</th>\n",
              "      <td>-1.040434</td>\n",
              "      <td>0.953312</td>\n",
              "      <td>0.360600</td>\n",
              "      <td>0.774657</td>\n",
              "      <td>-0.914708</td>\n",
              "      <td>0</td>\n",
              "      <td>1</td>\n",
              "      <td>-0.119110</td>\n",
              "      <td>1</td>\n",
              "      <td>0</td>\n",
              "      <td>0</td>\n",
              "    </tr>\n",
              "    <tr>\n",
              "      <th>9925</th>\n",
              "      <td>0.454006</td>\n",
              "      <td>-0.095244</td>\n",
              "      <td>-0.002786</td>\n",
              "      <td>1.910540</td>\n",
              "      <td>-0.914708</td>\n",
              "      <td>1</td>\n",
              "      <td>1</td>\n",
              "      <td>-0.258658</td>\n",
              "      <td>0</td>\n",
              "      <td>0</td>\n",
              "      <td>0</td>\n",
              "    </tr>\n",
              "    <tr>\n",
              "      <th>8746</th>\n",
              "      <td>0.103585</td>\n",
              "      <td>-0.476537</td>\n",
              "      <td>1.087371</td>\n",
              "      <td>0.481608</td>\n",
              "      <td>0.820981</td>\n",
              "      <td>0</td>\n",
              "      <td>1</td>\n",
              "      <td>1.422836</td>\n",
              "      <td>0</td>\n",
              "      <td>0</td>\n",
              "      <td>1</td>\n",
              "    </tr>\n",
              "    <tr>\n",
              "      <th>660</th>\n",
              "      <td>-0.184996</td>\n",
              "      <td>0.190726</td>\n",
              "      <td>-0.002786</td>\n",
              "      <td>0.088439</td>\n",
              "      <td>-0.914708</td>\n",
              "      <td>1</td>\n",
              "      <td>1</td>\n",
              "      <td>-1.160427</td>\n",
              "      <td>1</td>\n",
              "      <td>0</td>\n",
              "      <td>0</td>\n",
              "    </tr>\n",
              "    <tr>\n",
              "      <th>3610</th>\n",
              "      <td>-0.720933</td>\n",
              "      <td>1.620574</td>\n",
              "      <td>-1.456328</td>\n",
              "      <td>0.879129</td>\n",
              "      <td>-0.914708</td>\n",
              "      <td>1</td>\n",
              "      <td>0</td>\n",
              "      <td>0.113236</td>\n",
              "      <td>0</td>\n",
              "      <td>0</td>\n",
              "      <td>0</td>\n",
              "    </tr>\n",
              "  </tbody>\n",
              "</table>\n",
              "</div>\n",
              "      <button class=\"colab-df-convert\" onclick=\"convertToInteractive('df-13339faa-0a97-46c3-aaa4-efaedab25a00')\"\n",
              "              title=\"Convert this dataframe to an interactive table.\"\n",
              "              style=\"display:none;\">\n",
              "        \n",
              "  <svg xmlns=\"http://www.w3.org/2000/svg\" height=\"24px\"viewBox=\"0 0 24 24\"\n",
              "       width=\"24px\">\n",
              "    <path d=\"M0 0h24v24H0V0z\" fill=\"none\"/>\n",
              "    <path d=\"M18.56 5.44l.94 2.06.94-2.06 2.06-.94-2.06-.94-.94-2.06-.94 2.06-2.06.94zm-11 1L8.5 8.5l.94-2.06 2.06-.94-2.06-.94L8.5 2.5l-.94 2.06-2.06.94zm10 10l.94 2.06.94-2.06 2.06-.94-2.06-.94-.94-2.06-.94 2.06-2.06.94z\"/><path d=\"M17.41 7.96l-1.37-1.37c-.4-.4-.92-.59-1.43-.59-.52 0-1.04.2-1.43.59L10.3 9.45l-7.72 7.72c-.78.78-.78 2.05 0 2.83L4 21.41c.39.39.9.59 1.41.59.51 0 1.02-.2 1.41-.59l7.78-7.78 2.81-2.81c.8-.78.8-2.07 0-2.86zM5.41 20L4 18.59l7.72-7.72 1.47 1.35L5.41 20z\"/>\n",
              "  </svg>\n",
              "      </button>\n",
              "      \n",
              "  <style>\n",
              "    .colab-df-container {\n",
              "      display:flex;\n",
              "      flex-wrap:wrap;\n",
              "      gap: 12px;\n",
              "    }\n",
              "\n",
              "    .colab-df-convert {\n",
              "      background-color: #E8F0FE;\n",
              "      border: none;\n",
              "      border-radius: 50%;\n",
              "      cursor: pointer;\n",
              "      display: none;\n",
              "      fill: #1967D2;\n",
              "      height: 32px;\n",
              "      padding: 0 0 0 0;\n",
              "      width: 32px;\n",
              "    }\n",
              "\n",
              "    .colab-df-convert:hover {\n",
              "      background-color: #E2EBFA;\n",
              "      box-shadow: 0px 1px 2px rgba(60, 64, 67, 0.3), 0px 1px 3px 1px rgba(60, 64, 67, 0.15);\n",
              "      fill: #174EA6;\n",
              "    }\n",
              "\n",
              "    [theme=dark] .colab-df-convert {\n",
              "      background-color: #3B4455;\n",
              "      fill: #D2E3FC;\n",
              "    }\n",
              "\n",
              "    [theme=dark] .colab-df-convert:hover {\n",
              "      background-color: #434B5C;\n",
              "      box-shadow: 0px 1px 3px 1px rgba(0, 0, 0, 0.15);\n",
              "      filter: drop-shadow(0px 1px 2px rgba(0, 0, 0, 0.3));\n",
              "      fill: #FFFFFF;\n",
              "    }\n",
              "  </style>\n",
              "\n",
              "      <script>\n",
              "        const buttonEl =\n",
              "          document.querySelector('#df-13339faa-0a97-46c3-aaa4-efaedab25a00 button.colab-df-convert');\n",
              "        buttonEl.style.display =\n",
              "          google.colab.kernel.accessAllowed ? 'block' : 'none';\n",
              "\n",
              "        async function convertToInteractive(key) {\n",
              "          const element = document.querySelector('#df-13339faa-0a97-46c3-aaa4-efaedab25a00');\n",
              "          const dataTable =\n",
              "            await google.colab.kernel.invokeFunction('convertToInteractive',\n",
              "                                                     [key], {});\n",
              "          if (!dataTable) return;\n",
              "\n",
              "          const docLinkHtml = 'Like what you see? Visit the ' +\n",
              "            '<a target=\"_blank\" href=https://colab.research.google.com/notebooks/data_table.ipynb>data table notebook</a>'\n",
              "            + ' to learn more about interactive tables.';\n",
              "          element.innerHTML = '';\n",
              "          dataTable['output_type'] = 'display_data';\n",
              "          await google.colab.output.renderOutput(dataTable, element);\n",
              "          const docLink = document.createElement('div');\n",
              "          docLink.innerHTML = docLinkHtml;\n",
              "          element.appendChild(docLink);\n",
              "        }\n",
              "      </script>\n",
              "    </div>\n",
              "  </div>\n",
              "  "
            ]
          },
          "metadata": {},
          "execution_count": 21
        }
      ]
    },
    {
      "cell_type": "markdown",
      "source": [
        "### Выводы:\n",
        "1. Изучили данные и сделали предобработку данных (заменили тип данных и заполнили пропуски для признака tenure, проверили данные на дубликаты и переименовали признаки).\n",
        "2. Удалили признаки 'RowNumber', 'CustomerId', 'Surname', которые не несут в себе информации, необходимой для дальнейшей классификации.\n",
        "3. Преобразовали категориальные признаки 'geography', 'gender' в численные.\n",
        "4. Разделили исходные данные на три выборки: обучающую, валидационную и тестовую в соотношении 3:1:1.\n",
        "5. Масштабировали следующие признаки: 'credit_score', 'age', 'tenure', 'balance', 'num_of_products', 'estimated_salary'."
      ],
      "metadata": {
        "id": "PoF8WsmZTfqo"
      }
    },
    {
      "cell_type": "markdown",
      "source": [
        "## Исследование задачи\n",
        "В рамках проекта нам необходимо решить задачу бинарной классификации: спрогнозировать, уйдёт клиент из банка в ближайшее время или нет. Обучим разные модели без учёта дисбаланса. Рассмотрим следующие модели классификации:\n",
        "\n",
        "1. дерево принятия решений (Decision Tree Classifier)\n",
        "2. случайный лес (Random Forest Classifier)\n",
        "3. логистическая регрессия (Logistic Regression)."
      ],
      "metadata": {
        "id": "8HUWT0qdTu6w"
      }
    },
    {
      "cell_type": "code",
      "source": [
        "values = data_ohe['exited'].value_counts()\n",
        "values = values.to_frame().reset_index()\n",
        "values.columns = ['Boolean', 'Count']\n",
        "values['Percentage'] = data_ohe['exited'].value_counts(normalize=True)\n",
        "pd.DataFrame(values)\n",
        "values"
      ],
      "metadata": {
        "colab": {
          "base_uri": "https://localhost:8080/",
          "height": 112
        },
        "id": "eFkBuiy0TpPN",
        "outputId": "5e8be5a7-b4c2-4ed0-9949-a8659210c8c9"
      },
      "execution_count": 22,
      "outputs": [
        {
          "output_type": "execute_result",
          "data": {
            "text/plain": [
              "   Boolean  Count  Percentage\n",
              "0        0   7963      0.7963\n",
              "1        1   2037      0.2037"
            ],
            "text/html": [
              "\n",
              "  <div id=\"df-fa90f093-cc79-4eeb-93fd-f1ada0e84846\">\n",
              "    <div class=\"colab-df-container\">\n",
              "      <div>\n",
              "<style scoped>\n",
              "    .dataframe tbody tr th:only-of-type {\n",
              "        vertical-align: middle;\n",
              "    }\n",
              "\n",
              "    .dataframe tbody tr th {\n",
              "        vertical-align: top;\n",
              "    }\n",
              "\n",
              "    .dataframe thead th {\n",
              "        text-align: right;\n",
              "    }\n",
              "</style>\n",
              "<table border=\"1\" class=\"dataframe\">\n",
              "  <thead>\n",
              "    <tr style=\"text-align: right;\">\n",
              "      <th></th>\n",
              "      <th>Boolean</th>\n",
              "      <th>Count</th>\n",
              "      <th>Percentage</th>\n",
              "    </tr>\n",
              "  </thead>\n",
              "  <tbody>\n",
              "    <tr>\n",
              "      <th>0</th>\n",
              "      <td>0</td>\n",
              "      <td>7963</td>\n",
              "      <td>0.7963</td>\n",
              "    </tr>\n",
              "    <tr>\n",
              "      <th>1</th>\n",
              "      <td>1</td>\n",
              "      <td>2037</td>\n",
              "      <td>0.2037</td>\n",
              "    </tr>\n",
              "  </tbody>\n",
              "</table>\n",
              "</div>\n",
              "      <button class=\"colab-df-convert\" onclick=\"convertToInteractive('df-fa90f093-cc79-4eeb-93fd-f1ada0e84846')\"\n",
              "              title=\"Convert this dataframe to an interactive table.\"\n",
              "              style=\"display:none;\">\n",
              "        \n",
              "  <svg xmlns=\"http://www.w3.org/2000/svg\" height=\"24px\"viewBox=\"0 0 24 24\"\n",
              "       width=\"24px\">\n",
              "    <path d=\"M0 0h24v24H0V0z\" fill=\"none\"/>\n",
              "    <path d=\"M18.56 5.44l.94 2.06.94-2.06 2.06-.94-2.06-.94-.94-2.06-.94 2.06-2.06.94zm-11 1L8.5 8.5l.94-2.06 2.06-.94-2.06-.94L8.5 2.5l-.94 2.06-2.06.94zm10 10l.94 2.06.94-2.06 2.06-.94-2.06-.94-.94-2.06-.94 2.06-2.06.94z\"/><path d=\"M17.41 7.96l-1.37-1.37c-.4-.4-.92-.59-1.43-.59-.52 0-1.04.2-1.43.59L10.3 9.45l-7.72 7.72c-.78.78-.78 2.05 0 2.83L4 21.41c.39.39.9.59 1.41.59.51 0 1.02-.2 1.41-.59l7.78-7.78 2.81-2.81c.8-.78.8-2.07 0-2.86zM5.41 20L4 18.59l7.72-7.72 1.47 1.35L5.41 20z\"/>\n",
              "  </svg>\n",
              "      </button>\n",
              "      \n",
              "  <style>\n",
              "    .colab-df-container {\n",
              "      display:flex;\n",
              "      flex-wrap:wrap;\n",
              "      gap: 12px;\n",
              "    }\n",
              "\n",
              "    .colab-df-convert {\n",
              "      background-color: #E8F0FE;\n",
              "      border: none;\n",
              "      border-radius: 50%;\n",
              "      cursor: pointer;\n",
              "      display: none;\n",
              "      fill: #1967D2;\n",
              "      height: 32px;\n",
              "      padding: 0 0 0 0;\n",
              "      width: 32px;\n",
              "    }\n",
              "\n",
              "    .colab-df-convert:hover {\n",
              "      background-color: #E2EBFA;\n",
              "      box-shadow: 0px 1px 2px rgba(60, 64, 67, 0.3), 0px 1px 3px 1px rgba(60, 64, 67, 0.15);\n",
              "      fill: #174EA6;\n",
              "    }\n",
              "\n",
              "    [theme=dark] .colab-df-convert {\n",
              "      background-color: #3B4455;\n",
              "      fill: #D2E3FC;\n",
              "    }\n",
              "\n",
              "    [theme=dark] .colab-df-convert:hover {\n",
              "      background-color: #434B5C;\n",
              "      box-shadow: 0px 1px 3px 1px rgba(0, 0, 0, 0.15);\n",
              "      filter: drop-shadow(0px 1px 2px rgba(0, 0, 0, 0.3));\n",
              "      fill: #FFFFFF;\n",
              "    }\n",
              "  </style>\n",
              "\n",
              "      <script>\n",
              "        const buttonEl =\n",
              "          document.querySelector('#df-fa90f093-cc79-4eeb-93fd-f1ada0e84846 button.colab-df-convert');\n",
              "        buttonEl.style.display =\n",
              "          google.colab.kernel.accessAllowed ? 'block' : 'none';\n",
              "\n",
              "        async function convertToInteractive(key) {\n",
              "          const element = document.querySelector('#df-fa90f093-cc79-4eeb-93fd-f1ada0e84846');\n",
              "          const dataTable =\n",
              "            await google.colab.kernel.invokeFunction('convertToInteractive',\n",
              "                                                     [key], {});\n",
              "          if (!dataTable) return;\n",
              "\n",
              "          const docLinkHtml = 'Like what you see? Visit the ' +\n",
              "            '<a target=\"_blank\" href=https://colab.research.google.com/notebooks/data_table.ipynb>data table notebook</a>'\n",
              "            + ' to learn more about interactive tables.';\n",
              "          element.innerHTML = '';\n",
              "          dataTable['output_type'] = 'display_data';\n",
              "          await google.colab.output.renderOutput(dataTable, element);\n",
              "          const docLink = document.createElement('div');\n",
              "          docLink.innerHTML = docLinkHtml;\n",
              "          element.appendChild(docLink);\n",
              "        }\n",
              "      </script>\n",
              "    </div>\n",
              "  </div>\n",
              "  "
            ]
          },
          "metadata": {},
          "execution_count": 22
        }
      ]
    },
    {
      "cell_type": "code",
      "source": [
        "def visualize_class_balance(x, y, values, labels):\n",
        "\n",
        "    '''\n",
        "\n",
        "    Функция для визуализации баланса классов (в абсолютных величинах и в процентах).\n",
        "\n",
        "    '''\n",
        "\n",
        "    fig = make_subplots(rows = 1, cols = 2,\n",
        "                    specs = [[{\"type\": \"bar\"}, {\"type\": \"pie\"}]],\n",
        "                    subplot_titles = ('Доля клиентов, в зависимости от класса',\n",
        "                                    'Доля клиентов, в зависимости от класса'))\n",
        "\n",
        "    fig.add_trace(go.Bar(x = x, y = y), row = 1, col = 1)\n",
        "    fig.add_trace(go.Pie(values = values, labels = labels), row = 1, col = 2)\n",
        "\n",
        "    fig.update_layout(height = 400, showlegend = False, title_text = \"Факт ухода клиента, где 1-ушел, 0-остался\")\n",
        "    fig.show()\n",
        "\n",
        "visualize_class_balance(values['Boolean'], values['Count'], values['Percentage'], values['Boolean'])"
      ],
      "metadata": {
        "colab": {
          "base_uri": "https://localhost:8080/",
          "height": 417
        },
        "id": "L_piAE_pUBEJ",
        "outputId": "b9f1c291-b41f-40e6-e322-b2089607a2d3"
      },
      "execution_count": 23,
      "outputs": [
        {
          "output_type": "display_data",
          "data": {
            "text/html": [
              "<html>\n",
              "<head><meta charset=\"utf-8\" /></head>\n",
              "<body>\n",
              "    <div>            <script src=\"https://cdnjs.cloudflare.com/ajax/libs/mathjax/2.7.5/MathJax.js?config=TeX-AMS-MML_SVG\"></script><script type=\"text/javascript\">if (window.MathJax && window.MathJax.Hub && window.MathJax.Hub.Config) {window.MathJax.Hub.Config({SVG: {font: \"STIX-Web\"}});}</script>                <script type=\"text/javascript\">window.PlotlyConfig = {MathJaxConfig: 'local'};</script>\n",
              "        <script src=\"https://cdn.plot.ly/plotly-2.18.2.min.js\"></script>                <div id=\"440a0417-bee6-4532-83a0-e3767f639e5d\" class=\"plotly-graph-div\" style=\"height:400px; width:100%;\"></div>            <script type=\"text/javascript\">                                    window.PLOTLYENV=window.PLOTLYENV || {};                                    if (document.getElementById(\"440a0417-bee6-4532-83a0-e3767f639e5d\")) {                    Plotly.newPlot(                        \"440a0417-bee6-4532-83a0-e3767f639e5d\",                        [{\"x\":[0,1],\"y\":[7963,2037],\"type\":\"bar\",\"xaxis\":\"x\",\"yaxis\":\"y\"},{\"labels\":[0,1],\"values\":[0.7963,0.2037],\"type\":\"pie\",\"domain\":{\"x\":[0.55,1.0],\"y\":[0.0,1.0]}}],                        {\"template\":{\"data\":{\"histogram2dcontour\":[{\"type\":\"histogram2dcontour\",\"colorbar\":{\"outlinewidth\":0,\"ticks\":\"\"},\"colorscale\":[[0.0,\"#0d0887\"],[0.1111111111111111,\"#46039f\"],[0.2222222222222222,\"#7201a8\"],[0.3333333333333333,\"#9c179e\"],[0.4444444444444444,\"#bd3786\"],[0.5555555555555556,\"#d8576b\"],[0.6666666666666666,\"#ed7953\"],[0.7777777777777778,\"#fb9f3a\"],[0.8888888888888888,\"#fdca26\"],[1.0,\"#f0f921\"]]}],\"choropleth\":[{\"type\":\"choropleth\",\"colorbar\":{\"outlinewidth\":0,\"ticks\":\"\"}}],\"histogram2d\":[{\"type\":\"histogram2d\",\"colorbar\":{\"outlinewidth\":0,\"ticks\":\"\"},\"colorscale\":[[0.0,\"#0d0887\"],[0.1111111111111111,\"#46039f\"],[0.2222222222222222,\"#7201a8\"],[0.3333333333333333,\"#9c179e\"],[0.4444444444444444,\"#bd3786\"],[0.5555555555555556,\"#d8576b\"],[0.6666666666666666,\"#ed7953\"],[0.7777777777777778,\"#fb9f3a\"],[0.8888888888888888,\"#fdca26\"],[1.0,\"#f0f921\"]]}],\"heatmap\":[{\"type\":\"heatmap\",\"colorbar\":{\"outlinewidth\":0,\"ticks\":\"\"},\"colorscale\":[[0.0,\"#0d0887\"],[0.1111111111111111,\"#46039f\"],[0.2222222222222222,\"#7201a8\"],[0.3333333333333333,\"#9c179e\"],[0.4444444444444444,\"#bd3786\"],[0.5555555555555556,\"#d8576b\"],[0.6666666666666666,\"#ed7953\"],[0.7777777777777778,\"#fb9f3a\"],[0.8888888888888888,\"#fdca26\"],[1.0,\"#f0f921\"]]}],\"heatmapgl\":[{\"type\":\"heatmapgl\",\"colorbar\":{\"outlinewidth\":0,\"ticks\":\"\"},\"colorscale\":[[0.0,\"#0d0887\"],[0.1111111111111111,\"#46039f\"],[0.2222222222222222,\"#7201a8\"],[0.3333333333333333,\"#9c179e\"],[0.4444444444444444,\"#bd3786\"],[0.5555555555555556,\"#d8576b\"],[0.6666666666666666,\"#ed7953\"],[0.7777777777777778,\"#fb9f3a\"],[0.8888888888888888,\"#fdca26\"],[1.0,\"#f0f921\"]]}],\"contourcarpet\":[{\"type\":\"contourcarpet\",\"colorbar\":{\"outlinewidth\":0,\"ticks\":\"\"}}],\"contour\":[{\"type\":\"contour\",\"colorbar\":{\"outlinewidth\":0,\"ticks\":\"\"},\"colorscale\":[[0.0,\"#0d0887\"],[0.1111111111111111,\"#46039f\"],[0.2222222222222222,\"#7201a8\"],[0.3333333333333333,\"#9c179e\"],[0.4444444444444444,\"#bd3786\"],[0.5555555555555556,\"#d8576b\"],[0.6666666666666666,\"#ed7953\"],[0.7777777777777778,\"#fb9f3a\"],[0.8888888888888888,\"#fdca26\"],[1.0,\"#f0f921\"]]}],\"surface\":[{\"type\":\"surface\",\"colorbar\":{\"outlinewidth\":0,\"ticks\":\"\"},\"colorscale\":[[0.0,\"#0d0887\"],[0.1111111111111111,\"#46039f\"],[0.2222222222222222,\"#7201a8\"],[0.3333333333333333,\"#9c179e\"],[0.4444444444444444,\"#bd3786\"],[0.5555555555555556,\"#d8576b\"],[0.6666666666666666,\"#ed7953\"],[0.7777777777777778,\"#fb9f3a\"],[0.8888888888888888,\"#fdca26\"],[1.0,\"#f0f921\"]]}],\"mesh3d\":[{\"type\":\"mesh3d\",\"colorbar\":{\"outlinewidth\":0,\"ticks\":\"\"}}],\"scatter\":[{\"fillpattern\":{\"fillmode\":\"overlay\",\"size\":10,\"solidity\":0.2},\"type\":\"scatter\"}],\"parcoords\":[{\"type\":\"parcoords\",\"line\":{\"colorbar\":{\"outlinewidth\":0,\"ticks\":\"\"}}}],\"scatterpolargl\":[{\"type\":\"scatterpolargl\",\"marker\":{\"colorbar\":{\"outlinewidth\":0,\"ticks\":\"\"}}}],\"bar\":[{\"error_x\":{\"color\":\"#2a3f5f\"},\"error_y\":{\"color\":\"#2a3f5f\"},\"marker\":{\"line\":{\"color\":\"#E5ECF6\",\"width\":0.5},\"pattern\":{\"fillmode\":\"overlay\",\"size\":10,\"solidity\":0.2}},\"type\":\"bar\"}],\"scattergeo\":[{\"type\":\"scattergeo\",\"marker\":{\"colorbar\":{\"outlinewidth\":0,\"ticks\":\"\"}}}],\"scatterpolar\":[{\"type\":\"scatterpolar\",\"marker\":{\"colorbar\":{\"outlinewidth\":0,\"ticks\":\"\"}}}],\"histogram\":[{\"marker\":{\"pattern\":{\"fillmode\":\"overlay\",\"size\":10,\"solidity\":0.2}},\"type\":\"histogram\"}],\"scattergl\":[{\"type\":\"scattergl\",\"marker\":{\"colorbar\":{\"outlinewidth\":0,\"ticks\":\"\"}}}],\"scatter3d\":[{\"type\":\"scatter3d\",\"line\":{\"colorbar\":{\"outlinewidth\":0,\"ticks\":\"\"}},\"marker\":{\"colorbar\":{\"outlinewidth\":0,\"ticks\":\"\"}}}],\"scattermapbox\":[{\"type\":\"scattermapbox\",\"marker\":{\"colorbar\":{\"outlinewidth\":0,\"ticks\":\"\"}}}],\"scatterternary\":[{\"type\":\"scatterternary\",\"marker\":{\"colorbar\":{\"outlinewidth\":0,\"ticks\":\"\"}}}],\"scattercarpet\":[{\"type\":\"scattercarpet\",\"marker\":{\"colorbar\":{\"outlinewidth\":0,\"ticks\":\"\"}}}],\"carpet\":[{\"aaxis\":{\"endlinecolor\":\"#2a3f5f\",\"gridcolor\":\"white\",\"linecolor\":\"white\",\"minorgridcolor\":\"white\",\"startlinecolor\":\"#2a3f5f\"},\"baxis\":{\"endlinecolor\":\"#2a3f5f\",\"gridcolor\":\"white\",\"linecolor\":\"white\",\"minorgridcolor\":\"white\",\"startlinecolor\":\"#2a3f5f\"},\"type\":\"carpet\"}],\"table\":[{\"cells\":{\"fill\":{\"color\":\"#EBF0F8\"},\"line\":{\"color\":\"white\"}},\"header\":{\"fill\":{\"color\":\"#C8D4E3\"},\"line\":{\"color\":\"white\"}},\"type\":\"table\"}],\"barpolar\":[{\"marker\":{\"line\":{\"color\":\"#E5ECF6\",\"width\":0.5},\"pattern\":{\"fillmode\":\"overlay\",\"size\":10,\"solidity\":0.2}},\"type\":\"barpolar\"}],\"pie\":[{\"automargin\":true,\"type\":\"pie\"}]},\"layout\":{\"autotypenumbers\":\"strict\",\"colorway\":[\"#636efa\",\"#EF553B\",\"#00cc96\",\"#ab63fa\",\"#FFA15A\",\"#19d3f3\",\"#FF6692\",\"#B6E880\",\"#FF97FF\",\"#FECB52\"],\"font\":{\"color\":\"#2a3f5f\"},\"hovermode\":\"closest\",\"hoverlabel\":{\"align\":\"left\"},\"paper_bgcolor\":\"white\",\"plot_bgcolor\":\"#E5ECF6\",\"polar\":{\"bgcolor\":\"#E5ECF6\",\"angularaxis\":{\"gridcolor\":\"white\",\"linecolor\":\"white\",\"ticks\":\"\"},\"radialaxis\":{\"gridcolor\":\"white\",\"linecolor\":\"white\",\"ticks\":\"\"}},\"ternary\":{\"bgcolor\":\"#E5ECF6\",\"aaxis\":{\"gridcolor\":\"white\",\"linecolor\":\"white\",\"ticks\":\"\"},\"baxis\":{\"gridcolor\":\"white\",\"linecolor\":\"white\",\"ticks\":\"\"},\"caxis\":{\"gridcolor\":\"white\",\"linecolor\":\"white\",\"ticks\":\"\"}},\"coloraxis\":{\"colorbar\":{\"outlinewidth\":0,\"ticks\":\"\"}},\"colorscale\":{\"sequential\":[[0.0,\"#0d0887\"],[0.1111111111111111,\"#46039f\"],[0.2222222222222222,\"#7201a8\"],[0.3333333333333333,\"#9c179e\"],[0.4444444444444444,\"#bd3786\"],[0.5555555555555556,\"#d8576b\"],[0.6666666666666666,\"#ed7953\"],[0.7777777777777778,\"#fb9f3a\"],[0.8888888888888888,\"#fdca26\"],[1.0,\"#f0f921\"]],\"sequentialminus\":[[0.0,\"#0d0887\"],[0.1111111111111111,\"#46039f\"],[0.2222222222222222,\"#7201a8\"],[0.3333333333333333,\"#9c179e\"],[0.4444444444444444,\"#bd3786\"],[0.5555555555555556,\"#d8576b\"],[0.6666666666666666,\"#ed7953\"],[0.7777777777777778,\"#fb9f3a\"],[0.8888888888888888,\"#fdca26\"],[1.0,\"#f0f921\"]],\"diverging\":[[0,\"#8e0152\"],[0.1,\"#c51b7d\"],[0.2,\"#de77ae\"],[0.3,\"#f1b6da\"],[0.4,\"#fde0ef\"],[0.5,\"#f7f7f7\"],[0.6,\"#e6f5d0\"],[0.7,\"#b8e186\"],[0.8,\"#7fbc41\"],[0.9,\"#4d9221\"],[1,\"#276419\"]]},\"xaxis\":{\"gridcolor\":\"white\",\"linecolor\":\"white\",\"ticks\":\"\",\"title\":{\"standoff\":15},\"zerolinecolor\":\"white\",\"automargin\":true,\"zerolinewidth\":2},\"yaxis\":{\"gridcolor\":\"white\",\"linecolor\":\"white\",\"ticks\":\"\",\"title\":{\"standoff\":15},\"zerolinecolor\":\"white\",\"automargin\":true,\"zerolinewidth\":2},\"scene\":{\"xaxis\":{\"backgroundcolor\":\"#E5ECF6\",\"gridcolor\":\"white\",\"linecolor\":\"white\",\"showbackground\":true,\"ticks\":\"\",\"zerolinecolor\":\"white\",\"gridwidth\":2},\"yaxis\":{\"backgroundcolor\":\"#E5ECF6\",\"gridcolor\":\"white\",\"linecolor\":\"white\",\"showbackground\":true,\"ticks\":\"\",\"zerolinecolor\":\"white\",\"gridwidth\":2},\"zaxis\":{\"backgroundcolor\":\"#E5ECF6\",\"gridcolor\":\"white\",\"linecolor\":\"white\",\"showbackground\":true,\"ticks\":\"\",\"zerolinecolor\":\"white\",\"gridwidth\":2}},\"shapedefaults\":{\"line\":{\"color\":\"#2a3f5f\"}},\"annotationdefaults\":{\"arrowcolor\":\"#2a3f5f\",\"arrowhead\":0,\"arrowwidth\":1},\"geo\":{\"bgcolor\":\"white\",\"landcolor\":\"#E5ECF6\",\"subunitcolor\":\"white\",\"showland\":true,\"showlakes\":true,\"lakecolor\":\"white\"},\"title\":{\"x\":0.05},\"mapbox\":{\"style\":\"light\"}}},\"xaxis\":{\"anchor\":\"y\",\"domain\":[0.0,0.45]},\"yaxis\":{\"anchor\":\"x\",\"domain\":[0.0,1.0]},\"annotations\":[{\"font\":{\"size\":16},\"showarrow\":false,\"text\":\"\\u0414\\u043e\\u043b\\u044f \\u043a\\u043b\\u0438\\u0435\\u043d\\u0442\\u043e\\u0432, \\u0432 \\u0437\\u0430\\u0432\\u0438\\u0441\\u0438\\u043c\\u043e\\u0441\\u0442\\u0438 \\u043e\\u0442 \\u043a\\u043b\\u0430\\u0441\\u0441\\u0430\",\"x\":0.225,\"xanchor\":\"center\",\"xref\":\"paper\",\"y\":1.0,\"yanchor\":\"bottom\",\"yref\":\"paper\"},{\"font\":{\"size\":16},\"showarrow\":false,\"text\":\"\\u0414\\u043e\\u043b\\u044f \\u043a\\u043b\\u0438\\u0435\\u043d\\u0442\\u043e\\u0432, \\u0432 \\u0437\\u0430\\u0432\\u0438\\u0441\\u0438\\u043c\\u043e\\u0441\\u0442\\u0438 \\u043e\\u0442 \\u043a\\u043b\\u0430\\u0441\\u0441\\u0430\",\"x\":0.775,\"xanchor\":\"center\",\"xref\":\"paper\",\"y\":1.0,\"yanchor\":\"bottom\",\"yref\":\"paper\"}],\"title\":{\"text\":\"\\u0424\\u0430\\u043a\\u0442 \\u0443\\u0445\\u043e\\u0434\\u0430 \\u043a\\u043b\\u0438\\u0435\\u043d\\u0442\\u0430, \\u0433\\u0434\\u0435 1-\\u0443\\u0448\\u0435\\u043b, 0-\\u043e\\u0441\\u0442\\u0430\\u043b\\u0441\\u044f\"},\"height\":400,\"showlegend\":false},                        {\"responsive\": true}                    ).then(function(){\n",
              "                            \n",
              "var gd = document.getElementById('440a0417-bee6-4532-83a0-e3767f639e5d');\n",
              "var x = new MutationObserver(function (mutations, observer) {{\n",
              "        var display = window.getComputedStyle(gd).display;\n",
              "        if (!display || display === 'none') {{\n",
              "            console.log([gd, 'removed!']);\n",
              "            Plotly.purge(gd);\n",
              "            observer.disconnect();\n",
              "        }}\n",
              "}});\n",
              "\n",
              "// Listen for the removal of the full notebook cells\n",
              "var notebookContainer = gd.closest('#notebook-container');\n",
              "if (notebookContainer) {{\n",
              "    x.observe(notebookContainer, {childList: true});\n",
              "}}\n",
              "\n",
              "// Listen for the clearing of the current output cell\n",
              "var outputEl = gd.closest('.output');\n",
              "if (outputEl) {{\n",
              "    x.observe(outputEl, {childList: true});\n",
              "}}\n",
              "\n",
              "                        })                };                            </script>        </div>\n",
              "</body>\n",
              "</html>"
            ]
          },
          "metadata": {}
        }
      ]
    },
    {
      "cell_type": "markdown",
      "source": [
        "В выборке представлены клиенты, где 79.6% - остались с банком, а 20.4% ушли от банка, что говорит нам о том, что данные довольно несбалансированы. И целевой признак распределён в сооотношении 4:1.\n",
        "\n",
        "**Обучим разные модели без учёта дисбаланса.** Так как нам предстоит решить задачу бинарной классификации, рассмотрим следующие модели классификации:\n",
        "\n",
        "1. дерево принятия решений (Decision Tree Classifier)\n",
        "2. случайный лес (Random Forest Classifier)\n",
        "3. логистическая регрессия (Logistic Regression)"
      ],
      "metadata": {
        "id": "Ftsy7gM9UH1g"
      }
    },
    {
      "cell_type": "markdown",
      "source": [
        "### Дерево принятия решений (Decision Tree Classifier)\n",
        "При использовании автоматических подборов параметров GridSearchCV модели очень долго обучались, от 25 минут до часа времени. Для ускорения процесса, использовался ручной подбор параметров."
      ],
      "metadata": {
        "id": "8Ux99dPsUVKn"
      }
    },
    {
      "cell_type": "code",
      "source": [
        "def decision_tree_classifier(features_train, features_valid, target_train, target_valid, cw=None):\n",
        "    \"\"\"\n",
        "    input: features_train, features_valid, target_train, target_valid\n",
        "    - обучающие и валидационные выборки признаков и целевого признака\n",
        "            cw - параметр class_weight для модели решающего дерева\n",
        "    output: None\n",
        "    description: функция обучает модель решающего дерева DecisionTreeClassifier с различными сочетаниями гиперпараметров;\n",
        "                 метрики качества модели: f1 и roc_auc;\n",
        "                 функция выводит наилучшие значения метрик и значения гиперпараметров наилучшей модели.\n",
        "    \"\"\"\n",
        "    # в параметрах best_optios_dtc и best_f1 будем хранить наилучшие параметры для модели\n",
        "    # и наивысшую f1 метрику соответственно\n",
        "    best_options_dtc = []\n",
        "    best_f1 = 0\n",
        "    # аналогично для roc_auc метрики.\n",
        "    best_options_roc_auc = []\n",
        "    best_roc_auc = 0.5\n",
        "    # проходим в циклах по всем выбранным гиперпараметрам\n",
        "    for max_depth in range(2,10):\n",
        "        for min_samples_split in range(2,6):\n",
        "            for min_samples_leaf in range(1,10):\n",
        "                for criterion in ['gini', 'entropy']:\n",
        "                    # инициация модели с текущими гиперпараметрами\n",
        "                    model_dtc = DecisionTreeClassifier(random_state=12345,\n",
        "                                                          max_depth=max_depth,\n",
        "                                                          min_samples_split=min_samples_split,\n",
        "                                                          min_samples_leaf=min_samples_leaf,\n",
        "                                                          criterion=criterion,\n",
        "                                                          class_weight=cw)\n",
        "                    # обучение модели на тренировочной выборке\n",
        "                    model_dtc.fit(features_train, target_train)\n",
        "                    # поиск предсказаний модели на валидационной выбоке\n",
        "                    predictions_dtc = model_dtc.predict(features_valid)\n",
        "                    probabilities_dtc = model_dtc.predict_proba(features_valid)\n",
        "                    # вычисление f1 модели методом f1_score\n",
        "                    f1 = f1_score(target_valid, predictions_dtc)\n",
        "                    # если текущее значение метрики f1 выше предыдущего лучшего значения,\n",
        "                    # сохраняем параметры модели и текущую метрику f1\n",
        "                    if f1 > best_f1:\n",
        "                        best_options_dtc = [max_depth, min_samples_split, min_samples_leaf, criterion]\n",
        "                        best_f1 = f1\n",
        "                    # аналогично для метрики roc_auc\n",
        "                    roc_auc = roc_auc_score(target_valid, probabilities_dtc[:,1])\n",
        "                    if roc_auc > best_roc_auc:\n",
        "                        best_options_roc_auc = [max_depth, min_samples_split, min_samples_leaf, criterion]\n",
        "                        best_roc_auc = roc_auc\n",
        "\n",
        "    # вывод наилучшей метрики f1 и параметров модели.\n",
        "    print('''Наилучшая метрика f1: {}\n",
        "    Парамтеры модели:\n",
        "       max_depth = {}\n",
        "       min_samples_split = {}\n",
        "       min_samples_leaf = {}\n",
        "       criterion = {} \\n'''.format(round(best_f1, 3),\n",
        "                                 best_options_dtc[0],\n",
        "                                 best_options_dtc[1],\n",
        "                                 best_options_dtc[2],\n",
        "                                 best_options_dtc[3]\n",
        "                                ))\n",
        "\n",
        "    # вывод наилучшей метрики roc_auc и параметров модели.\n",
        "    print('''Наилучшая метрика roc_auc: {}\n",
        "    Парамтеры модели:\n",
        "       max_depth = {}\n",
        "       min_samples_split = {}\n",
        "       min_samples_leaf = {}\n",
        "       criterion = {} '''.format(round(best_roc_auc, 3),\n",
        "                                 best_options_roc_auc[0],\n",
        "                                 best_options_roc_auc[1],\n",
        "                                 best_options_roc_auc[2],\n",
        "                                 best_options_roc_auc[3]\n",
        "                                ))\n",
        "\n",
        "    print()\n",
        "    # для метрики качества воспользуемся функцией classification_report,\n",
        "    # которая выведет все необходимые метрики классификации\n",
        "    report = classification_report(target_valid, predictions_dtc, target_names=['non-exited', 'exited'], output_dict=True)\n",
        "    report = pd.DataFrame(report).transpose()\n",
        "    print(report)"
      ],
      "metadata": {
        "id": "XoG99WoiUDJY"
      },
      "execution_count": 25,
      "outputs": []
    },
    {
      "cell_type": "code",
      "source": [
        "%%time\n",
        "decision_tree_classifier(features_train, features_valid, target_train, target_valid)"
      ],
      "metadata": {
        "colab": {
          "base_uri": "https://localhost:8080/"
        },
        "id": "QbsI9UxsUmPv",
        "outputId": "86543ae5-0036-42a6-d814-84219e159859"
      },
      "execution_count": 26,
      "outputs": [
        {
          "output_type": "stream",
          "name": "stdout",
          "text": [
            "Наилучшая метрика f1: 0.603\n",
            "    Парамтеры модели:\n",
            "       max_depth = 6\n",
            "       min_samples_split = 2\n",
            "       min_samples_leaf = 6\n",
            "       criterion = entropy \n",
            "\n",
            "Наилучшая метрика roc_auc: 0.859\n",
            "    Парамтеры модели:\n",
            "       max_depth = 7\n",
            "       min_samples_split = 2\n",
            "       min_samples_leaf = 6\n",
            "       criterion = entropy \n",
            "\n",
            "              precision    recall  f1-score    support\n",
            "non-exited     0.878999  0.949121  0.912715  1592.0000\n",
            "exited         0.711744  0.490196  0.580552   408.0000\n",
            "accuracy       0.855500  0.855500  0.855500     0.8555\n",
            "macro avg      0.795372  0.719658  0.746633  2000.0000\n",
            "weighted avg   0.844879  0.855500  0.844954  2000.0000\n",
            "CPU times: user 17 s, sys: 0 ns, total: 17 s\n",
            "Wall time: 18.4 s\n"
          ]
        }
      ]
    },
    {
      "cell_type": "markdown",
      "source": [
        "> - Наилучшая метрика f1 для решающего дерева 0.60 (достаточно по техническому заданию).\n",
        "- Наилучшая метрика roc_auc для решающего дерева 0.86.\n",
        "- Наилучший результат по метрикам f1 и roc_auc достигается при разной настройке max_depth.\n",
        "- Попробуем улучшить результат на других моделях."
      ],
      "metadata": {
        "id": "QFOV9Z0oUsSA"
      }
    },
    {
      "cell_type": "markdown",
      "source": [
        "### Случайный лес"
      ],
      "metadata": {
        "id": "-0UX6elQU2Ff"
      }
    },
    {
      "cell_type": "code",
      "source": [
        "def random_forest_classifier(features_train, features_valid, target_train, target_valid, cw=None):\n",
        "    \"\"\"\n",
        "    input: features_train, features_valid, target_train, target_valid\n",
        "    - обучающие и валидационные выборки признаков и целевого признака\n",
        "            cw - параметр class_weight для модели случайного леса\n",
        "    output: None\n",
        "    description: функция обучает модель решающего дерева RandomForestClassifier с различными сочетаниями гиперпараметров;\n",
        "                 метрики качества модели: f1 и roc_auc;\n",
        "                 функция выводит наилучшие значения метрик и значения гиперпараметров наилучшей модели.\n",
        "    \"\"\"\n",
        "    # в параметрах best_options_rfc и best_f1 будем хранить наилучшие параметры для модели и наивысшую f1 метрику соответственно\n",
        "    best_options_rfc = []\n",
        "    best_f1 = 0\n",
        "    # аналогично для roc_auc метрики.\n",
        "    best_options_roc_auc = []\n",
        "    best_roc_auc = 0.5\n",
        "    # проходим в циклах по всем выбранным гиперпараметрам\n",
        "    for n_estimators in range(30,40):\n",
        "        for max_depth in range(10,17,2):\n",
        "            for min_samples_split in range(2,5):\n",
        "                for min_samples_leaf in range(1,4):\n",
        "                    # инициация модели с текущими гиперпараметрами\n",
        "                    model_rfc = RandomForestClassifier(random_state=12345,\n",
        "                                                       n_estimators=n_estimators,\n",
        "                                                       max_depth=max_depth,\n",
        "                                                       min_samples_split=min_samples_split,\n",
        "                                                       min_samples_leaf=min_samples_leaf,\n",
        "                                                       class_weight=cw)\n",
        "                    # обучение модели на тренировочной выборке\n",
        "                    model_rfc.fit(features_train, target_train)\n",
        "                    # поиск предсказаний модели на валидационной выбоке\n",
        "                    predictions_rfc = model_rfc.predict(features_valid)\n",
        "                    probabilities_rfc = model_rfc.predict_proba(features_valid)\n",
        "                    # вычисление f1 модели методом f1_score\n",
        "                    f1 = f1_score(target_valid, predictions_rfc)\n",
        "                    # если текущее значение метрики f1 выше предыдущего лучшего значения,\n",
        "                    # сохраняем параметры модели и текущую метрику f1\n",
        "                    if f1 > best_f1:\n",
        "                        best_options_rfc = [n_estimators, max_depth, min_samples_split, min_samples_leaf]\n",
        "                        best_f1 = f1\n",
        "                    # аналогично для метрики roc_auc\n",
        "                    roc_auc = roc_auc_score(target_valid, probabilities_rfc[:,1])\n",
        "                    if roc_auc > best_roc_auc:\n",
        "                        best_options_roc_auc = [n_estimators, max_depth, min_samples_split, min_samples_leaf]\n",
        "                        best_roc_auc = roc_auc\n",
        "\n",
        "    # вывод наилучшей метрики f1 и параметров модели.\n",
        "    print('''Наилучшая метрика f1: {}\n",
        "    Парамтеры модели:\n",
        "       n_estimators = {}\n",
        "       max_depth = {}\n",
        "       min_samples_split = {}\n",
        "       min_samples_leaf = {} \\n'''.format(round(best_f1, 3),\n",
        "                                 best_options_rfc[0],\n",
        "                                 best_options_rfc[1],\n",
        "                                 best_options_rfc[2],\n",
        "                                 best_options_rfc[3]\n",
        "                                ))\n",
        "\n",
        "    # вывод наилучшей метрики roc_auc и параметров модели.\n",
        "    print('''Наилучшая метрика roc_auc: {}\n",
        "    Парамтеры модели:\n",
        "       n_estimators = {}\n",
        "       max_depth = {}\n",
        "       min_samples_split = {}\n",
        "       min_samples_leaf = {} '''.format(round(best_roc_auc, 3),\n",
        "                                 best_options_roc_auc[0],\n",
        "                                 best_options_roc_auc[1],\n",
        "                                 best_options_roc_auc[2],\n",
        "                                 best_options_roc_auc[3]\n",
        "                                ))\n",
        "    print()\n",
        "    # для метрики качества воспользуемся функцией classification_report,\n",
        "    # которая выведет все необходимые метрики классификации\n",
        "    report = classification_report(target_valid, predictions_rfc, target_names=['non-exited', 'exited'], output_dict=True)\n",
        "    report = pd.DataFrame(report).transpose()\n",
        "    print(report)"
      ],
      "metadata": {
        "id": "Ug7mU_JzUyNF"
      },
      "execution_count": 27,
      "outputs": []
    },
    {
      "cell_type": "code",
      "source": [
        "%%time\n",
        "random_forest_classifier(features_train, features_valid, target_train, target_valid)"
      ],
      "metadata": {
        "colab": {
          "base_uri": "https://localhost:8080/"
        },
        "id": "reyJ500cU8nn",
        "outputId": "ec7e2f75-4703-427d-817c-e841ef5e40fb"
      },
      "execution_count": 28,
      "outputs": [
        {
          "output_type": "stream",
          "name": "stdout",
          "text": [
            "Наилучшая метрика f1: 0.618\n",
            "    Парамтеры модели:\n",
            "       n_estimators = 39\n",
            "       max_depth = 12\n",
            "       min_samples_split = 2\n",
            "       min_samples_leaf = 3 \n",
            "\n",
            "Наилучшая метрика roc_auc: 0.875\n",
            "    Парамтеры модели:\n",
            "       n_estimators = 34\n",
            "       max_depth = 10\n",
            "       min_samples_split = 4\n",
            "       min_samples_leaf = 1 \n",
            "\n",
            "              precision    recall  f1-score    support\n",
            "non-exited     0.881677  0.964196  0.921092  1592.0000\n",
            "exited         0.779923  0.495098  0.605697   408.0000\n",
            "accuracy       0.868500  0.868500  0.868500     0.8685\n",
            "macro avg      0.830800  0.729647  0.763395  2000.0000\n",
            "weighted avg   0.860919  0.868500  0.856752  2000.0000\n",
            "CPU times: user 2min 13s, sys: 307 ms, total: 2min 14s\n",
            "Wall time: 2min 22s\n"
          ]
        }
      ]
    },
    {
      "cell_type": "markdown",
      "source": [
        "> - Наилучшая метрика f1 для случайного леса 0.61 (достаточно по техническому заданию).\n",
        "- Наилучшая метрика roc_auc для случайного леса 0.87.\n",
        "- Наилучший результат по метрикам f1 и roc_auc достигается при разных настройках гиперпараметров.\n",
        "- Посмотрим на результат на логистической регрессии."
      ],
      "metadata": {
        "id": "ZroyiTevVB5X"
      }
    },
    {
      "cell_type": "markdown",
      "source": [
        "### Логистическая регрессия\n",
        "Выделим гиперпараметры для настройки модели:\n",
        "\n",
        "- С - инверсия силы регуляризации\n",
        "- Критерием проверки качества модели будет f1 и roc_auc."
      ],
      "metadata": {
        "id": "Px0HBoP9VLc-"
      }
    },
    {
      "cell_type": "code",
      "source": [
        "def logistic_regression(features_train, features_valid, target_train, target_valid, cw=None):\n",
        "    # в параметрах best_options_lr и best_f1 будем хранить наилучшие параметры для модели и наивысшую f1 метрику соответственно\n",
        "    best_options_lr = []\n",
        "    best_f1 = 0\n",
        "    # аналогично для roc_auc метрики.\n",
        "    best_options_roc_auc = []\n",
        "    best_roc_auc = 0.5\n",
        "\n",
        "    #cs = np.linspace(0.01, 100, 1000, endpoint=True)\n",
        "    cs = range(1, 100)\n",
        "    # проходим в циклах по всем выбранным гиперпараметрам\n",
        "    for C in cs:\n",
        "        # инициация модели с текущими гиперпараметрами\n",
        "        model_lr = LogisticRegression(random_state=12345,\n",
        "                                      solver='liblinear',\n",
        "                                      C=C,\n",
        "                                      max_iter=1000,\n",
        "                                      class_weight=cw)\n",
        "        # обучение модели на тренировочной выборке\n",
        "        model_lr.fit(features_train, target_train)\n",
        "        # поиск предсказаний модели на валидационной выбоке\n",
        "        predictions_lr = model_lr.predict(features_valid)\n",
        "        probabilities_lr = model_lr.predict_proba(features_valid)\n",
        "        # вычисление f1 модели методом f1_score\n",
        "        f1 = f1_score(target_valid, predictions_lr)\n",
        "        # если текущее значение метрики f1 выше предыдущего лучшего значения,\n",
        "        # сохраняем параметры модели и текущую метрику f1\n",
        "        if f1 > best_f1:\n",
        "            best_options_lr = [C]\n",
        "            best_f1 = f1\n",
        "        # аналогично для метрики roc_auc\n",
        "        roc_auc = roc_auc_score(target_valid, probabilities_lr[:,1])\n",
        "        if roc_auc > best_roc_auc:\n",
        "            best_options_roc_auc = [C]\n",
        "            best_roc_auc = roc_auc\n",
        "    # вывод наилучшей метрики f1 и параметров модели.\n",
        "    print('''Наилучшая метрика f1: {}\n",
        "    Парамтеры модели:\n",
        "       C = {} '''.format(round(best_f1, 3),\n",
        "                             best_options_lr[0]\n",
        "                            ))\n",
        "    print()\n",
        "    # вывод наилучшей метрики roc_auc и параметров модели.\n",
        "    print('''Наилучшая метрика roc_auc: {}\n",
        "    Парамтеры модели:\n",
        "       C = {} '''.format(round(best_roc_auc, 3),\n",
        "                             best_options_roc_auc[0]\n",
        "                            ))"
      ],
      "metadata": {
        "id": "OAXt8MvbVGpV"
      },
      "execution_count": 29,
      "outputs": []
    },
    {
      "cell_type": "code",
      "source": [
        "%%time\n",
        "logistic_regression(features_train, features_valid, target_train, target_valid)"
      ],
      "metadata": {
        "colab": {
          "base_uri": "https://localhost:8080/"
        },
        "id": "oQJUjj_VV0YG",
        "outputId": "8b143f45-529d-4a8d-ca7f-ed42e3d617bc"
      },
      "execution_count": 30,
      "outputs": [
        {
          "output_type": "stream",
          "name": "stdout",
          "text": [
            "Наилучшая метрика f1: 0.311\n",
            "    Парамтеры модели:\n",
            "       C = 2 \n",
            "\n",
            "Наилучшая метрика roc_auc: 0.788\n",
            "    Парамтеры модели:\n",
            "       C = 1 \n",
            "CPU times: user 3.87 s, sys: 2.45 s, total: 6.32 s\n",
            "Wall time: 7.43 s\n"
          ]
        }
      ]
    },
    {
      "cell_type": "markdown",
      "source": [
        "> - Наилучшая метрика f1 для логистической регрессии 0.31 (хуже, чем на остальных моделях).\n",
        "- Наилучшая метрика roc_auc для логистической регрессии 0.78.\n",
        "- Наилучший результат по метрикам f1 и roc_auc достигается при разных настройках гиперпараметров."
      ],
      "metadata": {
        "id": "IiSI1QI0V4Cf"
      }
    },
    {
      "cell_type": "markdown",
      "source": [
        "### Выводы:\n",
        "1. Исходные данные разделены на обучающую, валидационную и тестовую выборки в соотношении 3:1:1 соответственно.\n",
        "2. Обучены модели \"Решающее Дерево\", \"Случайный лес\", \"Логистическая Регрессия\" без учёта дисбаланса классов.\n",
        "3. Максимальное значение метрики f1 = 0.61 получено при обучении модели \"Случайного леса\". Качество модели удовлетворяет условию технического задания.\n",
        "4. Качество моделей также оценено по метрике roc_auc. Максимальное значение метрики roc_auc = 0.87 достигнуто при обучении модели \"Случайного леса\".\n",
        "5. Метрики f1 и roc_auc достигли максимальных значений при разных настройках гиперпараметров. Очевидно, теперь наша задача подобрать одинаковые настройки гипертпараметров для достижения оптимальных показателей метрик f1 и roc_auc."
      ],
      "metadata": {
        "id": "VlqoX388WAX_"
      }
    },
    {
      "cell_type": "markdown",
      "source": [
        "## Борьба с дисбалансом\n",
        "Существует несколько способов борьбы с дисбалансом, в рамках этого проекта будем применять следующие:\n",
        "\n",
        "1. взвешивание классов (объектам редкого класса придается больший вес)\n",
        "2. увеличение выборки (upsampling)\n",
        "3. уменьшение выборки (downsampling)."
      ],
      "metadata": {
        "id": "HQX5FhzlWZfv"
      }
    },
    {
      "cell_type": "markdown",
      "source": [
        "### Взвешивание классов"
      ],
      "metadata": {
        "id": "mH2cjfiTWqL3"
      }
    },
    {
      "cell_type": "code",
      "source": [
        "decision_tree_classifier(features_train, features_valid, target_train, target_valid, cw='balanced')"
      ],
      "metadata": {
        "colab": {
          "base_uri": "https://localhost:8080/"
        },
        "id": "AG8W_2LsV07z",
        "outputId": "396a0496-f952-4efc-a4b8-d3730d968e7f"
      },
      "execution_count": 31,
      "outputs": [
        {
          "output_type": "stream",
          "name": "stdout",
          "text": [
            "Наилучшая метрика f1: 0.617\n",
            "    Парамтеры модели:\n",
            "       max_depth = 8\n",
            "       min_samples_split = 2\n",
            "       min_samples_leaf = 7\n",
            "       criterion = entropy \n",
            "\n",
            "Наилучшая метрика roc_auc: 0.861\n",
            "    Парамтеры модели:\n",
            "       max_depth = 7\n",
            "       min_samples_split = 2\n",
            "       min_samples_leaf = 7\n",
            "       criterion = entropy \n",
            "\n",
            "              precision    recall  f1-score   support\n",
            "non-exited     0.931571  0.752513  0.832523  1592.000\n",
            "exited         0.448179  0.784314  0.570410   408.000\n",
            "accuracy       0.759000  0.759000  0.759000     0.759\n",
            "macro avg      0.689875  0.768413  0.701466  2000.000\n",
            "weighted avg   0.832959  0.759000  0.779052  2000.000\n"
          ]
        }
      ]
    },
    {
      "cell_type": "code",
      "source": [
        "random_forest_classifier(features_train, features_valid, target_train, target_valid, cw='balanced')"
      ],
      "metadata": {
        "colab": {
          "base_uri": "https://localhost:8080/"
        },
        "id": "zOQQNWPdWyMm",
        "outputId": "119303c5-3f60-4772-b859-fbdaaf8a6c69"
      },
      "execution_count": 32,
      "outputs": [
        {
          "output_type": "stream",
          "name": "stdout",
          "text": [
            "Наилучшая метрика f1: 0.652\n",
            "    Парамтеры модели:\n",
            "       n_estimators = 39\n",
            "       max_depth = 10\n",
            "       min_samples_split = 2\n",
            "       min_samples_leaf = 2 \n",
            "\n",
            "Наилучшая метрика roc_auc: 0.871\n",
            "    Парамтеры модели:\n",
            "       n_estimators = 38\n",
            "       max_depth = 10\n",
            "       min_samples_split = 2\n",
            "       min_samples_leaf = 1 \n",
            "\n",
            "              precision    recall  f1-score    support\n",
            "non-exited     0.898959  0.922111  0.910388  1592.0000\n",
            "exited         0.662125  0.595588  0.627097   408.0000\n",
            "accuracy       0.855500  0.855500  0.855500     0.8555\n",
            "macro avg      0.780542  0.758849  0.768742  2000.0000\n",
            "weighted avg   0.850645  0.855500  0.852596  2000.0000\n"
          ]
        }
      ]
    },
    {
      "cell_type": "code",
      "source": [
        "logistic_regression(features_train, features_valid, target_train, target_valid, cw='balanced')"
      ],
      "metadata": {
        "colab": {
          "base_uri": "https://localhost:8080/"
        },
        "id": "tyZ7CFJzW2Em",
        "outputId": "3faa6a10-95a5-4a8d-9f3a-771856de38ee"
      },
      "execution_count": 33,
      "outputs": [
        {
          "output_type": "stream",
          "name": "stdout",
          "text": [
            "Наилучшая метрика f1: 0.529\n",
            "    Парамтеры модели:\n",
            "       C = 1 \n",
            "\n",
            "Наилучшая метрика roc_auc: 0.794\n",
            "    Парамтеры модели:\n",
            "       C = 1 \n"
          ]
        }
      ]
    },
    {
      "cell_type": "markdown",
      "source": [
        "> - Взвешивание классов дало значительный прирост в метрике f1 на модели \"Логистическая регрессия\" с 0.31 до 0.53.\n",
        "- Взвешивание классов дало незначительный прирост в метрике f1 на моделях \"Решающего дерева\" и \"Случайного леса\".\n",
        "- Также стоит отметить, что в данном случае наилучшие значения метрик f1 и roc_auc достигаются при различных настройках гиперпараметров.\n",
        "- Применим upsampling и downsampling. Проверим результаты на моделях \"Решающего дерева\", \"Случайного леса\" (они дали наилучший результат при начальных исследованиях) и модели \"Логистическая регрессия\" (возможно удастся довести метрику f1 до показателя, требуемого по техническому заданию)."
      ],
      "metadata": {
        "id": "J1Fut-reW4lW"
      }
    },
    {
      "cell_type": "markdown",
      "source": [
        "### Увеличение выборки (upsampling)\n",
        "Преобразуем объекты редкого класса так, чтобы они стали не такими редкими.\n",
        "\n",
        "Преобразование проходит в несколько этапов:\n",
        "\n",
        "- разделяем обучающую выборку на отрицательные и положительные объекты;\n",
        "- копируем несколько раз положительные объекты;\n",
        "- создаем новую обучающую выборку с учётом полученных данных;\n",
        "перемешиваем данные."
      ],
      "metadata": {
        "id": "992pZriDXEX1"
      }
    },
    {
      "cell_type": "code",
      "source": [
        "def upsample(features, target, repeat):\n",
        "    \"\"\"\n",
        "    input:        features - признаки\n",
        "                  target - целево признак\n",
        "                  repeat (int) - множитель для повторения признаков\n",
        "    output:       features_upsampled - увеличенная выборка признаков\n",
        "                  target_upsampled - увеличенная выборка целевого признака\n",
        "    description:  функция разделяет признаки по классам целевого признака (0, 1),\n",
        "                  повторяет признаки целевого положительного класса repeat раз,\n",
        "                  объединяет объекты с разными целевыми признаками методом concat,\n",
        "                  перемешивает объекты методом shuffle\n",
        "    \"\"\"\n",
        "    features_zeros = features[target == 0]\n",
        "    features_ones = features[target == 1]\n",
        "    target_zeros = target[target == 0]\n",
        "    target_ones = target[target == 1]\n",
        "\n",
        "    features_upsampled = pd.concat([features_zeros] + [features_ones] * repeat)\n",
        "    target_upsampled = pd.concat([target_zeros] + [target_ones] * repeat)\n",
        "\n",
        "    features_upsampled, target_upsampled = shuffle(\n",
        "        features_upsampled, target_upsampled, random_state=12345)\n",
        "    return features_upsampled, target_upsampled"
      ],
      "metadata": {
        "id": "fO94yhFnXBGb"
      },
      "execution_count": 34,
      "outputs": []
    },
    {
      "cell_type": "code",
      "source": [
        "# увеличим выборку в 4 раза,\n",
        "# так как 20% клиентов уходят из банка (чтобы значения были приблизительно равны):\n",
        "# выведем на экран размеры новых выборок\n",
        "features_upsampled, target_upsampled = upsample(features_train, target_train, 4)\n",
        "print(features_upsampled.shape)\n",
        "print(target_upsampled.shape)"
      ],
      "metadata": {
        "colab": {
          "base_uri": "https://localhost:8080/"
        },
        "id": "ond2OGj1XRwA",
        "outputId": "be9ae174-1d73-414d-dcb2-2ab93dad4a4c"
      },
      "execution_count": 35,
      "outputs": [
        {
          "output_type": "stream",
          "name": "stdout",
          "text": [
            "(9666, 11)\n",
            "(9666,)\n"
          ]
        }
      ]
    },
    {
      "cell_type": "code",
      "source": [
        "values = target_upsampled.value_counts()\n",
        "values = values.to_frame().reset_index()\n",
        "values.columns = ['Boolean', 'Count']\n",
        "values['Percentage'] = values['Count'] / sum(values['Count'])\n",
        "pd.DataFrame(values)\n",
        "values\n",
        "\n",
        "visualize_class_balance(values['Boolean'], values['Count'], values['Percentage'], values['Boolean'])"
      ],
      "metadata": {
        "colab": {
          "base_uri": "https://localhost:8080/",
          "height": 417
        },
        "id": "gx_PUp1kXSrx",
        "outputId": "df406ed8-a2e3-4692-be90-2f93db7a5d6e"
      },
      "execution_count": 36,
      "outputs": [
        {
          "output_type": "display_data",
          "data": {
            "text/html": [
              "<html>\n",
              "<head><meta charset=\"utf-8\" /></head>\n",
              "<body>\n",
              "    <div>            <script src=\"https://cdnjs.cloudflare.com/ajax/libs/mathjax/2.7.5/MathJax.js?config=TeX-AMS-MML_SVG\"></script><script type=\"text/javascript\">if (window.MathJax && window.MathJax.Hub && window.MathJax.Hub.Config) {window.MathJax.Hub.Config({SVG: {font: \"STIX-Web\"}});}</script>                <script type=\"text/javascript\">window.PlotlyConfig = {MathJaxConfig: 'local'};</script>\n",
              "        <script src=\"https://cdn.plot.ly/plotly-2.18.2.min.js\"></script>                <div id=\"3082eb32-539c-4ce3-abae-0c1b238a4098\" class=\"plotly-graph-div\" style=\"height:400px; width:100%;\"></div>            <script type=\"text/javascript\">                                    window.PLOTLYENV=window.PLOTLYENV || {};                                    if (document.getElementById(\"3082eb32-539c-4ce3-abae-0c1b238a4098\")) {                    Plotly.newPlot(                        \"3082eb32-539c-4ce3-abae-0c1b238a4098\",                        [{\"x\":[1,0],\"y\":[4888,4778],\"type\":\"bar\",\"xaxis\":\"x\",\"yaxis\":\"y\"},{\"labels\":[1,0],\"values\":[0.5056900475894889,0.49430995241051107],\"type\":\"pie\",\"domain\":{\"x\":[0.55,1.0],\"y\":[0.0,1.0]}}],                        {\"template\":{\"data\":{\"histogram2dcontour\":[{\"type\":\"histogram2dcontour\",\"colorbar\":{\"outlinewidth\":0,\"ticks\":\"\"},\"colorscale\":[[0.0,\"#0d0887\"],[0.1111111111111111,\"#46039f\"],[0.2222222222222222,\"#7201a8\"],[0.3333333333333333,\"#9c179e\"],[0.4444444444444444,\"#bd3786\"],[0.5555555555555556,\"#d8576b\"],[0.6666666666666666,\"#ed7953\"],[0.7777777777777778,\"#fb9f3a\"],[0.8888888888888888,\"#fdca26\"],[1.0,\"#f0f921\"]]}],\"choropleth\":[{\"type\":\"choropleth\",\"colorbar\":{\"outlinewidth\":0,\"ticks\":\"\"}}],\"histogram2d\":[{\"type\":\"histogram2d\",\"colorbar\":{\"outlinewidth\":0,\"ticks\":\"\"},\"colorscale\":[[0.0,\"#0d0887\"],[0.1111111111111111,\"#46039f\"],[0.2222222222222222,\"#7201a8\"],[0.3333333333333333,\"#9c179e\"],[0.4444444444444444,\"#bd3786\"],[0.5555555555555556,\"#d8576b\"],[0.6666666666666666,\"#ed7953\"],[0.7777777777777778,\"#fb9f3a\"],[0.8888888888888888,\"#fdca26\"],[1.0,\"#f0f921\"]]}],\"heatmap\":[{\"type\":\"heatmap\",\"colorbar\":{\"outlinewidth\":0,\"ticks\":\"\"},\"colorscale\":[[0.0,\"#0d0887\"],[0.1111111111111111,\"#46039f\"],[0.2222222222222222,\"#7201a8\"],[0.3333333333333333,\"#9c179e\"],[0.4444444444444444,\"#bd3786\"],[0.5555555555555556,\"#d8576b\"],[0.6666666666666666,\"#ed7953\"],[0.7777777777777778,\"#fb9f3a\"],[0.8888888888888888,\"#fdca26\"],[1.0,\"#f0f921\"]]}],\"heatmapgl\":[{\"type\":\"heatmapgl\",\"colorbar\":{\"outlinewidth\":0,\"ticks\":\"\"},\"colorscale\":[[0.0,\"#0d0887\"],[0.1111111111111111,\"#46039f\"],[0.2222222222222222,\"#7201a8\"],[0.3333333333333333,\"#9c179e\"],[0.4444444444444444,\"#bd3786\"],[0.5555555555555556,\"#d8576b\"],[0.6666666666666666,\"#ed7953\"],[0.7777777777777778,\"#fb9f3a\"],[0.8888888888888888,\"#fdca26\"],[1.0,\"#f0f921\"]]}],\"contourcarpet\":[{\"type\":\"contourcarpet\",\"colorbar\":{\"outlinewidth\":0,\"ticks\":\"\"}}],\"contour\":[{\"type\":\"contour\",\"colorbar\":{\"outlinewidth\":0,\"ticks\":\"\"},\"colorscale\":[[0.0,\"#0d0887\"],[0.1111111111111111,\"#46039f\"],[0.2222222222222222,\"#7201a8\"],[0.3333333333333333,\"#9c179e\"],[0.4444444444444444,\"#bd3786\"],[0.5555555555555556,\"#d8576b\"],[0.6666666666666666,\"#ed7953\"],[0.7777777777777778,\"#fb9f3a\"],[0.8888888888888888,\"#fdca26\"],[1.0,\"#f0f921\"]]}],\"surface\":[{\"type\":\"surface\",\"colorbar\":{\"outlinewidth\":0,\"ticks\":\"\"},\"colorscale\":[[0.0,\"#0d0887\"],[0.1111111111111111,\"#46039f\"],[0.2222222222222222,\"#7201a8\"],[0.3333333333333333,\"#9c179e\"],[0.4444444444444444,\"#bd3786\"],[0.5555555555555556,\"#d8576b\"],[0.6666666666666666,\"#ed7953\"],[0.7777777777777778,\"#fb9f3a\"],[0.8888888888888888,\"#fdca26\"],[1.0,\"#f0f921\"]]}],\"mesh3d\":[{\"type\":\"mesh3d\",\"colorbar\":{\"outlinewidth\":0,\"ticks\":\"\"}}],\"scatter\":[{\"fillpattern\":{\"fillmode\":\"overlay\",\"size\":10,\"solidity\":0.2},\"type\":\"scatter\"}],\"parcoords\":[{\"type\":\"parcoords\",\"line\":{\"colorbar\":{\"outlinewidth\":0,\"ticks\":\"\"}}}],\"scatterpolargl\":[{\"type\":\"scatterpolargl\",\"marker\":{\"colorbar\":{\"outlinewidth\":0,\"ticks\":\"\"}}}],\"bar\":[{\"error_x\":{\"color\":\"#2a3f5f\"},\"error_y\":{\"color\":\"#2a3f5f\"},\"marker\":{\"line\":{\"color\":\"#E5ECF6\",\"width\":0.5},\"pattern\":{\"fillmode\":\"overlay\",\"size\":10,\"solidity\":0.2}},\"type\":\"bar\"}],\"scattergeo\":[{\"type\":\"scattergeo\",\"marker\":{\"colorbar\":{\"outlinewidth\":0,\"ticks\":\"\"}}}],\"scatterpolar\":[{\"type\":\"scatterpolar\",\"marker\":{\"colorbar\":{\"outlinewidth\":0,\"ticks\":\"\"}}}],\"histogram\":[{\"marker\":{\"pattern\":{\"fillmode\":\"overlay\",\"size\":10,\"solidity\":0.2}},\"type\":\"histogram\"}],\"scattergl\":[{\"type\":\"scattergl\",\"marker\":{\"colorbar\":{\"outlinewidth\":0,\"ticks\":\"\"}}}],\"scatter3d\":[{\"type\":\"scatter3d\",\"line\":{\"colorbar\":{\"outlinewidth\":0,\"ticks\":\"\"}},\"marker\":{\"colorbar\":{\"outlinewidth\":0,\"ticks\":\"\"}}}],\"scattermapbox\":[{\"type\":\"scattermapbox\",\"marker\":{\"colorbar\":{\"outlinewidth\":0,\"ticks\":\"\"}}}],\"scatterternary\":[{\"type\":\"scatterternary\",\"marker\":{\"colorbar\":{\"outlinewidth\":0,\"ticks\":\"\"}}}],\"scattercarpet\":[{\"type\":\"scattercarpet\",\"marker\":{\"colorbar\":{\"outlinewidth\":0,\"ticks\":\"\"}}}],\"carpet\":[{\"aaxis\":{\"endlinecolor\":\"#2a3f5f\",\"gridcolor\":\"white\",\"linecolor\":\"white\",\"minorgridcolor\":\"white\",\"startlinecolor\":\"#2a3f5f\"},\"baxis\":{\"endlinecolor\":\"#2a3f5f\",\"gridcolor\":\"white\",\"linecolor\":\"white\",\"minorgridcolor\":\"white\",\"startlinecolor\":\"#2a3f5f\"},\"type\":\"carpet\"}],\"table\":[{\"cells\":{\"fill\":{\"color\":\"#EBF0F8\"},\"line\":{\"color\":\"white\"}},\"header\":{\"fill\":{\"color\":\"#C8D4E3\"},\"line\":{\"color\":\"white\"}},\"type\":\"table\"}],\"barpolar\":[{\"marker\":{\"line\":{\"color\":\"#E5ECF6\",\"width\":0.5},\"pattern\":{\"fillmode\":\"overlay\",\"size\":10,\"solidity\":0.2}},\"type\":\"barpolar\"}],\"pie\":[{\"automargin\":true,\"type\":\"pie\"}]},\"layout\":{\"autotypenumbers\":\"strict\",\"colorway\":[\"#636efa\",\"#EF553B\",\"#00cc96\",\"#ab63fa\",\"#FFA15A\",\"#19d3f3\",\"#FF6692\",\"#B6E880\",\"#FF97FF\",\"#FECB52\"],\"font\":{\"color\":\"#2a3f5f\"},\"hovermode\":\"closest\",\"hoverlabel\":{\"align\":\"left\"},\"paper_bgcolor\":\"white\",\"plot_bgcolor\":\"#E5ECF6\",\"polar\":{\"bgcolor\":\"#E5ECF6\",\"angularaxis\":{\"gridcolor\":\"white\",\"linecolor\":\"white\",\"ticks\":\"\"},\"radialaxis\":{\"gridcolor\":\"white\",\"linecolor\":\"white\",\"ticks\":\"\"}},\"ternary\":{\"bgcolor\":\"#E5ECF6\",\"aaxis\":{\"gridcolor\":\"white\",\"linecolor\":\"white\",\"ticks\":\"\"},\"baxis\":{\"gridcolor\":\"white\",\"linecolor\":\"white\",\"ticks\":\"\"},\"caxis\":{\"gridcolor\":\"white\",\"linecolor\":\"white\",\"ticks\":\"\"}},\"coloraxis\":{\"colorbar\":{\"outlinewidth\":0,\"ticks\":\"\"}},\"colorscale\":{\"sequential\":[[0.0,\"#0d0887\"],[0.1111111111111111,\"#46039f\"],[0.2222222222222222,\"#7201a8\"],[0.3333333333333333,\"#9c179e\"],[0.4444444444444444,\"#bd3786\"],[0.5555555555555556,\"#d8576b\"],[0.6666666666666666,\"#ed7953\"],[0.7777777777777778,\"#fb9f3a\"],[0.8888888888888888,\"#fdca26\"],[1.0,\"#f0f921\"]],\"sequentialminus\":[[0.0,\"#0d0887\"],[0.1111111111111111,\"#46039f\"],[0.2222222222222222,\"#7201a8\"],[0.3333333333333333,\"#9c179e\"],[0.4444444444444444,\"#bd3786\"],[0.5555555555555556,\"#d8576b\"],[0.6666666666666666,\"#ed7953\"],[0.7777777777777778,\"#fb9f3a\"],[0.8888888888888888,\"#fdca26\"],[1.0,\"#f0f921\"]],\"diverging\":[[0,\"#8e0152\"],[0.1,\"#c51b7d\"],[0.2,\"#de77ae\"],[0.3,\"#f1b6da\"],[0.4,\"#fde0ef\"],[0.5,\"#f7f7f7\"],[0.6,\"#e6f5d0\"],[0.7,\"#b8e186\"],[0.8,\"#7fbc41\"],[0.9,\"#4d9221\"],[1,\"#276419\"]]},\"xaxis\":{\"gridcolor\":\"white\",\"linecolor\":\"white\",\"ticks\":\"\",\"title\":{\"standoff\":15},\"zerolinecolor\":\"white\",\"automargin\":true,\"zerolinewidth\":2},\"yaxis\":{\"gridcolor\":\"white\",\"linecolor\":\"white\",\"ticks\":\"\",\"title\":{\"standoff\":15},\"zerolinecolor\":\"white\",\"automargin\":true,\"zerolinewidth\":2},\"scene\":{\"xaxis\":{\"backgroundcolor\":\"#E5ECF6\",\"gridcolor\":\"white\",\"linecolor\":\"white\",\"showbackground\":true,\"ticks\":\"\",\"zerolinecolor\":\"white\",\"gridwidth\":2},\"yaxis\":{\"backgroundcolor\":\"#E5ECF6\",\"gridcolor\":\"white\",\"linecolor\":\"white\",\"showbackground\":true,\"ticks\":\"\",\"zerolinecolor\":\"white\",\"gridwidth\":2},\"zaxis\":{\"backgroundcolor\":\"#E5ECF6\",\"gridcolor\":\"white\",\"linecolor\":\"white\",\"showbackground\":true,\"ticks\":\"\",\"zerolinecolor\":\"white\",\"gridwidth\":2}},\"shapedefaults\":{\"line\":{\"color\":\"#2a3f5f\"}},\"annotationdefaults\":{\"arrowcolor\":\"#2a3f5f\",\"arrowhead\":0,\"arrowwidth\":1},\"geo\":{\"bgcolor\":\"white\",\"landcolor\":\"#E5ECF6\",\"subunitcolor\":\"white\",\"showland\":true,\"showlakes\":true,\"lakecolor\":\"white\"},\"title\":{\"x\":0.05},\"mapbox\":{\"style\":\"light\"}}},\"xaxis\":{\"anchor\":\"y\",\"domain\":[0.0,0.45]},\"yaxis\":{\"anchor\":\"x\",\"domain\":[0.0,1.0]},\"annotations\":[{\"font\":{\"size\":16},\"showarrow\":false,\"text\":\"\\u0414\\u043e\\u043b\\u044f \\u043a\\u043b\\u0438\\u0435\\u043d\\u0442\\u043e\\u0432, \\u0432 \\u0437\\u0430\\u0432\\u0438\\u0441\\u0438\\u043c\\u043e\\u0441\\u0442\\u0438 \\u043e\\u0442 \\u043a\\u043b\\u0430\\u0441\\u0441\\u0430\",\"x\":0.225,\"xanchor\":\"center\",\"xref\":\"paper\",\"y\":1.0,\"yanchor\":\"bottom\",\"yref\":\"paper\"},{\"font\":{\"size\":16},\"showarrow\":false,\"text\":\"\\u0414\\u043e\\u043b\\u044f \\u043a\\u043b\\u0438\\u0435\\u043d\\u0442\\u043e\\u0432, \\u0432 \\u0437\\u0430\\u0432\\u0438\\u0441\\u0438\\u043c\\u043e\\u0441\\u0442\\u0438 \\u043e\\u0442 \\u043a\\u043b\\u0430\\u0441\\u0441\\u0430\",\"x\":0.775,\"xanchor\":\"center\",\"xref\":\"paper\",\"y\":1.0,\"yanchor\":\"bottom\",\"yref\":\"paper\"}],\"title\":{\"text\":\"\\u0424\\u0430\\u043a\\u0442 \\u0443\\u0445\\u043e\\u0434\\u0430 \\u043a\\u043b\\u0438\\u0435\\u043d\\u0442\\u0430, \\u0433\\u0434\\u0435 1-\\u0443\\u0448\\u0435\\u043b, 0-\\u043e\\u0441\\u0442\\u0430\\u043b\\u0441\\u044f\"},\"height\":400,\"showlegend\":false},                        {\"responsive\": true}                    ).then(function(){\n",
              "                            \n",
              "var gd = document.getElementById('3082eb32-539c-4ce3-abae-0c1b238a4098');\n",
              "var x = new MutationObserver(function (mutations, observer) {{\n",
              "        var display = window.getComputedStyle(gd).display;\n",
              "        if (!display || display === 'none') {{\n",
              "            console.log([gd, 'removed!']);\n",
              "            Plotly.purge(gd);\n",
              "            observer.disconnect();\n",
              "        }}\n",
              "}});\n",
              "\n",
              "// Listen for the removal of the full notebook cells\n",
              "var notebookContainer = gd.closest('#notebook-container');\n",
              "if (notebookContainer) {{\n",
              "    x.observe(notebookContainer, {childList: true});\n",
              "}}\n",
              "\n",
              "// Listen for the clearing of the current output cell\n",
              "var outputEl = gd.closest('.output');\n",
              "if (outputEl) {{\n",
              "    x.observe(outputEl, {childList: true});\n",
              "}}\n",
              "\n",
              "                        })                };                            </script>        </div>\n",
              "</body>\n",
              "</html>"
            ]
          },
          "metadata": {}
        }
      ]
    },
    {
      "cell_type": "code",
      "source": [
        "# обучим модели случайного леса и решающего дерева на сбалансированных обучающих выборках\n",
        "decision_tree_classifier(features_upsampled, features_valid, target_upsampled, target_valid)"
      ],
      "metadata": {
        "colab": {
          "base_uri": "https://localhost:8080/"
        },
        "id": "3WZmFjicXYge",
        "outputId": "e41daf31-3c72-42c1-82d5-e75a2e48313d"
      },
      "execution_count": 37,
      "outputs": [
        {
          "output_type": "stream",
          "name": "stdout",
          "text": [
            "Наилучшая метрика f1: 0.591\n",
            "    Парамтеры модели:\n",
            "       max_depth = 8\n",
            "       min_samples_split = 2\n",
            "       min_samples_leaf = 7\n",
            "       criterion = entropy \n",
            "\n",
            "Наилучшая метрика roc_auc: 0.851\n",
            "    Парамтеры модели:\n",
            "       max_depth = 6\n",
            "       min_samples_split = 2\n",
            "       min_samples_leaf = 4\n",
            "       criterion = entropy \n",
            "\n",
            "              precision    recall  f1-score    support\n",
            "non-exited     0.923254  0.755653  0.831088  1592.0000\n",
            "exited         0.441894  0.754902  0.557466   408.0000\n",
            "accuracy       0.755500  0.755500  0.755500     0.7555\n",
            "macro avg      0.682574  0.755278  0.694277  2000.0000\n",
            "weighted avg   0.825057  0.755500  0.775269  2000.0000\n"
          ]
        }
      ]
    },
    {
      "cell_type": "code",
      "source": [
        "random_forest_classifier(features_upsampled, features_valid, target_upsampled, target_valid)"
      ],
      "metadata": {
        "colab": {
          "base_uri": "https://localhost:8080/"
        },
        "id": "YWt3kcrVXbtW",
        "outputId": "cf15c27f-f4ff-4116-ba5b-b4f5641e4d7c"
      },
      "execution_count": 38,
      "outputs": [
        {
          "output_type": "stream",
          "name": "stdout",
          "text": [
            "Наилучшая метрика f1: 0.653\n",
            "    Парамтеры модели:\n",
            "       n_estimators = 37\n",
            "       max_depth = 10\n",
            "       min_samples_split = 2\n",
            "       min_samples_leaf = 1 \n",
            "\n",
            "Наилучшая метрика roc_auc: 0.872\n",
            "    Парамтеры модели:\n",
            "       n_estimators = 32\n",
            "       max_depth = 12\n",
            "       min_samples_split = 2\n",
            "       min_samples_leaf = 2 \n",
            "\n",
            "              precision    recall  f1-score   support\n",
            "non-exited     0.911239  0.896357  0.903737  1592.000\n",
            "exited         0.619816  0.659314  0.638955   408.000\n",
            "accuracy       0.848000  0.848000  0.848000     0.848\n",
            "macro avg      0.765527  0.777835  0.771346  2000.000\n",
            "weighted avg   0.851789  0.848000  0.849721  2000.000\n"
          ]
        }
      ]
    },
    {
      "cell_type": "code",
      "source": [
        "# обучим модель логистической регрессии на сбалансированных обучающих выборках\n",
        "# интересно, сможим ли мы довести метрику f1 до показателя, требуемого по техническому заданию\n",
        "logistic_regression(features_upsampled, features_valid, target_upsampled, target_valid)"
      ],
      "metadata": {
        "colab": {
          "base_uri": "https://localhost:8080/"
        },
        "id": "P-7I86MWXcWe",
        "outputId": "8f863672-7df5-4b97-e708-6d88e6e10b89"
      },
      "execution_count": 39,
      "outputs": [
        {
          "output_type": "stream",
          "name": "stdout",
          "text": [
            "Наилучшая метрика f1: 0.525\n",
            "    Парамтеры модели:\n",
            "       C = 1 \n",
            "\n",
            "Наилучшая метрика roc_auc: 0.794\n",
            "    Парамтеры модели:\n",
            "       C = 1 \n"
          ]
        }
      ]
    },
    {
      "cell_type": "markdown",
      "source": [
        "### Уменьшение выборки (downsampling)"
      ],
      "metadata": {
        "id": "SUoCP5x9Xe8W"
      }
    },
    {
      "cell_type": "code",
      "source": [
        "def downsample(features, target, fraction):\n",
        "    \"\"\"\n",
        "    input:        features - признаки\n",
        "                  target - целево признак\n",
        "                  fraction (float) - доля объектов для сэмплирования\n",
        "    output:       features_downsampled - уменьшенная выборка признаков\n",
        "                  target_downsampled - уменьшенная выборка целевого признака\n",
        "    description:  функция разделяет признаки по классам целевого признака (0, 1),\n",
        "                  сэмплирует признаки целевого класса 0 (с коэффициентом fraction),\n",
        "                  объединяет объекты с разными целевыми признаками методом concat,\n",
        "                  перемешивает объекты методом shuffle\n",
        "    \"\"\"\n",
        "    features_zeros = features[target == 0]\n",
        "    features_ones = features[target == 1]\n",
        "    target_zeros = target[target == 0]\n",
        "    target_ones = target[target == 1]\n",
        "\n",
        "    features_downsampled = pd.concat(\n",
        "        [features_zeros.sample(frac=fraction, random_state=12345)] + [features_ones])\n",
        "    target_downsampled = pd.concat(\n",
        "        [target_zeros.sample(frac=fraction, random_state=12345)] + [target_ones])\n",
        "\n",
        "    features_downsampled, target_downsampled = shuffle(\n",
        "        features_downsampled, target_downsampled, random_state=12345)\n",
        "    return features_downsampled, target_downsampled"
      ],
      "metadata": {
        "id": "1ez0rDv_Xjur"
      },
      "execution_count": 40,
      "outputs": []
    },
    {
      "cell_type": "code",
      "source": [
        "# уменьшим количество объектов класса 0 в 0.25 раза\n",
        "# выведем на экран размеры новых выборок\n",
        "features_downsampled, target_downsampled = downsample(features_train, target_train, 0.25)\n",
        "print(features_downsampled.shape)\n",
        "print(target_downsampled.shape)"
      ],
      "metadata": {
        "colab": {
          "base_uri": "https://localhost:8080/"
        },
        "id": "1_qQpqjxXovm",
        "outputId": "8f630fc0-769a-437b-eaeb-d224740bb785"
      },
      "execution_count": 41,
      "outputs": [
        {
          "output_type": "stream",
          "name": "stdout",
          "text": [
            "(2416, 11)\n",
            "(2416,)\n"
          ]
        }
      ]
    },
    {
      "cell_type": "code",
      "source": [
        "values = target_downsampled.value_counts()\n",
        "values = values.to_frame().reset_index()\n",
        "values.columns = ['Boolean', 'Count']\n",
        "values['Percentage'] = values['Count'] / sum(values['Count'])\n",
        "pd.DataFrame(values)\n",
        "values\n",
        "\n",
        "visualize_class_balance(values['Boolean'], values['Count'], values['Percentage'], values['Boolean'])"
      ],
      "metadata": {
        "colab": {
          "base_uri": "https://localhost:8080/",
          "height": 417
        },
        "id": "kL-PqiQVXpYm",
        "outputId": "ed9af598-aba1-4c1e-c56a-784aa7419634"
      },
      "execution_count": 42,
      "outputs": [
        {
          "output_type": "display_data",
          "data": {
            "text/html": [
              "<html>\n",
              "<head><meta charset=\"utf-8\" /></head>\n",
              "<body>\n",
              "    <div>            <script src=\"https://cdnjs.cloudflare.com/ajax/libs/mathjax/2.7.5/MathJax.js?config=TeX-AMS-MML_SVG\"></script><script type=\"text/javascript\">if (window.MathJax && window.MathJax.Hub && window.MathJax.Hub.Config) {window.MathJax.Hub.Config({SVG: {font: \"STIX-Web\"}});}</script>                <script type=\"text/javascript\">window.PlotlyConfig = {MathJaxConfig: 'local'};</script>\n",
              "        <script src=\"https://cdn.plot.ly/plotly-2.18.2.min.js\"></script>                <div id=\"dc39336c-3d2e-4d70-a737-e4108f0c3521\" class=\"plotly-graph-div\" style=\"height:400px; width:100%;\"></div>            <script type=\"text/javascript\">                                    window.PLOTLYENV=window.PLOTLYENV || {};                                    if (document.getElementById(\"dc39336c-3d2e-4d70-a737-e4108f0c3521\")) {                    Plotly.newPlot(                        \"dc39336c-3d2e-4d70-a737-e4108f0c3521\",                        [{\"x\":[1,0],\"y\":[1222,1194],\"type\":\"bar\",\"xaxis\":\"x\",\"yaxis\":\"y\"},{\"labels\":[1,0],\"values\":[0.5057947019867549,0.49420529801324503],\"type\":\"pie\",\"domain\":{\"x\":[0.55,1.0],\"y\":[0.0,1.0]}}],                        {\"template\":{\"data\":{\"histogram2dcontour\":[{\"type\":\"histogram2dcontour\",\"colorbar\":{\"outlinewidth\":0,\"ticks\":\"\"},\"colorscale\":[[0.0,\"#0d0887\"],[0.1111111111111111,\"#46039f\"],[0.2222222222222222,\"#7201a8\"],[0.3333333333333333,\"#9c179e\"],[0.4444444444444444,\"#bd3786\"],[0.5555555555555556,\"#d8576b\"],[0.6666666666666666,\"#ed7953\"],[0.7777777777777778,\"#fb9f3a\"],[0.8888888888888888,\"#fdca26\"],[1.0,\"#f0f921\"]]}],\"choropleth\":[{\"type\":\"choropleth\",\"colorbar\":{\"outlinewidth\":0,\"ticks\":\"\"}}],\"histogram2d\":[{\"type\":\"histogram2d\",\"colorbar\":{\"outlinewidth\":0,\"ticks\":\"\"},\"colorscale\":[[0.0,\"#0d0887\"],[0.1111111111111111,\"#46039f\"],[0.2222222222222222,\"#7201a8\"],[0.3333333333333333,\"#9c179e\"],[0.4444444444444444,\"#bd3786\"],[0.5555555555555556,\"#d8576b\"],[0.6666666666666666,\"#ed7953\"],[0.7777777777777778,\"#fb9f3a\"],[0.8888888888888888,\"#fdca26\"],[1.0,\"#f0f921\"]]}],\"heatmap\":[{\"type\":\"heatmap\",\"colorbar\":{\"outlinewidth\":0,\"ticks\":\"\"},\"colorscale\":[[0.0,\"#0d0887\"],[0.1111111111111111,\"#46039f\"],[0.2222222222222222,\"#7201a8\"],[0.3333333333333333,\"#9c179e\"],[0.4444444444444444,\"#bd3786\"],[0.5555555555555556,\"#d8576b\"],[0.6666666666666666,\"#ed7953\"],[0.7777777777777778,\"#fb9f3a\"],[0.8888888888888888,\"#fdca26\"],[1.0,\"#f0f921\"]]}],\"heatmapgl\":[{\"type\":\"heatmapgl\",\"colorbar\":{\"outlinewidth\":0,\"ticks\":\"\"},\"colorscale\":[[0.0,\"#0d0887\"],[0.1111111111111111,\"#46039f\"],[0.2222222222222222,\"#7201a8\"],[0.3333333333333333,\"#9c179e\"],[0.4444444444444444,\"#bd3786\"],[0.5555555555555556,\"#d8576b\"],[0.6666666666666666,\"#ed7953\"],[0.7777777777777778,\"#fb9f3a\"],[0.8888888888888888,\"#fdca26\"],[1.0,\"#f0f921\"]]}],\"contourcarpet\":[{\"type\":\"contourcarpet\",\"colorbar\":{\"outlinewidth\":0,\"ticks\":\"\"}}],\"contour\":[{\"type\":\"contour\",\"colorbar\":{\"outlinewidth\":0,\"ticks\":\"\"},\"colorscale\":[[0.0,\"#0d0887\"],[0.1111111111111111,\"#46039f\"],[0.2222222222222222,\"#7201a8\"],[0.3333333333333333,\"#9c179e\"],[0.4444444444444444,\"#bd3786\"],[0.5555555555555556,\"#d8576b\"],[0.6666666666666666,\"#ed7953\"],[0.7777777777777778,\"#fb9f3a\"],[0.8888888888888888,\"#fdca26\"],[1.0,\"#f0f921\"]]}],\"surface\":[{\"type\":\"surface\",\"colorbar\":{\"outlinewidth\":0,\"ticks\":\"\"},\"colorscale\":[[0.0,\"#0d0887\"],[0.1111111111111111,\"#46039f\"],[0.2222222222222222,\"#7201a8\"],[0.3333333333333333,\"#9c179e\"],[0.4444444444444444,\"#bd3786\"],[0.5555555555555556,\"#d8576b\"],[0.6666666666666666,\"#ed7953\"],[0.7777777777777778,\"#fb9f3a\"],[0.8888888888888888,\"#fdca26\"],[1.0,\"#f0f921\"]]}],\"mesh3d\":[{\"type\":\"mesh3d\",\"colorbar\":{\"outlinewidth\":0,\"ticks\":\"\"}}],\"scatter\":[{\"fillpattern\":{\"fillmode\":\"overlay\",\"size\":10,\"solidity\":0.2},\"type\":\"scatter\"}],\"parcoords\":[{\"type\":\"parcoords\",\"line\":{\"colorbar\":{\"outlinewidth\":0,\"ticks\":\"\"}}}],\"scatterpolargl\":[{\"type\":\"scatterpolargl\",\"marker\":{\"colorbar\":{\"outlinewidth\":0,\"ticks\":\"\"}}}],\"bar\":[{\"error_x\":{\"color\":\"#2a3f5f\"},\"error_y\":{\"color\":\"#2a3f5f\"},\"marker\":{\"line\":{\"color\":\"#E5ECF6\",\"width\":0.5},\"pattern\":{\"fillmode\":\"overlay\",\"size\":10,\"solidity\":0.2}},\"type\":\"bar\"}],\"scattergeo\":[{\"type\":\"scattergeo\",\"marker\":{\"colorbar\":{\"outlinewidth\":0,\"ticks\":\"\"}}}],\"scatterpolar\":[{\"type\":\"scatterpolar\",\"marker\":{\"colorbar\":{\"outlinewidth\":0,\"ticks\":\"\"}}}],\"histogram\":[{\"marker\":{\"pattern\":{\"fillmode\":\"overlay\",\"size\":10,\"solidity\":0.2}},\"type\":\"histogram\"}],\"scattergl\":[{\"type\":\"scattergl\",\"marker\":{\"colorbar\":{\"outlinewidth\":0,\"ticks\":\"\"}}}],\"scatter3d\":[{\"type\":\"scatter3d\",\"line\":{\"colorbar\":{\"outlinewidth\":0,\"ticks\":\"\"}},\"marker\":{\"colorbar\":{\"outlinewidth\":0,\"ticks\":\"\"}}}],\"scattermapbox\":[{\"type\":\"scattermapbox\",\"marker\":{\"colorbar\":{\"outlinewidth\":0,\"ticks\":\"\"}}}],\"scatterternary\":[{\"type\":\"scatterternary\",\"marker\":{\"colorbar\":{\"outlinewidth\":0,\"ticks\":\"\"}}}],\"scattercarpet\":[{\"type\":\"scattercarpet\",\"marker\":{\"colorbar\":{\"outlinewidth\":0,\"ticks\":\"\"}}}],\"carpet\":[{\"aaxis\":{\"endlinecolor\":\"#2a3f5f\",\"gridcolor\":\"white\",\"linecolor\":\"white\",\"minorgridcolor\":\"white\",\"startlinecolor\":\"#2a3f5f\"},\"baxis\":{\"endlinecolor\":\"#2a3f5f\",\"gridcolor\":\"white\",\"linecolor\":\"white\",\"minorgridcolor\":\"white\",\"startlinecolor\":\"#2a3f5f\"},\"type\":\"carpet\"}],\"table\":[{\"cells\":{\"fill\":{\"color\":\"#EBF0F8\"},\"line\":{\"color\":\"white\"}},\"header\":{\"fill\":{\"color\":\"#C8D4E3\"},\"line\":{\"color\":\"white\"}},\"type\":\"table\"}],\"barpolar\":[{\"marker\":{\"line\":{\"color\":\"#E5ECF6\",\"width\":0.5},\"pattern\":{\"fillmode\":\"overlay\",\"size\":10,\"solidity\":0.2}},\"type\":\"barpolar\"}],\"pie\":[{\"automargin\":true,\"type\":\"pie\"}]},\"layout\":{\"autotypenumbers\":\"strict\",\"colorway\":[\"#636efa\",\"#EF553B\",\"#00cc96\",\"#ab63fa\",\"#FFA15A\",\"#19d3f3\",\"#FF6692\",\"#B6E880\",\"#FF97FF\",\"#FECB52\"],\"font\":{\"color\":\"#2a3f5f\"},\"hovermode\":\"closest\",\"hoverlabel\":{\"align\":\"left\"},\"paper_bgcolor\":\"white\",\"plot_bgcolor\":\"#E5ECF6\",\"polar\":{\"bgcolor\":\"#E5ECF6\",\"angularaxis\":{\"gridcolor\":\"white\",\"linecolor\":\"white\",\"ticks\":\"\"},\"radialaxis\":{\"gridcolor\":\"white\",\"linecolor\":\"white\",\"ticks\":\"\"}},\"ternary\":{\"bgcolor\":\"#E5ECF6\",\"aaxis\":{\"gridcolor\":\"white\",\"linecolor\":\"white\",\"ticks\":\"\"},\"baxis\":{\"gridcolor\":\"white\",\"linecolor\":\"white\",\"ticks\":\"\"},\"caxis\":{\"gridcolor\":\"white\",\"linecolor\":\"white\",\"ticks\":\"\"}},\"coloraxis\":{\"colorbar\":{\"outlinewidth\":0,\"ticks\":\"\"}},\"colorscale\":{\"sequential\":[[0.0,\"#0d0887\"],[0.1111111111111111,\"#46039f\"],[0.2222222222222222,\"#7201a8\"],[0.3333333333333333,\"#9c179e\"],[0.4444444444444444,\"#bd3786\"],[0.5555555555555556,\"#d8576b\"],[0.6666666666666666,\"#ed7953\"],[0.7777777777777778,\"#fb9f3a\"],[0.8888888888888888,\"#fdca26\"],[1.0,\"#f0f921\"]],\"sequentialminus\":[[0.0,\"#0d0887\"],[0.1111111111111111,\"#46039f\"],[0.2222222222222222,\"#7201a8\"],[0.3333333333333333,\"#9c179e\"],[0.4444444444444444,\"#bd3786\"],[0.5555555555555556,\"#d8576b\"],[0.6666666666666666,\"#ed7953\"],[0.7777777777777778,\"#fb9f3a\"],[0.8888888888888888,\"#fdca26\"],[1.0,\"#f0f921\"]],\"diverging\":[[0,\"#8e0152\"],[0.1,\"#c51b7d\"],[0.2,\"#de77ae\"],[0.3,\"#f1b6da\"],[0.4,\"#fde0ef\"],[0.5,\"#f7f7f7\"],[0.6,\"#e6f5d0\"],[0.7,\"#b8e186\"],[0.8,\"#7fbc41\"],[0.9,\"#4d9221\"],[1,\"#276419\"]]},\"xaxis\":{\"gridcolor\":\"white\",\"linecolor\":\"white\",\"ticks\":\"\",\"title\":{\"standoff\":15},\"zerolinecolor\":\"white\",\"automargin\":true,\"zerolinewidth\":2},\"yaxis\":{\"gridcolor\":\"white\",\"linecolor\":\"white\",\"ticks\":\"\",\"title\":{\"standoff\":15},\"zerolinecolor\":\"white\",\"automargin\":true,\"zerolinewidth\":2},\"scene\":{\"xaxis\":{\"backgroundcolor\":\"#E5ECF6\",\"gridcolor\":\"white\",\"linecolor\":\"white\",\"showbackground\":true,\"ticks\":\"\",\"zerolinecolor\":\"white\",\"gridwidth\":2},\"yaxis\":{\"backgroundcolor\":\"#E5ECF6\",\"gridcolor\":\"white\",\"linecolor\":\"white\",\"showbackground\":true,\"ticks\":\"\",\"zerolinecolor\":\"white\",\"gridwidth\":2},\"zaxis\":{\"backgroundcolor\":\"#E5ECF6\",\"gridcolor\":\"white\",\"linecolor\":\"white\",\"showbackground\":true,\"ticks\":\"\",\"zerolinecolor\":\"white\",\"gridwidth\":2}},\"shapedefaults\":{\"line\":{\"color\":\"#2a3f5f\"}},\"annotationdefaults\":{\"arrowcolor\":\"#2a3f5f\",\"arrowhead\":0,\"arrowwidth\":1},\"geo\":{\"bgcolor\":\"white\",\"landcolor\":\"#E5ECF6\",\"subunitcolor\":\"white\",\"showland\":true,\"showlakes\":true,\"lakecolor\":\"white\"},\"title\":{\"x\":0.05},\"mapbox\":{\"style\":\"light\"}}},\"xaxis\":{\"anchor\":\"y\",\"domain\":[0.0,0.45]},\"yaxis\":{\"anchor\":\"x\",\"domain\":[0.0,1.0]},\"annotations\":[{\"font\":{\"size\":16},\"showarrow\":false,\"text\":\"\\u0414\\u043e\\u043b\\u044f \\u043a\\u043b\\u0438\\u0435\\u043d\\u0442\\u043e\\u0432, \\u0432 \\u0437\\u0430\\u0432\\u0438\\u0441\\u0438\\u043c\\u043e\\u0441\\u0442\\u0438 \\u043e\\u0442 \\u043a\\u043b\\u0430\\u0441\\u0441\\u0430\",\"x\":0.225,\"xanchor\":\"center\",\"xref\":\"paper\",\"y\":1.0,\"yanchor\":\"bottom\",\"yref\":\"paper\"},{\"font\":{\"size\":16},\"showarrow\":false,\"text\":\"\\u0414\\u043e\\u043b\\u044f \\u043a\\u043b\\u0438\\u0435\\u043d\\u0442\\u043e\\u0432, \\u0432 \\u0437\\u0430\\u0432\\u0438\\u0441\\u0438\\u043c\\u043e\\u0441\\u0442\\u0438 \\u043e\\u0442 \\u043a\\u043b\\u0430\\u0441\\u0441\\u0430\",\"x\":0.775,\"xanchor\":\"center\",\"xref\":\"paper\",\"y\":1.0,\"yanchor\":\"bottom\",\"yref\":\"paper\"}],\"title\":{\"text\":\"\\u0424\\u0430\\u043a\\u0442 \\u0443\\u0445\\u043e\\u0434\\u0430 \\u043a\\u043b\\u0438\\u0435\\u043d\\u0442\\u0430, \\u0433\\u0434\\u0435 1-\\u0443\\u0448\\u0435\\u043b, 0-\\u043e\\u0441\\u0442\\u0430\\u043b\\u0441\\u044f\"},\"height\":400,\"showlegend\":false},                        {\"responsive\": true}                    ).then(function(){\n",
              "                            \n",
              "var gd = document.getElementById('dc39336c-3d2e-4d70-a737-e4108f0c3521');\n",
              "var x = new MutationObserver(function (mutations, observer) {{\n",
              "        var display = window.getComputedStyle(gd).display;\n",
              "        if (!display || display === 'none') {{\n",
              "            console.log([gd, 'removed!']);\n",
              "            Plotly.purge(gd);\n",
              "            observer.disconnect();\n",
              "        }}\n",
              "}});\n",
              "\n",
              "// Listen for the removal of the full notebook cells\n",
              "var notebookContainer = gd.closest('#notebook-container');\n",
              "if (notebookContainer) {{\n",
              "    x.observe(notebookContainer, {childList: true});\n",
              "}}\n",
              "\n",
              "// Listen for the clearing of the current output cell\n",
              "var outputEl = gd.closest('.output');\n",
              "if (outputEl) {{\n",
              "    x.observe(outputEl, {childList: true});\n",
              "}}\n",
              "\n",
              "                        })                };                            </script>        </div>\n",
              "</body>\n",
              "</html>"
            ]
          },
          "metadata": {}
        }
      ]
    },
    {
      "cell_type": "code",
      "source": [
        "%%time\n",
        "# обучим модели случайного леса и решающего дерева на сбалансированных обучающих выборках\n",
        "decision_tree_classifier(features_downsampled, features_valid, target_downsampled, target_valid)"
      ],
      "metadata": {
        "colab": {
          "base_uri": "https://localhost:8080/"
        },
        "id": "LGZmix_4XtRd",
        "outputId": "d4d2cbf2-17cd-4814-bd23-9434658e0868"
      },
      "execution_count": 43,
      "outputs": [
        {
          "output_type": "stream",
          "name": "stdout",
          "text": [
            "Наилучшая метрика f1: 0.596\n",
            "    Парамтеры модели:\n",
            "       max_depth = 6\n",
            "       min_samples_split = 2\n",
            "       min_samples_leaf = 3\n",
            "       criterion = gini \n",
            "\n",
            "Наилучшая метрика roc_auc: 0.856\n",
            "    Парамтеры модели:\n",
            "       max_depth = 6\n",
            "       min_samples_split = 2\n",
            "       min_samples_leaf = 3\n",
            "       criterion = entropy \n",
            "\n",
            "              precision    recall  f1-score   support\n",
            "non-exited     0.935759  0.759422  0.838419  1592.000\n",
            "exited         0.459040  0.796569  0.582437   408.000\n",
            "accuracy       0.767000  0.767000  0.767000     0.767\n",
            "macro avg      0.697399  0.777995  0.710428  2000.000\n",
            "weighted avg   0.838508  0.767000  0.786199  2000.000\n",
            "CPU times: user 10.4 s, sys: 19.2 ms, total: 10.5 s\n",
            "Wall time: 13 s\n"
          ]
        }
      ]
    },
    {
      "cell_type": "code",
      "source": [
        "%%time\n",
        "random_forest_classifier(features_downsampled, features_valid, target_downsampled, target_valid)"
      ],
      "metadata": {
        "colab": {
          "base_uri": "https://localhost:8080/"
        },
        "id": "Kyqr2GfxXtaF",
        "outputId": "08eb0ab3-5a76-4958-bc49-efd7f58f1748"
      },
      "execution_count": 44,
      "outputs": [
        {
          "output_type": "stream",
          "name": "stdout",
          "text": [
            "Наилучшая метрика f1: 0.624\n",
            "    Парамтеры модели:\n",
            "       n_estimators = 36\n",
            "       max_depth = 10\n",
            "       min_samples_split = 2\n",
            "       min_samples_leaf = 2 \n",
            "\n",
            "Наилучшая метрика roc_auc: 0.866\n",
            "    Парамтеры модели:\n",
            "       n_estimators = 39\n",
            "       max_depth = 14\n",
            "       min_samples_split = 3\n",
            "       min_samples_leaf = 1 \n",
            "\n",
            "              precision    recall  f1-score    support\n",
            "non-exited     0.938392  0.784548  0.854601  1592.0000\n",
            "exited         0.487294  0.799020  0.605385   408.0000\n",
            "accuracy       0.787500  0.787500  0.787500     0.7875\n",
            "macro avg      0.712843  0.791784  0.729993  2000.0000\n",
            "weighted avg   0.846368  0.787500  0.803761  2000.0000\n",
            "CPU times: user 1min 21s, sys: 259 ms, total: 1min 21s\n",
            "Wall time: 1min 38s\n"
          ]
        }
      ]
    },
    {
      "cell_type": "code",
      "source": [
        "# обучим модель логистической регрессии на сбалансированных обучающих выборках\n",
        "# интересно, сможим ли мы довести метрику f1 до показателя, требуемого по техническому заданию\n",
        "logistic_regression(features_downsampled, features_valid, target_downsampled, target_valid)"
      ],
      "metadata": {
        "colab": {
          "base_uri": "https://localhost:8080/"
        },
        "id": "5M23zHhIXyZ1",
        "outputId": "b88213ba-42c1-4a26-876d-4f0b135012e4"
      },
      "execution_count": 45,
      "outputs": [
        {
          "output_type": "stream",
          "name": "stdout",
          "text": [
            "Наилучшая метрика f1: 0.528\n",
            "    Парамтеры модели:\n",
            "       C = 1 \n",
            "\n",
            "Наилучшая метрика roc_auc: 0.793\n",
            "    Парамтеры модели:\n",
            "       C = 1 \n"
          ]
        }
      ]
    },
    {
      "cell_type": "markdown",
      "source": [
        "> - Метрика f1 для модели \"Случайный лес\" достигла значения 0.62 на сбалансированной выборке, что удовлетворяет условию технического задания (>0.59).\n",
        "- Для модели \"Решающее дерево\" метрика f1 также достигла минимально допустимого значения 0.59 (за меньшее время обучения).\n",
        "- Наилучшие значения метрик f1 и roc_auc модели достигли при различных значениях гиперпараметров.\n",
        "- Для модели \"Случайный лес\" попробуем применить различные варианты upsampling и downsampling (изменять параметры repeat и fraction)."
      ],
      "metadata": {
        "id": "VGLSCkbcX8SX"
      }
    },
    {
      "cell_type": "code",
      "source": [
        "for rep in range(2,4):\n",
        "    for frac in np.arange(0.5, 0.8, 0.05):\n",
        "        print('=============================================================')\n",
        "        print('repeat = {};   fraction = {}'.format(rep, round(frac,2)))\n",
        "        features_upsampled, target_upsampled = upsample(features_train, target_train, rep)\n",
        "        features_downsampled, target_downsampled = downsample(features_upsampled, target_upsampled, frac)\n",
        "        random_forest_classifier(features_downsampled, features_valid, target_downsampled, target_valid)"
      ],
      "metadata": {
        "colab": {
          "base_uri": "https://localhost:8080/"
        },
        "id": "SrP5SWbWYhl_",
        "outputId": "894d005d-152b-4675-936a-9b8bcf067df5"
      },
      "execution_count": 46,
      "outputs": [
        {
          "output_type": "stream",
          "name": "stdout",
          "text": [
            "=============================================================\n",
            "repeat = 2;   fraction = 0.5\n",
            "Наилучшая метрика f1: 0.642\n",
            "    Парамтеры модели:\n",
            "       n_estimators = 30\n",
            "       max_depth = 14\n",
            "       min_samples_split = 2\n",
            "       min_samples_leaf = 2 \n",
            "\n",
            "Наилучшая метрика roc_auc: 0.874\n",
            "    Парамтеры модели:\n",
            "       n_estimators = 30\n",
            "       max_depth = 10\n",
            "       min_samples_split = 2\n",
            "       min_samples_leaf = 2 \n",
            "\n",
            "              precision    recall  f1-score    support\n",
            "non-exited     0.925086  0.845477  0.883492  1592.0000\n",
            "exited         0.548624  0.732843  0.627492   408.0000\n",
            "accuracy       0.822500  0.822500  0.822500     0.8225\n",
            "macro avg      0.736855  0.789160  0.755492  2000.0000\n",
            "weighted avg   0.848288  0.822500  0.831268  2000.0000\n",
            "=============================================================\n",
            "repeat = 2;   fraction = 0.55\n",
            "Наилучшая метрика f1: 0.646\n",
            "    Парамтеры модели:\n",
            "       n_estimators = 31\n",
            "       max_depth = 14\n",
            "       min_samples_split = 2\n",
            "       min_samples_leaf = 2 \n",
            "\n",
            "Наилучшая метрика roc_auc: 0.871\n",
            "    Парамтеры модели:\n",
            "       n_estimators = 38\n",
            "       max_depth = 10\n",
            "       min_samples_split = 4\n",
            "       min_samples_leaf = 1 \n",
            "\n",
            "              precision    recall  f1-score   support\n",
            "non-exited     0.920592  0.859296  0.888889  1592.000\n",
            "exited         0.564202  0.710784  0.629067   408.000\n",
            "accuracy       0.829000  0.829000  0.829000     0.829\n",
            "macro avg      0.742397  0.785040  0.758978  2000.000\n",
            "weighted avg   0.847889  0.829000  0.835885  2000.000\n",
            "=============================================================\n",
            "repeat = 2;   fraction = 0.6\n",
            "Наилучшая метрика f1: 0.649\n",
            "    Парамтеры модели:\n",
            "       n_estimators = 31\n",
            "       max_depth = 10\n",
            "       min_samples_split = 2\n",
            "       min_samples_leaf = 1 \n",
            "\n",
            "Наилучшая метрика roc_auc: 0.872\n",
            "    Парамтеры модели:\n",
            "       n_estimators = 36\n",
            "       max_depth = 10\n",
            "       min_samples_split = 2\n",
            "       min_samples_leaf = 2 \n",
            "\n",
            "              precision    recall  f1-score    support\n",
            "non-exited     0.914851  0.870603  0.892179  1592.0000\n",
            "exited         0.575258  0.683824  0.624860   408.0000\n",
            "accuracy       0.832500  0.832500  0.832500     0.8325\n",
            "macro avg      0.745055  0.777213  0.758519  2000.0000\n",
            "weighted avg   0.845574  0.832500  0.837646  2000.0000\n",
            "=============================================================\n",
            "repeat = 2;   fraction = 0.65\n",
            "Наилучшая метрика f1: 0.651\n",
            "    Парамтеры модели:\n",
            "       n_estimators = 35\n",
            "       max_depth = 10\n",
            "       min_samples_split = 3\n",
            "       min_samples_leaf = 1 \n",
            "\n",
            "Наилучшая метрика roc_auc: 0.872\n",
            "    Парамтеры модели:\n",
            "       n_estimators = 30\n",
            "       max_depth = 10\n",
            "       min_samples_split = 4\n",
            "       min_samples_leaf = 1 \n",
            "\n",
            "              precision    recall  f1-score    support\n",
            "non-exited     0.915410  0.876884  0.895733  1592.0000\n",
            "exited         0.587368  0.683824  0.631937   408.0000\n",
            "accuracy       0.837500  0.837500  0.837500     0.8375\n",
            "macro avg      0.751389  0.780354  0.763835  2000.0000\n",
            "weighted avg   0.848489  0.837500  0.841919  2000.0000\n",
            "=============================================================\n",
            "repeat = 2;   fraction = 0.7\n",
            "Наилучшая метрика f1: 0.651\n",
            "    Парамтеры модели:\n",
            "       n_estimators = 30\n",
            "       max_depth = 16\n",
            "       min_samples_split = 2\n",
            "       min_samples_leaf = 2 \n",
            "\n",
            "Наилучшая метрика roc_auc: 0.872\n",
            "    Парамтеры модели:\n",
            "       n_estimators = 32\n",
            "       max_depth = 10\n",
            "       min_samples_split = 2\n",
            "       min_samples_leaf = 2 \n",
            "\n",
            "              precision    recall  f1-score    support\n",
            "non-exited     0.910726  0.890704  0.900603  1592.0000\n",
            "exited         0.607223  0.659314  0.632197   408.0000\n",
            "accuracy       0.843500  0.843500  0.843500     0.8435\n",
            "macro avg      0.758975  0.775009  0.766400  2000.0000\n",
            "weighted avg   0.848811  0.843500  0.845849  2000.0000\n",
            "=============================================================\n",
            "repeat = 2;   fraction = 0.75\n",
            "Наилучшая метрика f1: 0.653\n",
            "    Парамтеры модели:\n",
            "       n_estimators = 33\n",
            "       max_depth = 14\n",
            "       min_samples_split = 2\n",
            "       min_samples_leaf = 2 \n",
            "\n",
            "Наилучшая метрика roc_auc: 0.872\n",
            "    Парамтеры модели:\n",
            "       n_estimators = 39\n",
            "       max_depth = 10\n",
            "       min_samples_split = 2\n",
            "       min_samples_leaf = 2 \n",
            "\n",
            "              precision    recall  f1-score    support\n",
            "non-exited     0.913016  0.903266  0.908115  1592.0000\n",
            "exited         0.637647  0.664216  0.650660   408.0000\n",
            "accuracy       0.854500  0.854500  0.854500     0.8545\n",
            "macro avg      0.775331  0.783741  0.779388  2000.0000\n",
            "weighted avg   0.856841  0.854500  0.855594  2000.0000\n",
            "=============================================================\n",
            "repeat = 2;   fraction = 0.8\n",
            "Наилучшая метрика f1: 0.646\n",
            "    Парамтеры модели:\n",
            "       n_estimators = 34\n",
            "       max_depth = 12\n",
            "       min_samples_split = 2\n",
            "       min_samples_leaf = 1 \n",
            "\n",
            "Наилучшая метрика roc_auc: 0.875\n",
            "    Парамтеры модели:\n",
            "       n_estimators = 37\n",
            "       max_depth = 10\n",
            "       min_samples_split = 4\n",
            "       min_samples_leaf = 1 \n",
            "\n",
            "              precision    recall  f1-score    support\n",
            "non-exited     0.908977  0.909548  0.909262  1592.0000\n",
            "exited         0.646192  0.644608  0.645399   408.0000\n",
            "accuracy       0.855500  0.855500  0.855500     0.8555\n",
            "macro avg      0.777584  0.777078  0.777330  2000.0000\n",
            "weighted avg   0.855369  0.855500  0.855434  2000.0000\n",
            "=============================================================\n",
            "repeat = 3;   fraction = 0.5\n",
            "Наилучшая метрика f1: 0.626\n",
            "    Парамтеры модели:\n",
            "       n_estimators = 34\n",
            "       max_depth = 16\n",
            "       min_samples_split = 2\n",
            "       min_samples_leaf = 2 \n",
            "\n",
            "Наилучшая метрика roc_auc: 0.869\n",
            "    Парамтеры модели:\n",
            "       n_estimators = 38\n",
            "       max_depth = 16\n",
            "       min_samples_split = 2\n",
            "       min_samples_leaf = 3 \n",
            "\n",
            "              precision    recall  f1-score   support\n",
            "non-exited     0.936296  0.793970  0.859279  1592.000\n",
            "exited         0.495385  0.789216  0.608696   408.000\n",
            "accuracy       0.793000  0.793000  0.793000     0.793\n",
            "macro avg      0.715840  0.791593  0.733988  2000.000\n",
            "weighted avg   0.846350  0.793000  0.808160  2000.000\n",
            "=============================================================\n",
            "repeat = 3;   fraction = 0.55\n",
            "Наилучшая метрика f1: 0.636\n",
            "    Парамтеры модели:\n",
            "       n_estimators = 32\n",
            "       max_depth = 14\n",
            "       min_samples_split = 2\n",
            "       min_samples_leaf = 1 \n",
            "\n",
            "Наилучшая метрика roc_auc: 0.872\n",
            "    Парамтеры модели:\n",
            "       n_estimators = 34\n",
            "       max_depth = 14\n",
            "       min_samples_split = 2\n",
            "       min_samples_leaf = 3 \n",
            "\n",
            "              precision    recall  f1-score    support\n",
            "non-exited     0.933382  0.809673  0.867138  1592.0000\n",
            "exited         0.510501  0.774510  0.615385   408.0000\n",
            "accuracy       0.802500  0.802500  0.802500     0.8025\n",
            "macro avg      0.721941  0.792092  0.741261  2000.0000\n",
            "weighted avg   0.847114  0.802500  0.815780  2000.0000\n",
            "=============================================================\n",
            "repeat = 3;   fraction = 0.6\n",
            "Наилучшая метрика f1: 0.64\n",
            "    Парамтеры модели:\n",
            "       n_estimators = 39\n",
            "       max_depth = 14\n",
            "       min_samples_split = 3\n",
            "       min_samples_leaf = 1 \n",
            "\n",
            "Наилучшая метрика roc_auc: 0.876\n",
            "    Парамтеры модели:\n",
            "       n_estimators = 36\n",
            "       max_depth = 12\n",
            "       min_samples_split = 2\n",
            "       min_samples_leaf = 3 \n",
            "\n",
            "              precision    recall  f1-score    support\n",
            "non-exited     0.927526  0.836055  0.879419  1592.0000\n",
            "exited         0.538053  0.745098  0.624872   408.0000\n",
            "accuracy       0.817500  0.817500  0.817500     0.8175\n",
            "macro avg      0.732790  0.790577  0.752145  2000.0000\n",
            "weighted avg   0.848074  0.817500  0.827491  2000.0000\n",
            "=============================================================\n",
            "repeat = 3;   fraction = 0.65\n",
            "Наилучшая метрика f1: 0.651\n",
            "    Парамтеры модели:\n",
            "       n_estimators = 37\n",
            "       max_depth = 12\n",
            "       min_samples_split = 2\n",
            "       min_samples_leaf = 3 \n",
            "\n",
            "Наилучшая метрика roc_auc: 0.871\n",
            "    Парамтеры модели:\n",
            "       n_estimators = 35\n",
            "       max_depth = 12\n",
            "       min_samples_split = 2\n",
            "       min_samples_leaf = 3 \n",
            "\n",
            "              precision    recall  f1-score    support\n",
            "non-exited     0.924709  0.848618  0.885031  1592.0000\n",
            "exited         0.552876  0.730392  0.629356   408.0000\n",
            "accuracy       0.824500  0.824500  0.824500     0.8245\n",
            "macro avg      0.738792  0.789505  0.757193  2000.0000\n",
            "weighted avg   0.848855  0.824500  0.832873  2000.0000\n",
            "=============================================================\n",
            "repeat = 3;   fraction = 0.7\n",
            "Наилучшая метрика f1: 0.645\n",
            "    Парамтеры модели:\n",
            "       n_estimators = 35\n",
            "       max_depth = 12\n",
            "       min_samples_split = 2\n",
            "       min_samples_leaf = 1 \n",
            "\n",
            "Наилучшая метрика roc_auc: 0.872\n",
            "    Парамтеры модели:\n",
            "       n_estimators = 39\n",
            "       max_depth = 14\n",
            "       min_samples_split = 2\n",
            "       min_samples_leaf = 3 \n",
            "\n",
            "              precision    recall  f1-score    support\n",
            "non-exited     0.918612  0.864950  0.890974  1592.0000\n",
            "exited         0.570858  0.700980  0.629263   408.0000\n",
            "accuracy       0.831500  0.831500  0.831500     0.8315\n",
            "macro avg      0.744735  0.782965  0.760118  2000.0000\n",
            "weighted avg   0.847671  0.831500  0.837585  2000.0000\n",
            "=============================================================\n",
            "repeat = 3;   fraction = 0.75\n",
            "Наилучшая метрика f1: 0.65\n",
            "    Парамтеры модели:\n",
            "       n_estimators = 39\n",
            "       max_depth = 10\n",
            "       min_samples_split = 2\n",
            "       min_samples_leaf = 2 \n",
            "\n",
            "Наилучшая метрика roc_auc: 0.872\n",
            "    Парамтеры модели:\n",
            "       n_estimators = 39\n",
            "       max_depth = 10\n",
            "       min_samples_split = 2\n",
            "       min_samples_leaf = 3 \n",
            "\n",
            "              precision    recall  f1-score    support\n",
            "non-exited     0.916066  0.877513  0.896375  1592.0000\n",
            "exited         0.589474  0.686275  0.634202   408.0000\n",
            "accuracy       0.838500  0.838500  0.838500     0.8385\n",
            "macro avg      0.752770  0.781894  0.765288  2000.0000\n",
            "weighted avg   0.849441  0.838500  0.842891  2000.0000\n",
            "=============================================================\n",
            "repeat = 3;   fraction = 0.8\n",
            "Наилучшая метрика f1: 0.651\n",
            "    Парамтеры модели:\n",
            "       n_estimators = 31\n",
            "       max_depth = 10\n",
            "       min_samples_split = 3\n",
            "       min_samples_leaf = 1 \n",
            "\n",
            "Наилучшая метрика roc_auc: 0.872\n",
            "    Парамтеры модели:\n",
            "       n_estimators = 36\n",
            "       max_depth = 10\n",
            "       min_samples_split = 2\n",
            "       min_samples_leaf = 1 \n",
            "\n",
            "              precision    recall  f1-score    support\n",
            "non-exited     0.912476  0.877513  0.894653  1592.0000\n",
            "exited         0.584222  0.671569  0.624857   408.0000\n",
            "accuracy       0.835500  0.835500  0.835500     0.8355\n",
            "macro avg      0.748349  0.774541  0.759755  2000.0000\n",
            "weighted avg   0.845512  0.835500  0.839614  2000.0000\n"
          ]
        }
      ]
    },
    {
      "cell_type": "markdown",
      "source": [
        "### Выводы:\n",
        "<ol>\n",
        "    <li>Применили несколько способов борьбы с дисбалансом (взвешивание классов, увеличение выборки, уменьшение выборки) и проверили, как преобразование данных влияет на способность модели предсказывать уход клиентов.</li>\n",
        "    <ul>\n",
        "        <li>Взвешивание классов с помощью параметра class_weight дало значительное увеличение на 0,22 метрики f1 для модели \"Логистическая регрессия\".</li>\n",
        "        <li>Для моделей \"Дерево принятия решений\" и \"Случайного леса\" взвешивание классов также дало незначительный прирост метрик f1 и roc_auc.</li>\n",
        "        <li>При upsampling положительного класса и downsampling отрицательного класса метрики f1 и roc_auc моделей \"Дерево принятия решений\" и \"Случайного леса\" достигли уровня f1, требуемого по техническому заданию.</li>\n",
        "        <li>Следует отметить, что при взвешивании классов модель \"Дерево принятия решений\" достигла больших результатов (f1=0.62, roc_auc=0.86), чем после увеличения количества объектов класса 1 в 4 раза (f1=0.59, roc_auc=0.85) и уменьшения количества объектов класса 0 в 0.25 раз (f1=0.596, roc_auc=0.856) </li>\n",
        "    </ul>\n",
        "    <li>Необходимое качество на валидационной выборке получили модели:</li>\n",
        "    <ul>\n",
        "        <li>Случайный лес:</li>\n",
        "        <ul>\n",
        "            <li>f1 = 0.596</li>\n",
        "            <li>roc_auc = 0.856</li>\n",
        "            <li>repeat = 4 - повторение объектов класса 1</li>\n",
        "            <li>fraction = 0.25 - коэффициент сэмплирования объектов класса 0</li>\n",
        "        </ul>\n",
        "        <li>Решающее дерево:</li>\n",
        "        <ul>\n",
        "            <li>f1 = 0.624</li>\n",
        "            <li>roc_auc = 0.86</li>\n",
        "            <li>repeat = 4</li>\n",
        "            <li>fraction = 0.25</li>\n",
        "        </ul>\n",
        "    </ul>\n",
        "    <li>Выяснили, что наилучший результат для модели \"Случайного леса\" достигнут при увеличении положительного класса тренировочной выборки в 3 раза и сэмплировании отрицательного класса с коэффициентом 0.75. При этом метрика f1 = 0.65 а roc_auc = 0.87 при одинаковых настройках гиперпараметров, что удовлетворяет условиям технического задания.</li>\n",
        "    <li>Протестируем модель \"Cлучайного леса\" с следующими гиперпараметрами на тестовой выборке:</li>\n",
        "    <ul>\n",
        "        <li>n_estimators = 39</li>\n",
        "        <li>max_depth = 10</li>\n",
        "        <li>min_samples_split = 2</li>\n",
        "        <li>min_samples_leaf = 2</li>\n",
        "    </ul>\n",
        "</ol>"
      ],
      "metadata": {
        "id": "vz0M6XwyYpYN"
      }
    },
    {
      "cell_type": "markdown",
      "source": [
        "## Тестирование модели"
      ],
      "metadata": {
        "id": "lCLEMSVAYxaV"
      }
    },
    {
      "cell_type": "code",
      "source": [
        "# проверим работу модели на расширенной выборке:\n",
        "# объединим тренировочную и валидационную выборки\n",
        "features_combined = pd.concat([features_train, features_valid])\n",
        "target_combined = pd.concat([target_train, target_valid])\n",
        "# увеличим положительный класс выборки в 3 раза\n",
        "# и проведем сэмплирование отрицательного классса с коэффициентом 0.75\n",
        "features_upsampled, target_upsampled = upsample(features_combined, target_combined, 3)\n",
        "features_downsampled, target_downsampled = downsample(features_upsampled, target_upsampled, 0.75)\n",
        "# инициация модели с подобранными гиперпараметрами\n",
        "model_rfc_final = RandomForestClassifier(random_state=12345,\n",
        "                                         n_estimators=39,\n",
        "                                         max_depth=10,\n",
        "                                         min_samples_split=2,\n",
        "                                         min_samples_leaf=2)\n",
        "# обучение модели на объединенной выборке\n",
        "model_rfc_final.fit(features_downsampled, target_downsampled)\n",
        "# поиск предсказаний модели на тестовой выбоке\n",
        "predictions_final = model_rfc_final.predict(features_test)\n",
        "probabilities_final = model_rfc_final.predict_proba(features_test)\n",
        "# вычисление f1 модели методом f1_score\n",
        "f1_final = f1_score(target_test, predictions_final)\n",
        "# вычисление roc_auc модели методом roc_auc_score\n",
        "roc_auc_final = roc_auc_score(target_test, predictions_final)\n",
        "print(' f1 = {}, \\n roc_auc = {}'.format(round(f1_final,2), round(roc_auc_final,2)))"
      ],
      "metadata": {
        "colab": {
          "base_uri": "https://localhost:8080/"
        },
        "id": "IXYBD68XYVwr",
        "outputId": "76ff9fa7-1063-4f2f-c696-d38834115808"
      },
      "execution_count": 47,
      "outputs": [
        {
          "output_type": "stream",
          "name": "stdout",
          "text": [
            " f1 = 0.61, \n",
            " roc_auc = 0.78\n"
          ]
        }
      ]
    },
    {
      "cell_type": "code",
      "source": [
        "fpr, tpr, thresholds = roc_curve(target_test, probabilities_final[:,1])\n",
        "\n",
        "# ROC-кривая случайного леса\n",
        "trace_rf = go.Scatter(x = fpr,y = tpr,\n",
        "                      name = \"Случайный лес: \" + str(roc_auc_final),\n",
        "                      line = dict(width = 2))\n",
        "\n",
        "# ROC-кривая случайной модели\n",
        "trace_random = go.Scatter(x = [0.0, 1.0], y = [0.0, 1.0],\n",
        "                          name = 'Случайная модель',\n",
        "                          line = dict(width = 2, dash = 'dot'))\n",
        "\n",
        "data = [trace_rf, trace_random]\n",
        "layout = go.Layout(dict(title = 'ROC-кривая',\n",
        "                        height = 550, width = 800,\n",
        "                        xaxis = dict(title = \"Ложноположительные ответы (False Positive Rate)\"),\n",
        "                        yaxis = dict(title = \"Истинно положительные ответы (True Positive Rate)\")))\n",
        "\n",
        "fig = go.Figure(data, layout=layout)\n",
        "fig.show()"
      ],
      "metadata": {
        "colab": {
          "base_uri": "https://localhost:8080/",
          "height": 567
        },
        "id": "uQq_5wzRY8X_",
        "outputId": "223110b3-9dfe-4c45-9ebc-6c5d95daefd0"
      },
      "execution_count": 48,
      "outputs": [
        {
          "output_type": "display_data",
          "data": {
            "text/html": [
              "<html>\n",
              "<head><meta charset=\"utf-8\" /></head>\n",
              "<body>\n",
              "    <div>            <script src=\"https://cdnjs.cloudflare.com/ajax/libs/mathjax/2.7.5/MathJax.js?config=TeX-AMS-MML_SVG\"></script><script type=\"text/javascript\">if (window.MathJax && window.MathJax.Hub && window.MathJax.Hub.Config) {window.MathJax.Hub.Config({SVG: {font: \"STIX-Web\"}});}</script>                <script type=\"text/javascript\">window.PlotlyConfig = {MathJaxConfig: 'local'};</script>\n",
              "        <script src=\"https://cdn.plot.ly/plotly-2.18.2.min.js\"></script>                <div id=\"8aee69de-e39c-4c39-a306-b6c1498226af\" class=\"plotly-graph-div\" style=\"height:550px; width:800px;\"></div>            <script type=\"text/javascript\">                                    window.PLOTLYENV=window.PLOTLYENV || {};                                    if (document.getElementById(\"8aee69de-e39c-4c39-a306-b6c1498226af\")) {                    Plotly.newPlot(                        \"8aee69de-e39c-4c39-a306-b6c1498226af\",                        [{\"line\":{\"width\":2},\"name\":\"\\u0421\\u043b\\u0443\\u0447\\u0430\\u0439\\u043d\\u044b\\u0439 \\u043b\\u0435\\u0441: 0.7799401867198478\",\"x\":[0.0,0.0,0.0,0.0006277463904582549,0.0006277463904582549,0.0012554927809165098,0.0012554927809165098,0.0018832391713747645,0.0018832391713747645,0.0025109855618330196,0.0025109855618330196,0.003138731952291274,0.003138731952291274,0.003766478342749529,0.003766478342749529,0.004394224733207784,0.004394224733207784,0.005021971123666039,0.005021971123666039,0.005649717514124294,0.005649717514124294,0.006905210295040804,0.006905210295040804,0.008160703075957313,0.008160703075957313,0.008788449466415568,0.008788449466415568,0.010671688637790333,0.010671688637790333,0.013810420590081607,0.013810420590081607,0.014438166980539862,0.014438166980539862,0.015065913370998116,0.015065913370998116,0.015693659761456372,0.015693659761456372,0.016321406151914627,0.016321406151914627,0.01694915254237288,0.01694915254237288,0.017576898932831136,0.017576898932831136,0.01820464532328939,0.01820464532328939,0.018832391713747645,0.018832391713747645,0.0194601381042059,0.0194601381042059,0.02071563088512241,0.02071563088512241,0.021343377275580666,0.021343377275580666,0.022598870056497175,0.022598870056497175,0.02448210922787194,0.02448210922787194,0.02573760200878845,0.02573760200878845,0.02699309478970496,0.02699309478970496,0.027620841180163214,0.027620841180163214,0.02824858757062147,0.02824858757062147,0.029504080351537978,0.029504080351537978,0.030759573132454487,0.030759573132454487,0.032642812303829254,0.032642812303829254,0.03327055869428751,0.03327055869428751,0.03389830508474576,0.03389830508474576,0.03452605147520402,0.03452605147520402,0.03515379786566227,0.03515379786566227,0.035781544256120526,0.035781544256120526,0.03766478342749529,0.03766478342749529,0.03954802259887006,0.03954802259887006,0.04143126177024482,0.04143126177024482,0.04268675455116133,0.04268675455116133,0.04394224733207784,0.04394224733207784,0.044569993722536096,0.044569993722536096,0.045825486503452605,0.045825486503452605,0.047080979284369114,0.047080979284369114,0.04959196484620213,0.04959196484620213,0.050219711236660386,0.050219711236660386,0.0514752040175769,0.0514752040175769,0.053358443188951665,0.053358443188951665,0.054613935969868174,0.054613935969868174,0.05524168236032643,0.05524168236032643,0.05586942875078468,0.05586942875078468,0.05649717514124294,0.05649717514124294,0.05775266792215945,0.05775266792215945,0.059008160703075956,0.059008160703075956,0.060263653483992465,0.060263653483992465,0.061519146264908973,0.061519146264908973,0.06340238543628374,0.06340238543628374,0.064030131826742,0.064030131826742,0.06465787821720025,0.06465787821720025,0.06591337099811675,0.06591337099811675,0.0696798493408663,0.0696798493408663,0.07156308851224105,0.07156308851224105,0.07407407407407407,0.07407407407407407,0.07470182046453233,0.07470182046453233,0.07532956685499058,0.07532956685499058,0.07658505963590709,0.07658505963590709,0.07972379158819837,0.07972379158819837,0.08035153797865663,0.08035153797865663,0.08097928436911488,0.08097928436911488,0.08223477715003139,0.08223477715003139,0.08662900188323917,0.08662900188323917,0.08851224105461393,0.08851224105461393,0.09227871939736347,0.09227871939736347,0.09290646578782172,0.09290646578782172,0.09478970495919649,0.09478970495919649,0.09541745134965474,0.09541745134965474,0.096045197740113,0.096045197740113,0.09792843691148775,0.09792843691148775,0.09855618330194602,0.09855618330194602,0.10106716886377903,0.10106716886377903,0.10357815442561205,0.10357815442561205,0.10608913998744507,0.10608913998744507,0.10671688637790333,0.10671688637790333,0.10734463276836158,0.10734463276836158,0.1098556183301946,0.1098556183301946,0.1111111111111111,0.1111111111111111,0.11173885750156937,0.11173885750156937,0.11236660389202763,0.11236660389202763,0.11299435028248588,0.11299435028248588,0.1155053358443189,0.1155053358443189,0.11801632140615191,0.11801632140615191,0.11864406779661017,0.11864406779661017,0.11927181418706842,0.11927181418706842,0.12052730696798493,0.12052730696798493,0.12115505335844319,0.12115505335844319,0.12492153170119272,0.12492153170119272,0.12617702448210924,0.12617702448210924,0.128060263653484,0.128060263653484,0.1293157564344005,0.1293157564344005,0.12994350282485875,0.12994350282485875,0.13308223477715003,0.13308223477715003,0.1337099811676083,0.1337099811676083,0.1362209667294413,0.1362209667294413,0.1431261770244821,0.1431261770244821,0.14626490897677338,0.14626490897677338,0.1487758945386064,0.1487758945386064,0.15003138731952292,0.15003138731952292,0.15254237288135594,0.15254237288135594,0.15944758317639673,0.15944758317639673,0.160075329566855,0.160075329566855,0.16321406151914628,0.16321406151914628,0.16446955430006277,0.16446955430006277,0.16886377903327057,0.16886377903327057,0.17011927181418707,0.17011927181418707,0.17263025737602009,0.17263025737602009,0.17639673571876963,0.17639673571876963,0.18141870684243566,0.18141870684243566,0.18330194601381042,0.18330194601381042,0.1876961707470182,0.1876961707470182,0.18957940991839298,0.18957940991839298,0.19083490269930947,0.19083490269930947,0.19271814187068426,0.19271814187068426,0.194601381042059,0.194601381042059,0.19522912743251727,0.19522912743251727,0.19648462021343377,0.19648462021343377,0.19962335216572505,0.19962335216572505,0.2015065913370998,0.2015065913370998,0.2059008160703076,0.2059008160703076,0.21594475831763968,0.21594475831763968,0.21908349026993096,0.21908349026993096,0.2197112366603892,0.2197112366603892,0.22661644695543,0.22661644695543,0.23163841807909605,0.23163841807909605,0.2335216572504708,0.2335216572504708,0.23540489642184556,0.23540489642184556,0.23728813559322035,0.23728813559322035,0.23854362837413684,0.23854362837413684,0.24105461393596986,0.24105461393596986,0.24733207784055242,0.24733207784055242,0.24795982423101068,0.24795982423101068,0.25360954174513495,0.25360954174513495,0.25674827369742625,0.25674827369742625,0.2580037664783427,0.2580037664783427,0.26867545511613306,0.26867545511613306,0.2787193973634652,0.2787193973634652,0.28688010043942247,0.28688010043942247,0.2962962962962963,0.2962962962962963,0.31198995605775265,0.31198995605775265,0.32077840552416825,0.32077840552416825,0.32454488386691777,0.32454488386691777,0.3270558694287508,0.3270558694287508,0.33019460138104206,0.33019460138104206,0.33584431889516636,0.33584431889516636,0.34023854362837413,0.34023854362837413,0.3408662900188324,0.3408662900188324,0.34526051475204017,0.34526051475204017,0.35091023226616447,0.35091023226616447,0.35153797865662273,0.35153797865662273,0.354676710608914,0.354676710608914,0.3559322033898305,0.3559322033898305,0.3603264281230383,0.3603264281230383,0.3615819209039548,0.3615819209039548,0.36220966729441306,0.36220966729441306,0.3728813559322034,0.3728813559322034,0.3766478342749529,0.3766478342749529,0.38480853735091025,0.38480853735091025,0.389202762084118,0.389202762084118,0.3948524795982423,0.3948524795982423,0.3973634651600753,0.3973634651600753,0.39987445072190836,0.39987445072190836,0.40803515379786565,0.40803515379786565,0.42059008160703076,0.42059008160703076,0.42310106716886375,0.42310106716886375,0.4337727558066541,0.4337727558066541,0.4519774011299435,0.4519774011299435,0.45699937225360954,0.45699937225360954,0.4595103578154426,0.4595103578154426,0.4620213433772756,0.4620213433772756,0.4714375392341494,0.4714375392341494,0.47394852479598243,0.47394852479598243,0.4764595103578154,0.4764595103578154,0.49466415568110483,0.49466415568110483,0.49591964846202136,0.49591964846202136,0.5003138731952291,0.5003138731952291,0.5053358443188951,0.5053358443188951,0.5204017576898933,0.5204017576898933,0.5222849968612681,0.5222849968612681,0.527306967984934,0.527306967984934,0.5379786566227244,0.5379786566227244,0.5436283741368487,0.5436283741368487,0.5580665411173886,0.5580665411173886,0.5599497802887633,0.5599497802887633,0.5743879472693032,0.5743879472693032,0.5800376647834274,0.5800376647834274,0.5925925925925926,0.5925925925925926,0.5976145637162587,0.5976145637162587,0.645323289391086,0.645323289391086,0.6578782172002511,0.6578782172002511,0.6591337099811676,0.6591337099811676,0.6616446955430006,0.6616446955430006,0.6767106089139987,0.6767106089139987,0.7106089139987445,0.7106089139987445,0.751412429378531,0.751412429378531,0.7564344005021971,0.7564344005021971,0.8016321406151915,0.8016321406151915,0.802887633396108,0.802887633396108,0.8242310106716887,0.8242310106716887,0.8436911487758946,0.8436911487758946,0.8625235404896422,0.8625235404896422,0.9397363465160076,0.9397363465160076,1.0],\"y\":[0.0,0.002457002457002457,0.085995085995086,0.085995085995086,0.11547911547911548,0.11547911547911548,0.16953316953316952,0.16953316953316952,0.17936117936117937,0.17936117936117937,0.19901719901719903,0.19901719901719903,0.22113022113022113,0.22113022113022113,0.22604422604422605,0.22604422604422605,0.23587223587223588,0.23587223587223588,0.24078624078624078,0.24078624078624078,0.2457002457002457,0.2457002457002457,0.25061425061425063,0.25061425061425063,0.2702702702702703,0.2702702702702703,0.2727272727272727,0.2727272727272727,0.2972972972972973,0.2972972972972973,0.3144963144963145,0.3144963144963145,0.31695331695331697,0.31695331695331697,0.32186732186732187,0.32186732186732187,0.32432432432432434,0.32432432432432434,0.33415233415233414,0.33415233415233414,0.3366093366093366,0.3366093366093366,0.33906633906633904,0.33906633906633904,0.3415233415233415,0.3415233415233415,0.343980343980344,0.343980343980344,0.35872235872235875,0.35872235872235875,0.36363636363636365,0.36363636363636365,0.36609336609336607,0.36609336609336607,0.3783783783783784,0.3783783783783784,0.3808353808353808,0.3808353808353808,0.3857493857493858,0.3857493857493858,0.3882063882063882,0.3882063882063882,0.3931203931203931,0.3931203931203931,0.3955773955773956,0.3955773955773956,0.39803439803439805,0.39803439803439805,0.4004914004914005,0.4004914004914005,0.4103194103194103,0.4103194103194103,0.41277641277641275,0.41277641277641275,0.4176904176904177,0.4176904176904177,0.4226044226044226,0.4226044226044226,0.4250614250614251,0.4250614250614251,0.4275184275184275,0.4275184275184275,0.43243243243243246,0.43243243243243246,0.4348894348894349,0.4348894348894349,0.44471744471744473,0.44471744471744473,0.44717444717444715,0.44717444717444715,0.4520884520884521,0.4520884520884521,0.45454545454545453,0.45454545454545453,0.4619164619164619,0.4619164619164619,0.47174447174447176,0.47174447174447176,0.4742014742014742,0.4742014742014742,0.47665847665847666,0.47665847665847666,0.47911547911547914,0.47911547911547914,0.48157248157248156,0.48157248157248156,0.48402948402948404,0.48402948402948404,0.48894348894348894,0.48894348894348894,0.4914004914004914,0.4914004914004914,0.4963144963144963,0.4963144963144963,0.5012285012285013,0.5012285012285013,0.5036855036855037,0.5036855036855037,0.5110565110565111,0.5110565110565111,0.5135135135135135,0.5135135135135135,0.515970515970516,0.515970515970516,0.5208845208845209,0.5208845208845209,0.5233415233415234,0.5233415233415234,0.5307125307125307,0.5307125307125307,0.5331695331695332,0.5331695331695332,0.5356265356265356,0.5356265356265356,0.538083538083538,0.538083538083538,0.5405405405405406,0.5405405405405406,0.5454545454545454,0.5454545454545454,0.547911547911548,0.547911547911548,0.5503685503685504,0.5503685503685504,0.5528255528255528,0.5528255528255528,0.5552825552825553,0.5552825552825553,0.5577395577395577,0.5577395577395577,0.5601965601965602,0.5601965601965602,0.5823095823095823,0.5823095823095823,0.5872235872235873,0.5872235872235873,0.5921375921375921,0.5921375921375921,0.5945945945945946,0.5945945945945946,0.597051597051597,0.597051597051597,0.5995085995085995,0.5995085995085995,0.6068796068796068,0.6068796068796068,0.6142506142506142,0.6142506142506142,0.6167076167076168,0.6167076167076168,0.6191646191646192,0.6191646191646192,0.6216216216216216,0.6216216216216216,0.6265356265356266,0.6265356265356266,0.628992628992629,0.628992628992629,0.6314496314496314,0.6314496314496314,0.6339066339066339,0.6339066339066339,0.6363636363636364,0.6363636363636364,0.6388206388206388,0.6388206388206388,0.6437346437346437,0.6437346437346437,0.6461916461916462,0.6461916461916462,0.6511056511056511,0.6511056511056511,0.6560196560196561,0.6560196560196561,0.6584766584766585,0.6584766584766585,0.6633906633906634,0.6633906633906634,0.6658476658476659,0.6658476658476659,0.6683046683046683,0.6683046683046683,0.6732186732186732,0.6732186732186732,0.6781326781326781,0.6781326781326781,0.683046683046683,0.683046683046683,0.687960687960688,0.687960687960688,0.6904176904176904,0.6904176904176904,0.6928746928746928,0.6928746928746928,0.6953316953316954,0.6953316953316954,0.7002457002457002,0.7002457002457002,0.7027027027027027,0.7027027027027027,0.7051597051597052,0.7051597051597052,0.7100737100737101,0.7100737100737101,0.7174447174447175,0.7174447174447175,0.7199017199017199,0.7199017199017199,0.7248157248157249,0.7248157248157249,0.7272727272727273,0.7272727272727273,0.7297297297297297,0.7297297297297297,0.7321867321867321,0.7321867321867321,0.7346437346437347,0.7346437346437347,0.7371007371007371,0.7371007371007371,0.7395577395577395,0.7395577395577395,0.742014742014742,0.742014742014742,0.7444717444717445,0.7444717444717445,0.7493857493857494,0.7493857493857494,0.7518427518427518,0.7518427518427518,0.7542997542997543,0.7542997542997543,0.7567567567567568,0.7567567567567568,0.7592137592137592,0.7592137592137592,0.7616707616707616,0.7616707616707616,0.7641277641277642,0.7641277641277642,0.769041769041769,0.769041769041769,0.7714987714987716,0.7714987714987716,0.773955773955774,0.773955773955774,0.7764127764127764,0.7764127764127764,0.7788697788697788,0.7788697788697788,0.7813267813267813,0.7813267813267813,0.7837837837837838,0.7837837837837838,0.7862407862407862,0.7862407862407862,0.7911547911547911,0.7911547911547911,0.7936117936117936,0.7936117936117936,0.7960687960687961,0.7960687960687961,0.7985257985257985,0.7985257985257985,0.800982800982801,0.800982800982801,0.8034398034398035,0.8034398034398035,0.8083538083538083,0.8083538083538083,0.8108108108108109,0.8108108108108109,0.8132678132678133,0.8132678132678133,0.8157248157248157,0.8157248157248157,0.8181818181818182,0.8181818181818182,0.8206388206388207,0.8206388206388207,0.8230958230958231,0.8230958230958231,0.8255528255528255,0.8255528255528255,0.828009828009828,0.828009828009828,0.8304668304668305,0.8304668304668305,0.8329238329238329,0.8329238329238329,0.8353808353808354,0.8353808353808354,0.8378378378378378,0.8378378378378378,0.8402948402948403,0.8402948402948403,0.8427518427518428,0.8427518427518428,0.8452088452088452,0.8452088452088452,0.8476658476658476,0.8476658476658476,0.8501228501228502,0.8501228501228502,0.8525798525798526,0.8525798525798526,0.855036855036855,0.855036855036855,0.8574938574938575,0.8574938574938575,0.85995085995086,0.85995085995086,0.8624078624078624,0.8624078624078624,0.8673218673218673,0.8673218673218673,0.8697788697788698,0.8697788697788698,0.8722358722358723,0.8722358722358723,0.8746928746928747,0.8746928746928747,0.8796068796068796,0.8796068796068796,0.8820638820638821,0.8820638820638821,0.8845208845208845,0.8845208845208845,0.8869778869778869,0.8869778869778869,0.8894348894348895,0.8894348894348895,0.8918918918918919,0.8918918918918919,0.8968058968058968,0.8968058968058968,0.8992628992628993,0.8992628992628993,0.9017199017199017,0.9017199017199017,0.9090909090909091,0.9090909090909091,0.9115479115479116,0.9115479115479116,0.914004914004914,0.914004914004914,0.9213759213759214,0.9213759213759214,0.9238329238329238,0.9238329238329238,0.9262899262899262,0.9262899262899262,0.9287469287469288,0.9287469287469288,0.9312039312039312,0.9312039312039312,0.9336609336609336,0.9336609336609336,0.9361179361179361,0.9361179361179361,0.9385749385749386,0.9385749385749386,0.941031941031941,0.941031941031941,0.9434889434889435,0.9434889434889435,0.9459459459459459,0.9459459459459459,0.9484029484029484,0.9484029484029484,0.9508599508599509,0.9508599508599509,0.9533169533169533,0.9533169533169533,0.9557739557739557,0.9557739557739557,0.9582309582309583,0.9582309582309583,0.9606879606879607,0.9606879606879607,0.9631449631449631,0.9631449631449631,0.9656019656019657,0.9656019656019657,0.9680589680589681,0.9680589680589681,0.972972972972973,0.972972972972973,0.9754299754299754,0.9754299754299754,0.9778869778869779,0.9778869778869779,0.9803439803439803,0.9803439803439803,0.9828009828009828,0.9828009828009828,0.9852579852579852,0.9852579852579852,0.9877149877149877,0.9877149877149877,0.9901719901719902,0.9901719901719902,0.9926289926289926,0.9926289926289926,0.995085995085995,0.995085995085995,0.9975429975429976,0.9975429975429976,1.0,1.0],\"type\":\"scatter\"},{\"line\":{\"dash\":\"dot\",\"width\":2},\"name\":\"\\u0421\\u043b\\u0443\\u0447\\u0430\\u0439\\u043d\\u0430\\u044f \\u043c\\u043e\\u0434\\u0435\\u043b\\u044c\",\"x\":[0.0,1.0],\"y\":[0.0,1.0],\"type\":\"scatter\"}],                        {\"height\":550,\"title\":{\"text\":\"ROC-\\u043a\\u0440\\u0438\\u0432\\u0430\\u044f\"},\"width\":800,\"xaxis\":{\"title\":{\"text\":\"\\u041b\\u043e\\u0436\\u043d\\u043e\\u043f\\u043e\\u043b\\u043e\\u0436\\u0438\\u0442\\u0435\\u043b\\u044c\\u043d\\u044b\\u0435 \\u043e\\u0442\\u0432\\u0435\\u0442\\u044b (False Positive Rate)\"}},\"yaxis\":{\"title\":{\"text\":\"\\u0418\\u0441\\u0442\\u0438\\u043d\\u043d\\u043e \\u043f\\u043e\\u043b\\u043e\\u0436\\u0438\\u0442\\u0435\\u043b\\u044c\\u043d\\u044b\\u0435 \\u043e\\u0442\\u0432\\u0435\\u0442\\u044b (True Positive Rate)\"}},\"template\":{\"data\":{\"histogram2dcontour\":[{\"type\":\"histogram2dcontour\",\"colorbar\":{\"outlinewidth\":0,\"ticks\":\"\"},\"colorscale\":[[0.0,\"#0d0887\"],[0.1111111111111111,\"#46039f\"],[0.2222222222222222,\"#7201a8\"],[0.3333333333333333,\"#9c179e\"],[0.4444444444444444,\"#bd3786\"],[0.5555555555555556,\"#d8576b\"],[0.6666666666666666,\"#ed7953\"],[0.7777777777777778,\"#fb9f3a\"],[0.8888888888888888,\"#fdca26\"],[1.0,\"#f0f921\"]]}],\"choropleth\":[{\"type\":\"choropleth\",\"colorbar\":{\"outlinewidth\":0,\"ticks\":\"\"}}],\"histogram2d\":[{\"type\":\"histogram2d\",\"colorbar\":{\"outlinewidth\":0,\"ticks\":\"\"},\"colorscale\":[[0.0,\"#0d0887\"],[0.1111111111111111,\"#46039f\"],[0.2222222222222222,\"#7201a8\"],[0.3333333333333333,\"#9c179e\"],[0.4444444444444444,\"#bd3786\"],[0.5555555555555556,\"#d8576b\"],[0.6666666666666666,\"#ed7953\"],[0.7777777777777778,\"#fb9f3a\"],[0.8888888888888888,\"#fdca26\"],[1.0,\"#f0f921\"]]}],\"heatmap\":[{\"type\":\"heatmap\",\"colorbar\":{\"outlinewidth\":0,\"ticks\":\"\"},\"colorscale\":[[0.0,\"#0d0887\"],[0.1111111111111111,\"#46039f\"],[0.2222222222222222,\"#7201a8\"],[0.3333333333333333,\"#9c179e\"],[0.4444444444444444,\"#bd3786\"],[0.5555555555555556,\"#d8576b\"],[0.6666666666666666,\"#ed7953\"],[0.7777777777777778,\"#fb9f3a\"],[0.8888888888888888,\"#fdca26\"],[1.0,\"#f0f921\"]]}],\"heatmapgl\":[{\"type\":\"heatmapgl\",\"colorbar\":{\"outlinewidth\":0,\"ticks\":\"\"},\"colorscale\":[[0.0,\"#0d0887\"],[0.1111111111111111,\"#46039f\"],[0.2222222222222222,\"#7201a8\"],[0.3333333333333333,\"#9c179e\"],[0.4444444444444444,\"#bd3786\"],[0.5555555555555556,\"#d8576b\"],[0.6666666666666666,\"#ed7953\"],[0.7777777777777778,\"#fb9f3a\"],[0.8888888888888888,\"#fdca26\"],[1.0,\"#f0f921\"]]}],\"contourcarpet\":[{\"type\":\"contourcarpet\",\"colorbar\":{\"outlinewidth\":0,\"ticks\":\"\"}}],\"contour\":[{\"type\":\"contour\",\"colorbar\":{\"outlinewidth\":0,\"ticks\":\"\"},\"colorscale\":[[0.0,\"#0d0887\"],[0.1111111111111111,\"#46039f\"],[0.2222222222222222,\"#7201a8\"],[0.3333333333333333,\"#9c179e\"],[0.4444444444444444,\"#bd3786\"],[0.5555555555555556,\"#d8576b\"],[0.6666666666666666,\"#ed7953\"],[0.7777777777777778,\"#fb9f3a\"],[0.8888888888888888,\"#fdca26\"],[1.0,\"#f0f921\"]]}],\"surface\":[{\"type\":\"surface\",\"colorbar\":{\"outlinewidth\":0,\"ticks\":\"\"},\"colorscale\":[[0.0,\"#0d0887\"],[0.1111111111111111,\"#46039f\"],[0.2222222222222222,\"#7201a8\"],[0.3333333333333333,\"#9c179e\"],[0.4444444444444444,\"#bd3786\"],[0.5555555555555556,\"#d8576b\"],[0.6666666666666666,\"#ed7953\"],[0.7777777777777778,\"#fb9f3a\"],[0.8888888888888888,\"#fdca26\"],[1.0,\"#f0f921\"]]}],\"mesh3d\":[{\"type\":\"mesh3d\",\"colorbar\":{\"outlinewidth\":0,\"ticks\":\"\"}}],\"scatter\":[{\"fillpattern\":{\"fillmode\":\"overlay\",\"size\":10,\"solidity\":0.2},\"type\":\"scatter\"}],\"parcoords\":[{\"type\":\"parcoords\",\"line\":{\"colorbar\":{\"outlinewidth\":0,\"ticks\":\"\"}}}],\"scatterpolargl\":[{\"type\":\"scatterpolargl\",\"marker\":{\"colorbar\":{\"outlinewidth\":0,\"ticks\":\"\"}}}],\"bar\":[{\"error_x\":{\"color\":\"#2a3f5f\"},\"error_y\":{\"color\":\"#2a3f5f\"},\"marker\":{\"line\":{\"color\":\"#E5ECF6\",\"width\":0.5},\"pattern\":{\"fillmode\":\"overlay\",\"size\":10,\"solidity\":0.2}},\"type\":\"bar\"}],\"scattergeo\":[{\"type\":\"scattergeo\",\"marker\":{\"colorbar\":{\"outlinewidth\":0,\"ticks\":\"\"}}}],\"scatterpolar\":[{\"type\":\"scatterpolar\",\"marker\":{\"colorbar\":{\"outlinewidth\":0,\"ticks\":\"\"}}}],\"histogram\":[{\"marker\":{\"pattern\":{\"fillmode\":\"overlay\",\"size\":10,\"solidity\":0.2}},\"type\":\"histogram\"}],\"scattergl\":[{\"type\":\"scattergl\",\"marker\":{\"colorbar\":{\"outlinewidth\":0,\"ticks\":\"\"}}}],\"scatter3d\":[{\"type\":\"scatter3d\",\"line\":{\"colorbar\":{\"outlinewidth\":0,\"ticks\":\"\"}},\"marker\":{\"colorbar\":{\"outlinewidth\":0,\"ticks\":\"\"}}}],\"scattermapbox\":[{\"type\":\"scattermapbox\",\"marker\":{\"colorbar\":{\"outlinewidth\":0,\"ticks\":\"\"}}}],\"scatterternary\":[{\"type\":\"scatterternary\",\"marker\":{\"colorbar\":{\"outlinewidth\":0,\"ticks\":\"\"}}}],\"scattercarpet\":[{\"type\":\"scattercarpet\",\"marker\":{\"colorbar\":{\"outlinewidth\":0,\"ticks\":\"\"}}}],\"carpet\":[{\"aaxis\":{\"endlinecolor\":\"#2a3f5f\",\"gridcolor\":\"white\",\"linecolor\":\"white\",\"minorgridcolor\":\"white\",\"startlinecolor\":\"#2a3f5f\"},\"baxis\":{\"endlinecolor\":\"#2a3f5f\",\"gridcolor\":\"white\",\"linecolor\":\"white\",\"minorgridcolor\":\"white\",\"startlinecolor\":\"#2a3f5f\"},\"type\":\"carpet\"}],\"table\":[{\"cells\":{\"fill\":{\"color\":\"#EBF0F8\"},\"line\":{\"color\":\"white\"}},\"header\":{\"fill\":{\"color\":\"#C8D4E3\"},\"line\":{\"color\":\"white\"}},\"type\":\"table\"}],\"barpolar\":[{\"marker\":{\"line\":{\"color\":\"#E5ECF6\",\"width\":0.5},\"pattern\":{\"fillmode\":\"overlay\",\"size\":10,\"solidity\":0.2}},\"type\":\"barpolar\"}],\"pie\":[{\"automargin\":true,\"type\":\"pie\"}]},\"layout\":{\"autotypenumbers\":\"strict\",\"colorway\":[\"#636efa\",\"#EF553B\",\"#00cc96\",\"#ab63fa\",\"#FFA15A\",\"#19d3f3\",\"#FF6692\",\"#B6E880\",\"#FF97FF\",\"#FECB52\"],\"font\":{\"color\":\"#2a3f5f\"},\"hovermode\":\"closest\",\"hoverlabel\":{\"align\":\"left\"},\"paper_bgcolor\":\"white\",\"plot_bgcolor\":\"#E5ECF6\",\"polar\":{\"bgcolor\":\"#E5ECF6\",\"angularaxis\":{\"gridcolor\":\"white\",\"linecolor\":\"white\",\"ticks\":\"\"},\"radialaxis\":{\"gridcolor\":\"white\",\"linecolor\":\"white\",\"ticks\":\"\"}},\"ternary\":{\"bgcolor\":\"#E5ECF6\",\"aaxis\":{\"gridcolor\":\"white\",\"linecolor\":\"white\",\"ticks\":\"\"},\"baxis\":{\"gridcolor\":\"white\",\"linecolor\":\"white\",\"ticks\":\"\"},\"caxis\":{\"gridcolor\":\"white\",\"linecolor\":\"white\",\"ticks\":\"\"}},\"coloraxis\":{\"colorbar\":{\"outlinewidth\":0,\"ticks\":\"\"}},\"colorscale\":{\"sequential\":[[0.0,\"#0d0887\"],[0.1111111111111111,\"#46039f\"],[0.2222222222222222,\"#7201a8\"],[0.3333333333333333,\"#9c179e\"],[0.4444444444444444,\"#bd3786\"],[0.5555555555555556,\"#d8576b\"],[0.6666666666666666,\"#ed7953\"],[0.7777777777777778,\"#fb9f3a\"],[0.8888888888888888,\"#fdca26\"],[1.0,\"#f0f921\"]],\"sequentialminus\":[[0.0,\"#0d0887\"],[0.1111111111111111,\"#46039f\"],[0.2222222222222222,\"#7201a8\"],[0.3333333333333333,\"#9c179e\"],[0.4444444444444444,\"#bd3786\"],[0.5555555555555556,\"#d8576b\"],[0.6666666666666666,\"#ed7953\"],[0.7777777777777778,\"#fb9f3a\"],[0.8888888888888888,\"#fdca26\"],[1.0,\"#f0f921\"]],\"diverging\":[[0,\"#8e0152\"],[0.1,\"#c51b7d\"],[0.2,\"#de77ae\"],[0.3,\"#f1b6da\"],[0.4,\"#fde0ef\"],[0.5,\"#f7f7f7\"],[0.6,\"#e6f5d0\"],[0.7,\"#b8e186\"],[0.8,\"#7fbc41\"],[0.9,\"#4d9221\"],[1,\"#276419\"]]},\"xaxis\":{\"gridcolor\":\"white\",\"linecolor\":\"white\",\"ticks\":\"\",\"title\":{\"standoff\":15},\"zerolinecolor\":\"white\",\"automargin\":true,\"zerolinewidth\":2},\"yaxis\":{\"gridcolor\":\"white\",\"linecolor\":\"white\",\"ticks\":\"\",\"title\":{\"standoff\":15},\"zerolinecolor\":\"white\",\"automargin\":true,\"zerolinewidth\":2},\"scene\":{\"xaxis\":{\"backgroundcolor\":\"#E5ECF6\",\"gridcolor\":\"white\",\"linecolor\":\"white\",\"showbackground\":true,\"ticks\":\"\",\"zerolinecolor\":\"white\",\"gridwidth\":2},\"yaxis\":{\"backgroundcolor\":\"#E5ECF6\",\"gridcolor\":\"white\",\"linecolor\":\"white\",\"showbackground\":true,\"ticks\":\"\",\"zerolinecolor\":\"white\",\"gridwidth\":2},\"zaxis\":{\"backgroundcolor\":\"#E5ECF6\",\"gridcolor\":\"white\",\"linecolor\":\"white\",\"showbackground\":true,\"ticks\":\"\",\"zerolinecolor\":\"white\",\"gridwidth\":2}},\"shapedefaults\":{\"line\":{\"color\":\"#2a3f5f\"}},\"annotationdefaults\":{\"arrowcolor\":\"#2a3f5f\",\"arrowhead\":0,\"arrowwidth\":1},\"geo\":{\"bgcolor\":\"white\",\"landcolor\":\"#E5ECF6\",\"subunitcolor\":\"white\",\"showland\":true,\"showlakes\":true,\"lakecolor\":\"white\"},\"title\":{\"x\":0.05},\"mapbox\":{\"style\":\"light\"}}}},                        {\"responsive\": true}                    ).then(function(){\n",
              "                            \n",
              "var gd = document.getElementById('8aee69de-e39c-4c39-a306-b6c1498226af');\n",
              "var x = new MutationObserver(function (mutations, observer) {{\n",
              "        var display = window.getComputedStyle(gd).display;\n",
              "        if (!display || display === 'none') {{\n",
              "            console.log([gd, 'removed!']);\n",
              "            Plotly.purge(gd);\n",
              "            observer.disconnect();\n",
              "        }}\n",
              "}});\n",
              "\n",
              "// Listen for the removal of the full notebook cells\n",
              "var notebookContainer = gd.closest('#notebook-container');\n",
              "if (notebookContainer) {{\n",
              "    x.observe(notebookContainer, {childList: true});\n",
              "}}\n",
              "\n",
              "// Listen for the clearing of the current output cell\n",
              "var outputEl = gd.closest('.output');\n",
              "if (outputEl) {{\n",
              "    x.observe(outputEl, {childList: true});\n",
              "}}\n",
              "\n",
              "                        })                };                            </script>        </div>\n",
              "</body>\n",
              "</html>"
            ]
          },
          "metadata": {}
        }
      ]
    },
    {
      "cell_type": "code",
      "source": [
        "# проверим финальную модель на адекватность\n",
        "strategies = ['stratified', 'most_frequent', 'uniform']\n",
        "\n",
        "dummy_results = []\n",
        "for strategy in strategies:\n",
        "    dc = DummyClassifier(strategy = strategy, random_state = 42)\n",
        "\n",
        "    dc.fit(features_train, target_train)\n",
        "    result = dc.score(features_test, target_test)\n",
        "    dummy_results.append({strategy: result})\n",
        "\n",
        "pd.DataFrame(dummy_results).style.highlight_max(color = 'lightblue', axis = 1)"
      ],
      "metadata": {
        "colab": {
          "base_uri": "https://localhost:8080/",
          "height": 143
        },
        "id": "64Q5RlgDZCX9",
        "outputId": "6fccf225-131d-4e3f-a19e-49a398471303"
      },
      "execution_count": 49,
      "outputs": [
        {
          "output_type": "execute_result",
          "data": {
            "text/plain": [
              "<pandas.io.formats.style.Styler at 0x7fcf512a1ab0>"
            ],
            "text/html": [
              "<style type=\"text/css\">\n",
              "#T_1a6c0_row0_col0, #T_1a6c0_row1_col1, #T_1a6c0_row2_col2 {\n",
              "  background-color: lightblue;\n",
              "}\n",
              "</style>\n",
              "<table id=\"T_1a6c0\" class=\"dataframe\">\n",
              "  <thead>\n",
              "    <tr>\n",
              "      <th class=\"blank level0\" >&nbsp;</th>\n",
              "      <th id=\"T_1a6c0_level0_col0\" class=\"col_heading level0 col0\" >stratified</th>\n",
              "      <th id=\"T_1a6c0_level0_col1\" class=\"col_heading level0 col1\" >most_frequent</th>\n",
              "      <th id=\"T_1a6c0_level0_col2\" class=\"col_heading level0 col2\" >uniform</th>\n",
              "    </tr>\n",
              "  </thead>\n",
              "  <tbody>\n",
              "    <tr>\n",
              "      <th id=\"T_1a6c0_level0_row0\" class=\"row_heading level0 row0\" >0</th>\n",
              "      <td id=\"T_1a6c0_row0_col0\" class=\"data row0 col0\" >0.672000</td>\n",
              "      <td id=\"T_1a6c0_row0_col1\" class=\"data row0 col1\" >nan</td>\n",
              "      <td id=\"T_1a6c0_row0_col2\" class=\"data row0 col2\" >nan</td>\n",
              "    </tr>\n",
              "    <tr>\n",
              "      <th id=\"T_1a6c0_level0_row1\" class=\"row_heading level0 row1\" >1</th>\n",
              "      <td id=\"T_1a6c0_row1_col0\" class=\"data row1 col0\" >nan</td>\n",
              "      <td id=\"T_1a6c0_row1_col1\" class=\"data row1 col1\" >0.796500</td>\n",
              "      <td id=\"T_1a6c0_row1_col2\" class=\"data row1 col2\" >nan</td>\n",
              "    </tr>\n",
              "    <tr>\n",
              "      <th id=\"T_1a6c0_level0_row2\" class=\"row_heading level0 row2\" >2</th>\n",
              "      <td id=\"T_1a6c0_row2_col0\" class=\"data row2 col0\" >nan</td>\n",
              "      <td id=\"T_1a6c0_row2_col1\" class=\"data row2 col1\" >nan</td>\n",
              "      <td id=\"T_1a6c0_row2_col2\" class=\"data row2 col2\" >0.506500</td>\n",
              "    </tr>\n",
              "  </tbody>\n",
              "</table>\n"
            ]
          },
          "metadata": {},
          "execution_count": 49
        }
      ]
    },
    {
      "cell_type": "markdown",
      "source": [
        "> Видим, что модель \"Случайного леса\" с гиперпараметрами n_estimators = 39, max_depth = 10, min_samples_split = 2 и min_samples_leaf = 2 работает лучше, чем стратегии случайного прогнозирования классификатора DummyClassifier()."
      ],
      "metadata": {
        "id": "oMFZQucDZItV"
      }
    },
    {
      "cell_type": "code",
      "source": [
        "sns.heatmap(confusion_matrix(target_test, predictions_final),annot=True,fmt='3.0f',cmap=\"spring\")\n",
        "plt.title('Confusion_matrix', y=1.05, size=15);"
      ],
      "metadata": {
        "colab": {
          "base_uri": "https://localhost:8080/",
          "height": 477
        },
        "id": "PkMJADKxZM76",
        "outputId": "1cd766be-6760-4697-9aec-e5c014864d68"
      },
      "execution_count": 50,
      "outputs": [
        {
          "output_type": "display_data",
          "data": {
            "text/plain": [
              "<Figure size 640x480 with 2 Axes>"
            ],
            "image/png": "[encoded data removed]"
          },
          "metadata": {}
        }
      ]
    }
  ]
}